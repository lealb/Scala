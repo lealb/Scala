{
 "cells": [
  {
   "cell_type": "markdown",
   "metadata": {},
   "source": [
    "### 11.1. Different Ways to Create and Populate a List"
   ]
  },
  {
   "cell_type": "code",
   "execution_count": 2,
   "metadata": {},
   "outputs": [
    {
     "data": {
      "text/plain": [
       "\u001b[36mlist1\u001b[0m: \u001b[32mList\u001b[0m[\u001b[32mInt\u001b[0m] = \u001b[33mList\u001b[0m(\u001b[32m1\u001b[0m, \u001b[32m2\u001b[0m, \u001b[32m3\u001b[0m)\n",
       "\u001b[36mlist2\u001b[0m: \u001b[32mList\u001b[0m[\u001b[32mInt\u001b[0m] = \u001b[33mList\u001b[0m(\u001b[32m1\u001b[0m, \u001b[32m2\u001b[0m, \u001b[32m3\u001b[0m)\n",
       "\u001b[36mlist3a\u001b[0m: \u001b[32mList\u001b[0m[\u001b[32mDouble\u001b[0m] = \u001b[33mList\u001b[0m(\u001b[32m1.0\u001b[0m, \u001b[32m2.0\u001b[0m, \u001b[32m33.0\u001b[0m, \u001b[32m4000.0\u001b[0m)\n",
       "\u001b[36mlist3b\u001b[0m: \u001b[32mList\u001b[0m[\u001b[32mNumber\u001b[0m] = \u001b[33mList\u001b[0m(1, 2.0, 33.0, 4000)"
      ]
     },
     "metadata": {},
     "output_type": "display_data"
    }
   ],
   "source": [
    "//1\n",
    " val list1 = 1 :: 2 :: 3 :: Nil\n",
    "//2\n",
    " val list2 = List(1, 2, 3)\n",
    "//3a\n",
    " val list3a = List(1, 2.0, 33D, 4000L)\n",
    "//3b\n",
    " val list3b = List[Number](1, 2.0, 33D, 4000L)"
   ]
  },
  {
   "cell_type": "code",
   "execution_count": 3,
   "metadata": {},
   "outputs": [
    {
     "data": {
      "text/plain": [
       "\u001b[36mlist4\u001b[0m: \u001b[32mList\u001b[0m[\u001b[32mInt\u001b[0m] = \u001b[33mList\u001b[0m(\n",
       "  \u001b[32m1\u001b[0m,\n",
       "  \u001b[32m2\u001b[0m,\n",
       "  \u001b[32m3\u001b[0m,\n",
       "  \u001b[32m4\u001b[0m,\n",
       "  \u001b[32m5\u001b[0m,\n",
       "  \u001b[32m6\u001b[0m,\n",
       "  \u001b[32m7\u001b[0m,\n",
       "  \u001b[32m8\u001b[0m,\n",
       "  \u001b[32m9\u001b[0m\n",
       ")\n",
       "\u001b[36mlist5\u001b[0m: \u001b[32mList\u001b[0m[\u001b[32mString\u001b[0m] = \u001b[33mList\u001b[0m(\u001b[32m\"foo\"\u001b[0m, \u001b[32m\"foo\"\u001b[0m, \u001b[32m\"foo\"\u001b[0m)\n",
       "\u001b[36mlist6\u001b[0m: \u001b[32mList\u001b[0m[\u001b[32mInt\u001b[0m] = \u001b[33mList\u001b[0m(\u001b[32m0\u001b[0m, \u001b[32m1\u001b[0m, \u001b[32m4\u001b[0m, \u001b[32m9\u001b[0m, \u001b[32m16\u001b[0m)"
      ]
     },
     "metadata": {},
     "output_type": "display_data"
    }
   ],
   "source": [
    "//4\n",
    " val list4 = List.range(1, 10)\n",
    "//5\n",
    " val list5 = List.fill(3)(\"foo\")\n",
    "//6\n",
    " val list6 = List.tabulate(5)(n => n * n)"
   ]
  },
  {
   "cell_type": "code",
   "execution_count": 4,
   "metadata": {},
   "outputs": [
    {
     "data": {
      "text/plain": [
       "\u001b[36mlist7\u001b[0m: \u001b[32mList\u001b[0m[\u001b[32mInt\u001b[0m] = \u001b[33mList\u001b[0m(\u001b[32m1\u001b[0m, \u001b[32m2\u001b[0m, \u001b[32m3\u001b[0m)\n",
       "\u001b[36mlist8\u001b[0m: \u001b[32mList\u001b[0m[\u001b[32mChar\u001b[0m] = \u001b[33mList\u001b[0m(\u001b[32m'f'\u001b[0m, \u001b[32m'o'\u001b[0m, \u001b[32m'o'\u001b[0m)"
      ]
     },
     "metadata": {},
     "output_type": "display_data"
    }
   ],
   "source": [
    "//7\n",
    "val list7= collection.mutable.ListBuffer(1, 2, 3).toList\n",
    "//8\n",
    " val list8=\"foo\".toList"
   ]
  },
  {
   "cell_type": "markdown",
   "metadata": {},
   "source": [
    "### 11.2. Creating a Mutable List\n",
    "- Use a ListBuffer, and convert the ListBuffer to a List when needed."
   ]
  },
  {
   "cell_type": "code",
   "execution_count": 7,
   "metadata": {},
   "outputs": [
    {
     "data": {
      "text/plain": [
       "\u001b[32mimport \u001b[36mscala.collection.mutable.ListBuffer\u001b[0m\n",
       "\u001b[36mfruits\u001b[0m: \u001b[32mListBuffer\u001b[0m[\u001b[32mString\u001b[0m] = \u001b[33mListBuffer\u001b[0m(\u001b[32m\"Apple\"\u001b[0m, \u001b[32m\"Banana\"\u001b[0m, \u001b[32m\"Orange\"\u001b[0m)\n",
       "\u001b[36mres5_2\u001b[0m: \u001b[32mListBuffer\u001b[0m[\u001b[32mString\u001b[0m] = \u001b[33mListBuffer\u001b[0m(\u001b[32m\"Apple\"\u001b[0m, \u001b[32m\"Banana\"\u001b[0m, \u001b[32m\"Orange\"\u001b[0m)\n",
       "\u001b[36mres5_3\u001b[0m: \u001b[32mListBuffer\u001b[0m[\u001b[32mString\u001b[0m] = \u001b[33mListBuffer\u001b[0m(\u001b[32m\"Apple\"\u001b[0m, \u001b[32m\"Banana\"\u001b[0m, \u001b[32m\"Orange\"\u001b[0m)\n",
       "\u001b[36mres5_4\u001b[0m: \u001b[32mListBuffer\u001b[0m[\u001b[32mString\u001b[0m] = \u001b[33mListBuffer\u001b[0m(\u001b[32m\"Apple\"\u001b[0m, \u001b[32m\"Banana\"\u001b[0m, \u001b[32m\"Orange\"\u001b[0m)"
      ]
     },
     "metadata": {},
     "output_type": "display_data"
    }
   ],
   "source": [
    "import scala.collection.mutable.ListBuffer\n",
    "var fruits = new ListBuffer[String]()\n",
    "// add one element at a time to the ListBuffer \n",
    "fruits += \"Apple\" \n",
    "fruits += \"Banana\"\n",
    "fruits += \"Orange\""
   ]
  },
  {
   "cell_type": "code",
   "execution_count": 8,
   "metadata": {},
   "outputs": [
    {
     "data": {
      "text/plain": [
       "\u001b[36mres6\u001b[0m: \u001b[32mListBuffer\u001b[0m[\u001b[32mString\u001b[0m] = \u001b[33mListBuffer\u001b[0m(\n",
       "  \u001b[32m\"Apple\"\u001b[0m,\n",
       "  \u001b[32m\"Banana\"\u001b[0m,\n",
       "  \u001b[32m\"Orange\"\u001b[0m,\n",
       "  \u001b[32m\"Strawberry\"\u001b[0m,\n",
       "  \u001b[32m\"Kiwi\"\u001b[0m,\n",
       "  \u001b[32m\"Pineapple\"\u001b[0m\n",
       ")"
      ]
     },
     "metadata": {},
     "output_type": "display_data"
    }
   ],
   "source": [
    "// add multiple elements \n",
    "fruits += (\"Strawberry\", \"Kiwi\", \"Pineapple\")"
   ]
  },
  {
   "cell_type": "code",
   "execution_count": 9,
   "metadata": {},
   "outputs": [
    {
     "data": {
      "text/plain": [
       "\u001b[36mres7\u001b[0m: \u001b[32mListBuffer\u001b[0m[\u001b[32mString\u001b[0m] = \u001b[33mListBuffer\u001b[0m(\n",
       "  \u001b[32m\"Banana\"\u001b[0m,\n",
       "  \u001b[32m\"Orange\"\u001b[0m,\n",
       "  \u001b[32m\"Strawberry\"\u001b[0m,\n",
       "  \u001b[32m\"Kiwi\"\u001b[0m,\n",
       "  \u001b[32m\"Pineapple\"\u001b[0m\n",
       ")"
      ]
     },
     "metadata": {},
     "output_type": "display_data"
    }
   ],
   "source": [
    "// remove one element \n",
    "fruits -= \"Apple\""
   ]
  },
  {
   "cell_type": "code",
   "execution_count": 10,
   "metadata": {},
   "outputs": [
    {
     "data": {
      "text/plain": [
       "\u001b[36mres8\u001b[0m: \u001b[32mListBuffer\u001b[0m[\u001b[32mString\u001b[0m] = \u001b[33mListBuffer\u001b[0m(\u001b[32m\"Strawberry\"\u001b[0m, \u001b[32m\"Kiwi\"\u001b[0m, \u001b[32m\"Pineapple\"\u001b[0m)"
      ]
     },
     "metadata": {},
     "output_type": "display_data"
    }
   ],
   "source": [
    "// remove multiple elements \n",
    "fruits -= (\"Banana\", \"Orange\")"
   ]
  },
  {
   "cell_type": "code",
   "execution_count": 11,
   "metadata": {},
   "outputs": [
    {
     "data": {
      "text/plain": [
       "\u001b[36mres9\u001b[0m: \u001b[32mListBuffer\u001b[0m[\u001b[32mString\u001b[0m] = \u001b[33mListBuffer\u001b[0m(\u001b[32m\"Strawberry\"\u001b[0m)"
      ]
     },
     "metadata": {},
     "output_type": "display_data"
    }
   ],
   "source": [
    "// remove multiple elements specified by another sequence \n",
    "fruits --= Seq(\"Kiwi\", \"Pineapple\")"
   ]
  },
  {
   "cell_type": "code",
   "execution_count": 12,
   "metadata": {},
   "outputs": [
    {
     "data": {
      "text/plain": [
       "\u001b[36mfruitsList\u001b[0m: \u001b[32mList\u001b[0m[\u001b[32mString\u001b[0m] = \u001b[33mList\u001b[0m(\u001b[32m\"Strawberry\"\u001b[0m)"
      ]
     },
     "metadata": {},
     "output_type": "display_data"
    }
   ],
   "source": [
    "// convert the ListBuffer to a List when you need to\n",
    "val fruitsList = fruits.toList"
   ]
  },
  {
   "cell_type": "code",
   "execution_count": 13,
   "metadata": {},
   "outputs": [
    {
     "data": {
      "text/plain": [
       "\u001b[36mx\u001b[0m: \u001b[32mList\u001b[0m[\u001b[32mInt\u001b[0m] = \u001b[33mList\u001b[0m(\u001b[32m2\u001b[0m)"
      ]
     },
     "metadata": {},
     "output_type": "display_data"
    }
   ],
   "source": [
    "val x=List(2)"
   ]
  },
  {
   "cell_type": "code",
   "execution_count": 14,
   "metadata": {},
   "outputs": [
    {
     "data": {
      "text/plain": [
       "\u001b[36mres12\u001b[0m: \u001b[32mList\u001b[0m[\u001b[32mInt\u001b[0m] = \u001b[33mList\u001b[0m(\u001b[32m1\u001b[0m, \u001b[32m2\u001b[0m)"
      ]
     },
     "metadata": {},
     "output_type": "display_data"
    }
   ],
   "source": [
    "1::x"
   ]
  },
  {
   "cell_type": "code",
   "execution_count": 15,
   "metadata": {},
   "outputs": [
    {
     "ename": "",
     "evalue": "",
     "output_type": "error",
     "traceback": [
      "Compilation Failed",
      "\u001b[31mMain.scala:102: value :: is not a member of Int\r",
      "x::0\r",
      " ^\u001b[0m"
     ]
    }
   ],
   "source": [
    "x::0"
   ]
  },
  {
   "cell_type": "markdown",
   "metadata": {},
   "source": [
    "### 11.3. Adding Elements to a List"
   ]
  },
  {
   "cell_type": "code",
   "execution_count": 19,
   "metadata": {},
   "outputs": [
    {
     "data": {
      "text/plain": [
       "\u001b[36mx\u001b[0m: \u001b[32mList\u001b[0m[\u001b[32mInt\u001b[0m] = \u001b[33mList\u001b[0m(\u001b[32m1\u001b[0m)\n",
       "\u001b[36my\u001b[0m: \u001b[32mList\u001b[0m[\u001b[32mInt\u001b[0m] = \u001b[33mList\u001b[0m(\u001b[32m0\u001b[0m, \u001b[32m1\u001b[0m)\n",
       "\u001b[36mres15_2\u001b[0m: \u001b[32mList\u001b[0m[\u001b[32mInt\u001b[0m] = \u001b[33mList\u001b[0m(\u001b[32m0\u001b[0m, \u001b[32m1\u001b[0m, \u001b[32m2\u001b[0m)\n",
       "\u001b[36mres15_3\u001b[0m: \u001b[32mList\u001b[0m[\u001b[32mInt\u001b[0m] = \u001b[33mList\u001b[0m(\u001b[32m2\u001b[0m, \u001b[32m0\u001b[0m, \u001b[32m1\u001b[0m)"
      ]
     },
     "metadata": {},
     "output_type": "display_data"
    }
   ],
   "source": [
    "val x = List(1)\n",
    "val y = 0 +: x\n",
    "y:+2\n",
    "2+:y"
   ]
  },
  {
   "cell_type": "code",
   "execution_count": 20,
   "metadata": {},
   "outputs": [
    {
     "data": {
      "text/plain": [
       "\u001b[36mx\u001b[0m: \u001b[32mList\u001b[0m[\u001b[32mInt\u001b[0m] = \u001b[33mList\u001b[0m(\u001b[32m10\u001b[0m)\n",
       "\u001b[36mres16_1\u001b[0m: \u001b[32mList\u001b[0m[\u001b[32mInt\u001b[0m] = \u001b[33mList\u001b[0m(\u001b[32m20\u001b[0m, \u001b[32m10\u001b[0m)\n",
       "\u001b[36mres16_2\u001b[0m: \u001b[32mList\u001b[0m[\u001b[32mInt\u001b[0m] = \u001b[33mList\u001b[0m(\u001b[32m30\u001b[0m, \u001b[32m10\u001b[0m)"
      ]
     },
     "metadata": {},
     "output_type": "display_data"
    }
   ],
   "source": [
    "val x=List(10)\n",
    "20::x\n",
    "30::x"
   ]
  },
  {
   "cell_type": "code",
   "execution_count": 21,
   "metadata": {},
   "outputs": [
    {
     "data": {
      "text/plain": [
       "\u001b[36mres17\u001b[0m: \u001b[32mList\u001b[0m[\u001b[32mInt\u001b[0m] = \u001b[33mList\u001b[0m(\u001b[32m10\u001b[0m, \u001b[32m0\u001b[0m, \u001b[32m1\u001b[0m)"
      ]
     },
     "metadata": {},
     "output_type": "display_data"
    }
   ],
   "source": [
    "x:::y"
   ]
  },
  {
   "cell_type": "code",
   "execution_count": 22,
   "metadata": {},
   "outputs": [
    {
     "data": {
      "text/plain": [
       "\u001b[36mres18\u001b[0m: \u001b[32mList\u001b[0m[\u001b[32mAny\u001b[0m] = \u001b[33mList\u001b[0m(List(10), 0, 1)"
      ]
     },
     "metadata": {},
     "output_type": "display_data"
    }
   ],
   "source": [
    "x::y"
   ]
  },
  {
   "cell_type": "markdown",
   "metadata": {},
   "source": [
    "### 11.4. Deleting Elements from a List (or ListBuffer)"
   ]
  },
  {
   "cell_type": "code",
   "execution_count": 23,
   "metadata": {},
   "outputs": [
    {
     "data": {
      "text/plain": [
       "\u001b[36moriginalList\u001b[0m: \u001b[32mList\u001b[0m[\u001b[32mInt\u001b[0m] = \u001b[33mList\u001b[0m(\u001b[32m5\u001b[0m, \u001b[32m1\u001b[0m, \u001b[32m4\u001b[0m, \u001b[32m3\u001b[0m, \u001b[32m2\u001b[0m)"
      ]
     },
     "metadata": {},
     "output_type": "display_data"
    }
   ],
   "source": [
    "val originalList = List(5, 1, 4, 3, 2)"
   ]
  },
  {
   "cell_type": "code",
   "execution_count": 26,
   "metadata": {},
   "outputs": [
    {
     "data": {
      "text/plain": [
       "\u001b[36mnewList\u001b[0m: \u001b[32mList\u001b[0m[\u001b[32mInt\u001b[0m] = \u001b[33mList\u001b[0m(\u001b[32m5\u001b[0m, \u001b[32m4\u001b[0m, \u001b[32m3\u001b[0m)"
      ]
     },
     "metadata": {},
     "output_type": "display_data"
    }
   ],
   "source": [
    "var newList=originalList.filter(_>2)"
   ]
  },
  {
   "cell_type": "code",
   "execution_count": 33,
   "metadata": {},
   "outputs": [
    {
     "ename": "",
     "evalue": "",
     "output_type": "error",
     "traceback": [
      "Compilation Failed",
      "\u001b[31mMain.scala:129: value - is not a member of List[Int]\r",
      "newList -=5\r",
      "        ^\u001b[0m"
     ]
    }
   ],
   "source": [
    "newList -=5"
   ]
  },
  {
   "cell_type": "code",
   "execution_count": 40,
   "metadata": {},
   "outputs": [
    {
     "data": {
      "text/plain": [
       "\u001b[32mimport \u001b[36mscala.collection.mutable.ListBuffer\u001b[0m\n",
       "\u001b[36mx\u001b[0m: \u001b[32mListBuffer\u001b[0m[\u001b[32mInt\u001b[0m] = \u001b[33mListBuffer\u001b[0m(\n",
       "  \u001b[32m1\u001b[0m,\n",
       "  \u001b[32m2\u001b[0m,\n",
       "  \u001b[32m3\u001b[0m,\n",
       "  \u001b[32m4\u001b[0m,\n",
       "  \u001b[32m5\u001b[0m,\n",
       "  \u001b[32m6\u001b[0m,\n",
       "  \u001b[32m7\u001b[0m,\n",
       "  \u001b[32m8\u001b[0m,\n",
       "  \u001b[32m9\u001b[0m\n",
       ")"
      ]
     },
     "metadata": {},
     "output_type": "display_data"
    }
   ],
   "source": [
    "import scala.collection.mutable.ListBuffer \n",
    "val x = ListBuffer(1, 2, 3, 4, 5, 6, 7, 8, 9)"
   ]
  },
  {
   "cell_type": "code",
   "execution_count": 41,
   "metadata": {},
   "outputs": [
    {
     "data": {
      "text/plain": [
       "\u001b[36mres29\u001b[0m: \u001b[32mListBuffer\u001b[0m[\u001b[32mInt\u001b[0m] = \u001b[33mListBuffer\u001b[0m(\n",
       "  \u001b[32m1\u001b[0m,\n",
       "  \u001b[32m2\u001b[0m,\n",
       "  \u001b[32m3\u001b[0m,\n",
       "  \u001b[32m4\u001b[0m,\n",
       "  \u001b[32m6\u001b[0m,\n",
       "  \u001b[32m7\u001b[0m,\n",
       "  \u001b[32m8\u001b[0m,\n",
       "  \u001b[32m9\u001b[0m\n",
       ")"
      ]
     },
     "metadata": {},
     "output_type": "display_data"
    }
   ],
   "source": [
    "x-=5"
   ]
  },
  {
   "cell_type": "code",
   "execution_count": 42,
   "metadata": {},
   "outputs": [
    {
     "data": {
      "text/plain": [
       "\u001b[36mres30\u001b[0m: \u001b[32mListBuffer\u001b[0m[\u001b[32mInt\u001b[0m] = \u001b[33mListBuffer\u001b[0m(\u001b[32m2\u001b[0m, \u001b[32m3\u001b[0m, \u001b[32m4\u001b[0m, \u001b[32m6\u001b[0m, \u001b[32m7\u001b[0m, \u001b[32m8\u001b[0m)"
      ]
     },
     "metadata": {},
     "output_type": "display_data"
    }
   ],
   "source": [
    "x-=(1,9)"
   ]
  },
  {
   "cell_type": "code",
   "execution_count": 43,
   "metadata": {},
   "outputs": [
    {
     "data": {
      "text/plain": [
       "\u001b[36mres31_0\u001b[0m: \u001b[32mInt\u001b[0m = \u001b[32m2\u001b[0m\n",
       "\u001b[36mres31_1\u001b[0m: \u001b[32mListBuffer\u001b[0m[\u001b[32mInt\u001b[0m] = \u001b[33mListBuffer\u001b[0m(\u001b[32m3\u001b[0m, \u001b[32m4\u001b[0m, \u001b[32m6\u001b[0m, \u001b[32m7\u001b[0m, \u001b[32m8\u001b[0m)"
      ]
     },
     "metadata": {},
     "output_type": "display_data"
    }
   ],
   "source": [
    "x.remove(0)\n",
    "x"
   ]
  },
  {
   "cell_type": "code",
   "execution_count": 44,
   "metadata": {},
   "outputs": [
    {
     "data": {
      "text/plain": [
       "\u001b[36mres32\u001b[0m: \u001b[32mListBuffer\u001b[0m[\u001b[32mInt\u001b[0m] = \u001b[33mListBuffer\u001b[0m(\u001b[32m6\u001b[0m, \u001b[32m7\u001b[0m, \u001b[32m8\u001b[0m)"
      ]
     },
     "metadata": {},
     "output_type": "display_data"
    }
   ],
   "source": [
    " x --= Seq(3,4)"
   ]
  },
  {
   "cell_type": "markdown",
   "metadata": {},
   "source": [
    "### 11.5. Merging (Concatenating) Lists"
   ]
  },
  {
   "cell_type": "code",
   "execution_count": 45,
   "metadata": {},
   "outputs": [
    {
     "data": {
      "text/plain": [
       "\u001b[36ma\u001b[0m: \u001b[32mList\u001b[0m[\u001b[32mInt\u001b[0m] = \u001b[33mList\u001b[0m(\u001b[32m1\u001b[0m, \u001b[32m2\u001b[0m, \u001b[32m3\u001b[0m)\n",
       "\u001b[36mb\u001b[0m: \u001b[32mList\u001b[0m[\u001b[32mInt\u001b[0m] = \u001b[33mList\u001b[0m(\u001b[32m4\u001b[0m, \u001b[32m5\u001b[0m, \u001b[32m6\u001b[0m)"
      ]
     },
     "metadata": {},
     "output_type": "display_data"
    }
   ],
   "source": [
    "val a = List(1,2,3)\n",
    "val b = List(4,5,6)"
   ]
  },
  {
   "cell_type": "code",
   "execution_count": 46,
   "metadata": {},
   "outputs": [
    {
     "data": {
      "text/plain": [
       "\u001b[36mres34\u001b[0m: \u001b[32mList\u001b[0m[\u001b[32mInt\u001b[0m] = \u001b[33mList\u001b[0m(\u001b[32m1\u001b[0m, \u001b[32m2\u001b[0m, \u001b[32m3\u001b[0m, \u001b[32m4\u001b[0m, \u001b[32m5\u001b[0m, \u001b[32m6\u001b[0m)"
      ]
     },
     "metadata": {},
     "output_type": "display_data"
    }
   ],
   "source": [
    "a++b"
   ]
  },
  {
   "cell_type": "code",
   "execution_count": 47,
   "metadata": {},
   "outputs": [
    {
     "data": {
      "text/plain": [
       "\u001b[36mres35\u001b[0m: \u001b[32mList\u001b[0m[\u001b[32mInt\u001b[0m] = \u001b[33mList\u001b[0m(\u001b[32m1\u001b[0m, \u001b[32m2\u001b[0m, \u001b[32m3\u001b[0m, \u001b[32m4\u001b[0m, \u001b[32m5\u001b[0m, \u001b[32m6\u001b[0m)"
      ]
     },
     "metadata": {},
     "output_type": "display_data"
    }
   ],
   "source": [
    "a:::b"
   ]
  },
  {
   "cell_type": "code",
   "execution_count": 48,
   "metadata": {},
   "outputs": [
    {
     "data": {
      "text/plain": [
       "\u001b[36mres36\u001b[0m: \u001b[32mList\u001b[0m[\u001b[32mAny\u001b[0m] = \u001b[33mList\u001b[0m(List(1, 2, 3), 4, 5, 6)"
      ]
     },
     "metadata": {},
     "output_type": "display_data"
    }
   ],
   "source": [
    "a::b"
   ]
  },
  {
   "cell_type": "code",
   "execution_count": 49,
   "metadata": {},
   "outputs": [
    {
     "data": {
      "text/plain": [
       "\u001b[36mres37\u001b[0m: \u001b[32mList\u001b[0m[\u001b[32mInt\u001b[0m] = \u001b[33mList\u001b[0m(\u001b[32m1\u001b[0m, \u001b[32m2\u001b[0m, \u001b[32m3\u001b[0m, \u001b[32m4\u001b[0m, \u001b[32m5\u001b[0m, \u001b[32m6\u001b[0m)"
      ]
     },
     "metadata": {},
     "output_type": "display_data"
    }
   ],
   "source": [
    "List.concat(a, b)"
   ]
  },
  {
   "cell_type": "markdown",
   "metadata": {},
   "source": [
    "### 11.6. Using Stream, a Lazy Version of a List\n",
    "- A Stream is like a List, except that its elements are computed lazily\n",
    "-  a Stream can be constructed with the #::"
   ]
  },
  {
   "cell_type": "code",
   "execution_count": 50,
   "metadata": {},
   "outputs": [
    {
     "data": {
      "text/plain": [
       "\u001b[36mstream\u001b[0m: \u001b[32mStream\u001b[0m[\u001b[32mInt\u001b[0m] = \u001b[33mStream\u001b[0m(\n",
       "  \u001b[32m1\u001b[0m,\n",
       "  \u001b[32m2\u001b[0m,\n",
       "  \u001b[32m3\u001b[0m\n",
       ")"
      ]
     },
     "metadata": {},
     "output_type": "display_data"
    }
   ],
   "source": [
    " val stream = 1 #:: 2 #:: 3 #:: Stream.empty"
   ]
  },
  {
   "cell_type": "code",
   "execution_count": 2,
   "metadata": {},
   "outputs": [
    {
     "data": {
      "text/plain": [
       "\u001b[36mstream\u001b[0m: \u001b[32mStream\u001b[0m[\u001b[32mInt\u001b[0m] = \u001b[33mStream\u001b[0m(\n",
       "  \u001b[32m1\u001b[0m,\n",
       "  \u001b[32m2\u001b[0m,\n",
       "  \u001b[32m3\u001b[0m,\n",
       "  \u001b[32m4\u001b[0m,\n",
       "  \u001b[32m5\u001b[0m,\n",
       "  \u001b[32m6\u001b[0m,\n",
       "  \u001b[32m7\u001b[0m,\n",
       "  \u001b[32m8\u001b[0m,\n",
       "  \u001b[32m9\u001b[0m,\n",
       "  \u001b[32m10\u001b[0m,\n",
       "  \u001b[32m11\u001b[0m,\n",
       "  \u001b[32m12\u001b[0m,\n",
       "  \u001b[32m13\u001b[0m,\n",
       "  \u001b[32m14\u001b[0m,\n",
       "\u001b[33m...\u001b[0m"
      ]
     },
     "metadata": {},
     "output_type": "display_data"
    }
   ],
   "source": [
    " val stream = (1 to 100000000).toStream"
   ]
  },
  {
   "cell_type": "code",
   "execution_count": 52,
   "metadata": {},
   "outputs": [
    {
     "data": {
      "text/plain": [
       "\u001b[36mres40_0\u001b[0m: \u001b[32mInt\u001b[0m = \u001b[32m1\u001b[0m\n",
       "\u001b[36mres40_1\u001b[0m: \u001b[32mStream\u001b[0m[\u001b[32mInt\u001b[0m] = \u001b[33mStream\u001b[0m(\n",
       "  \u001b[32m2\u001b[0m,\n",
       "  \u001b[32m3\u001b[0m,\n",
       "  \u001b[32m4\u001b[0m,\n",
       "  \u001b[32m5\u001b[0m,\n",
       "  \u001b[32m6\u001b[0m,\n",
       "  \u001b[32m7\u001b[0m,\n",
       "  \u001b[32m8\u001b[0m,\n",
       "  \u001b[32m9\u001b[0m,\n",
       "  \u001b[32m10\u001b[0m,\n",
       "  \u001b[32m11\u001b[0m,\n",
       "  \u001b[32m12\u001b[0m,\n",
       "  \u001b[32m13\u001b[0m,\n",
       "  \u001b[32m14\u001b[0m,\n",
       "  \u001b[32m15\u001b[0m,\n",
       "\u001b[33m...\u001b[0m"
      ]
     },
     "metadata": {},
     "output_type": "display_data"
    }
   ],
   "source": [
    "stream.head\n",
    "stream.tail"
   ]
  },
  {
   "cell_type": "code",
   "execution_count": 53,
   "metadata": {},
   "outputs": [
    {
     "data": {
      "text/plain": [
       "\u001b[36mres41_0\u001b[0m: \u001b[32mStream\u001b[0m[\u001b[32mInt\u001b[0m] = \u001b[33mStream\u001b[0m(\n",
       "  \u001b[32m1\u001b[0m,\n",
       "  \u001b[32m2\u001b[0m,\n",
       "  \u001b[32m3\u001b[0m\n",
       ")\n",
       "\u001b[36mres41_1\u001b[0m: \u001b[32mInt\u001b[0m = \u001b[32m5\u001b[0m"
      ]
     },
     "metadata": {},
     "output_type": "display_data"
    }
   ],
   "source": [
    "stream.take(3)\n",
    "stream .tail(3)"
   ]
  },
  {
   "cell_type": "code",
   "execution_count": 54,
   "metadata": {},
   "outputs": [
    {
     "data": {
      "text/plain": [
       "\u001b[36mres42\u001b[0m: \u001b[32mStream\u001b[0m[\u001b[32mInt\u001b[0m] = \u001b[33mStream\u001b[0m(\n",
       "  \u001b[32m2\u001b[0m,\n",
       "  \u001b[32m4\u001b[0m,\n",
       "  \u001b[32m6\u001b[0m,\n",
       "  \u001b[32m8\u001b[0m,\n",
       "  \u001b[32m10\u001b[0m,\n",
       "  \u001b[32m12\u001b[0m,\n",
       "  \u001b[32m14\u001b[0m,\n",
       "  \u001b[32m16\u001b[0m,\n",
       "  \u001b[32m18\u001b[0m,\n",
       "  \u001b[32m20\u001b[0m,\n",
       "  \u001b[32m22\u001b[0m,\n",
       "  \u001b[32m24\u001b[0m,\n",
       "  \u001b[32m26\u001b[0m,\n",
       "  \u001b[32m28\u001b[0m,\n",
       "\u001b[33m...\u001b[0m"
      ]
     },
     "metadata": {},
     "output_type": "display_data"
    }
   ],
   "source": [
    "stream.map { _ * 2 }"
   ]
  },
  {
   "cell_type": "code",
   "execution_count": null,
   "metadata": {},
   "outputs": [],
   "source": [
    "// easily cause java.lang.OutOfMemoryError\n",
    "stream.size\n",
    "stream.min\n",
    "stream.max"
   ]
  },
  {
   "cell_type": "code",
   "execution_count": 1,
   "metadata": {},
   "outputs": [
    {
     "ename": "",
     "evalue": "",
     "output_type": "error",
     "traceback": [
      "Compilation Failed",
      "\u001b[31mMain.scala:49: not found: value stream\r",
      "stream(100)\r",
      "^\u001b[0m"
     ]
    }
   ],
   "source": [
    "stream(100)"
   ]
  },
  {
   "cell_type": "markdown",
   "metadata": {},
   "source": [
    "### 11.7. Different Ways to Create and Update an Array"
   ]
  },
  {
   "cell_type": "code",
   "execution_count": 3,
   "metadata": {},
   "outputs": [
    {
     "data": {
      "text/plain": [
       "\u001b[36ma\u001b[0m: \u001b[32mArray\u001b[0m[\u001b[32mInt\u001b[0m] = \u001b[33mArray\u001b[0m(\u001b[32m1\u001b[0m, \u001b[32m2\u001b[0m, \u001b[32m3\u001b[0m)\n",
       "\u001b[36mfruits\u001b[0m: \u001b[32mArray\u001b[0m[\u001b[32mString\u001b[0m] = \u001b[33mArray\u001b[0m(\u001b[32m\"Apple\"\u001b[0m, \u001b[32m\"Banana\"\u001b[0m, \u001b[32m\"Orange\"\u001b[0m)\n",
       "\u001b[36mx\u001b[0m: \u001b[32mArray\u001b[0m[\u001b[32mDouble\u001b[0m] = \u001b[33mArray\u001b[0m(\u001b[32m1.0\u001b[0m, \u001b[32m2.0\u001b[0m, \u001b[32m33.0\u001b[0m, \u001b[32m400.0\u001b[0m)"
      ]
     },
     "metadata": {},
     "output_type": "display_data"
    }
   ],
   "source": [
    "val a = Array(1,2,3)\n",
    "val fruits = Array(\"Apple\", \"Banana\", \"Orange\")\n",
    "val x = Array(1, 2.0, 33D, 400L)"
   ]
  },
  {
   "cell_type": "code",
   "execution_count": 4,
   "metadata": {},
   "outputs": [
    {
     "data": {
      "text/plain": [
       "\u001b[36mfruits\u001b[0m: \u001b[32mArray\u001b[0m[\u001b[32mString\u001b[0m] = \u001b[33mArray\u001b[0m(\u001b[32m\"Apple\"\u001b[0m, \u001b[32m\"Banana\"\u001b[0m, \u001b[32m\"Orange\"\u001b[0m)"
      ]
     },
     "metadata": {},
     "output_type": "display_data"
    }
   ],
   "source": [
    "// create an array with an initial size \n",
    "val fruits = new Array[String](3)\n",
    "// somewhere later in the code ... \n",
    "fruits(0) = \"Apple\" \n",
    "fruits(1) = \"Banana\"\n",
    "fruits(2) = \"Orange\""
   ]
  },
  {
   "cell_type": "code",
   "execution_count": 5,
   "metadata": {},
   "outputs": [
    {
     "data": {
      "text/plain": [
       "\u001b[36mx\u001b[0m: \u001b[32mArray\u001b[0m[\u001b[32mInt\u001b[0m] = \u001b[33mArray\u001b[0m(\u001b[32m0\u001b[0m, \u001b[32m1\u001b[0m, \u001b[32m4\u001b[0m, \u001b[32m9\u001b[0m, \u001b[32m16\u001b[0m)\n",
       "\u001b[36mres3_1\u001b[0m: \u001b[32mArray\u001b[0m[\u001b[32mChar\u001b[0m] = \u001b[33mArray\u001b[0m(\u001b[32m'H'\u001b[0m, \u001b[32m'e'\u001b[0m, \u001b[32m'l'\u001b[0m, \u001b[32m'l'\u001b[0m, \u001b[32m'o'\u001b[0m)"
      ]
     },
     "metadata": {},
     "output_type": "display_data"
    }
   ],
   "source": [
    "//as List\n",
    " val x = Array.tabulate(5)(n => n * n)\n",
    "\"Hello\".toArray"
   ]
  },
  {
   "cell_type": "code",
   "execution_count": 6,
   "metadata": {},
   "outputs": [
    {
     "data": {
      "text/plain": [
       "\u001b[36ma\u001b[0m: \u001b[32mArray\u001b[0m[\u001b[32mInt\u001b[0m] = \u001b[33mArray\u001b[0m(\u001b[32m10\u001b[0m, \u001b[32m2\u001b[0m, \u001b[32m3\u001b[0m)"
      ]
     },
     "metadata": {},
     "output_type": "display_data"
    }
   ],
   "source": [
    "//It’s mutable in that its elements can be changed, but it’s immutable in that its size cannot be changed\n",
    " val a = Array(1, 2, 3)\n",
    "a(0)=10"
   ]
  },
  {
   "cell_type": "markdown",
   "metadata": {},
   "source": [
    "### 11.8. Creating an Array Whose Size Can Change (ArrayBuffer)"
   ]
  },
  {
   "cell_type": "code",
   "execution_count": 8,
   "metadata": {},
   "outputs": [
    {
     "data": {
      "text/plain": [
       "\u001b[32mimport \u001b[36mscala.collection.mutable.ArrayBuffer\u001b[0m\n",
       "\u001b[36mcharacters\u001b[0m: \u001b[32mArrayBuffer\u001b[0m[\u001b[32mString\u001b[0m] = \u001b[33mArrayBuffer\u001b[0m(\u001b[32m\"Ben\"\u001b[0m)\n",
       "\u001b[36mres6_2\u001b[0m: \u001b[32mArrayBuffer\u001b[0m[\u001b[32mString\u001b[0m] = \u001b[33mArrayBuffer\u001b[0m(\u001b[32m\"Ben\"\u001b[0m)"
      ]
     },
     "metadata": {},
     "output_type": "display_data"
    }
   ],
   "source": [
    "import scala.collection.mutable.ArrayBuffer \n",
    "var characters = ArrayBuffer[String]() \n",
    "characters += \"Ben\" "
   ]
  },
  {
   "cell_type": "code",
   "execution_count": 9,
   "metadata": {},
   "outputs": [
    {
     "data": {
      "text/plain": [
       "\u001b[36mres7_0\u001b[0m: \u001b[32mArrayBuffer\u001b[0m[\u001b[32mString\u001b[0m] = \u001b[33mArrayBuffer\u001b[0m(\u001b[32m\"Ben\"\u001b[0m, \u001b[32m\"Jerry\"\u001b[0m, \u001b[32m\"Dale\"\u001b[0m)\n",
       "\u001b[36mres7_1\u001b[0m: \u001b[32mArrayBuffer\u001b[0m[\u001b[32mString\u001b[0m] = \u001b[33mArrayBuffer\u001b[0m(\u001b[32m\"Ben\"\u001b[0m, \u001b[32m\"Jerry\"\u001b[0m, \u001b[32m\"Dale\"\u001b[0m)"
      ]
     },
     "metadata": {},
     "output_type": "display_data"
    }
   ],
   "source": [
    "characters += \"Jerry\"\n",
    "characters += \"Dale\""
   ]
  },
  {
   "cell_type": "code",
   "execution_count": 10,
   "metadata": {},
   "outputs": [
    {
     "data": {
      "text/plain": [
       "\u001b[36mcharacters\u001b[0m: \u001b[32mArrayBuffer\u001b[0m[\u001b[32mString\u001b[0m] = \u001b[33mArrayBuffer\u001b[0m(\u001b[32m\"Ben\"\u001b[0m, \u001b[32m\"Jerry\"\u001b[0m, \u001b[32m\"Dale\"\u001b[0m)\n",
       "\u001b[36mres8_1\u001b[0m: \u001b[32mArrayBuffer\u001b[0m[\u001b[32mString\u001b[0m] = \u001b[33mArrayBuffer\u001b[0m(\u001b[32m\"Ben\"\u001b[0m, \u001b[32m\"Jerry\"\u001b[0m, \u001b[32m\"Dale\"\u001b[0m)"
      ]
     },
     "metadata": {},
     "output_type": "display_data"
    }
   ],
   "source": [
    "// initialize with elements \n",
    "val characters = collection.mutable.ArrayBuffer(\"Ben\", \"Jerry\")\n",
    "// add one element \n",
    "characters += \"Dale\""
   ]
  },
  {
   "cell_type": "code",
   "execution_count": 11,
   "metadata": {},
   "outputs": [
    {
     "data": {
      "text/plain": [
       "\u001b[36mres9\u001b[0m: \u001b[32mArrayBuffer\u001b[0m[\u001b[32mString\u001b[0m] = \u001b[33mArrayBuffer\u001b[0m(\u001b[32m\"Ben\"\u001b[0m, \u001b[32m\"Jerry\"\u001b[0m, \u001b[32m\"Dale\"\u001b[0m, \u001b[32m\"Gordon\"\u001b[0m, \u001b[32m\"Harry\"\u001b[0m)"
      ]
     },
     "metadata": {},
     "output_type": "display_data"
    }
   ],
   "source": [
    "// add two or more elements (method has a varargs parameter) \n",
    "characters += (\"Gordon\", \"Harry\")"
   ]
  },
  {
   "cell_type": "code",
   "execution_count": 12,
   "metadata": {},
   "outputs": [
    {
     "data": {
      "text/plain": [
       "\u001b[36mres10\u001b[0m: \u001b[32mArrayBuffer\u001b[0m[\u001b[32mString\u001b[0m] = \u001b[33mArrayBuffer\u001b[0m(\n",
       "  \u001b[32m\"Ben\"\u001b[0m,\n",
       "  \u001b[32m\"Jerry\"\u001b[0m,\n",
       "  \u001b[32m\"Dale\"\u001b[0m,\n",
       "  \u001b[32m\"Gordon\"\u001b[0m,\n",
       "  \u001b[32m\"Harry\"\u001b[0m,\n",
       "  \u001b[32m\"Andy\"\u001b[0m,\n",
       "  \u001b[32m\"Big Ed\"\u001b[0m\n",
       ")"
      ]
     },
     "metadata": {},
     "output_type": "display_data"
    }
   ],
   "source": [
    "// add multiple elements with any TraversableOnce type \n",
    "characters ++= Seq(\"Andy\", \"Big Ed\")"
   ]
  },
  {
   "cell_type": "code",
   "execution_count": 15,
   "metadata": {},
   "outputs": [
    {
     "data": {
      "text/plain": [
       "\u001b[36mres13_1\u001b[0m: \u001b[32mArrayBuffer\u001b[0m[\u001b[32mString\u001b[0m] = \u001b[33mArrayBuffer\u001b[0m(\n",
       "  \u001b[32m\"Ben\"\u001b[0m,\n",
       "  \u001b[32m\"Jerry\"\u001b[0m,\n",
       "  \u001b[32m\"Dale\"\u001b[0m,\n",
       "  \u001b[32m\"Gordon\"\u001b[0m,\n",
       "  \u001b[32m\"Harry\"\u001b[0m,\n",
       "  \u001b[32m\"Andy\"\u001b[0m,\n",
       "  \u001b[32m\"Big Ed\"\u001b[0m,\n",
       "  \u001b[32m\"Laura\"\u001b[0m,\n",
       "  \u001b[32m\"Lucy\"\u001b[0m,\n",
       "  \u001b[32m\"Laura\"\u001b[0m,\n",
       "  \u001b[32m\"Lucy\"\u001b[0m,\n",
       "  \u001b[32m\"Laura\"\u001b[0m,\n",
       "  \u001b[32m\"Lucy\"\u001b[0m\n",
       ")"
      ]
     },
     "metadata": {},
     "output_type": "display_data"
    }
   ],
   "source": [
    "// append one or more elements (uses a varargs parameter)\n",
    "characters.append(\"Laura\", \"Lucy\")\n",
    "characters "
   ]
  },
  {
   "cell_type": "markdown",
   "metadata": {},
   "source": [
    "### 11.9. Deleting Array and ArrayBuffer Elements"
   ]
  },
  {
   "cell_type": "code",
   "execution_count": 16,
   "metadata": {},
   "outputs": [
    {
     "data": {
      "text/plain": [
       "\u001b[32mimport \u001b[36mscala.collection.mutable.ArrayBuffer\u001b[0m\n",
       "\u001b[36mx\u001b[0m: \u001b[32mArrayBuffer\u001b[0m[\u001b[32mChar\u001b[0m] = \u001b[33mArrayBuffer\u001b[0m(\u001b[32m'd'\u001b[0m, \u001b[32m'e'\u001b[0m)\n",
       "\u001b[36mres14_2\u001b[0m: \u001b[32mArrayBuffer\u001b[0m[\u001b[32mChar\u001b[0m] = \u001b[33mArrayBuffer\u001b[0m(\u001b[32m'd'\u001b[0m, \u001b[32m'e'\u001b[0m)\n",
       "\u001b[36mres14_3\u001b[0m: \u001b[32mArrayBuffer\u001b[0m[\u001b[32mChar\u001b[0m] = \u001b[33mArrayBuffer\u001b[0m(\u001b[32m'd'\u001b[0m, \u001b[32m'e'\u001b[0m)"
      ]
     },
     "metadata": {},
     "output_type": "display_data"
    }
   ],
   "source": [
    "import scala.collection.mutable.ArrayBuffer \n",
    "val x = ArrayBuffer('a', 'b', 'c', 'd', 'e')\n",
    "// remove one element \n",
    "x -= 'a'\n",
    "// remove multiple elements (methods defines a varargs param)\n",
    "x -= ('b', 'c')"
   ]
  },
  {
   "cell_type": "code",
   "execution_count": 17,
   "metadata": {},
   "outputs": [
    {
     "data": {
      "text/plain": [
       "\u001b[36mx\u001b[0m: \u001b[32mArrayBuffer\u001b[0m[\u001b[32mChar\u001b[0m] = \u001b[33mArrayBuffer\u001b[0m(\u001b[32m'c'\u001b[0m, \u001b[32m'd'\u001b[0m, \u001b[32m'e'\u001b[0m)\n",
       "\u001b[36mres15_1\u001b[0m: \u001b[32mArrayBuffer\u001b[0m[\u001b[32mChar\u001b[0m] = \u001b[33mArrayBuffer\u001b[0m(\u001b[32m'c'\u001b[0m, \u001b[32m'd'\u001b[0m, \u001b[32m'e'\u001b[0m)"
      ]
     },
     "metadata": {},
     "output_type": "display_data"
    }
   ],
   "source": [
    "val x = ArrayBuffer('a', 'b', 'c', 'd', 'e') \n",
    "x --= Seq('a', 'b') "
   ]
  },
  {
   "cell_type": "code",
   "execution_count": 18,
   "metadata": {},
   "outputs": [
    {
     "data": {
      "text/plain": [
       "\u001b[36mres16\u001b[0m: \u001b[32mArrayBuffer\u001b[0m[\u001b[32mChar\u001b[0m] = \u001b[33mArrayBuffer\u001b[0m(\u001b[32m'd'\u001b[0m, \u001b[32m'e'\u001b[0m)"
      ]
     },
     "metadata": {},
     "output_type": "display_data"
    }
   ],
   "source": [
    "x --= Array('c')"
   ]
  },
  {
   "cell_type": "code",
   "execution_count": 19,
   "metadata": {},
   "outputs": [
    {
     "data": {
      "text/plain": [
       "\u001b[36mres17\u001b[0m: \u001b[32mArrayBuffer\u001b[0m[\u001b[32mChar\u001b[0m] = \u001b[33mArrayBuffer\u001b[0m(\u001b[32m'e'\u001b[0m)"
      ]
     },
     "metadata": {},
     "output_type": "display_data"
    }
   ],
   "source": [
    "x --= Set('d')"
   ]
  },
  {
   "cell_type": "code",
   "execution_count": 20,
   "metadata": {},
   "outputs": [
    {
     "data": {
      "text/plain": [
       "\u001b[36mx\u001b[0m: \u001b[32mArrayBuffer\u001b[0m[\u001b[32mChar\u001b[0m] = \u001b[33mArrayBuffer\u001b[0m(\u001b[32m'b'\u001b[0m, \u001b[32m'c'\u001b[0m, \u001b[32m'd'\u001b[0m, \u001b[32m'e'\u001b[0m)\n",
       "\u001b[36mres18_1\u001b[0m: \u001b[32mChar\u001b[0m = \u001b[32m'a'\u001b[0m\n",
       "\u001b[36mres18_2\u001b[0m: \u001b[32mArrayBuffer\u001b[0m[\u001b[32mChar\u001b[0m] = \u001b[33mArrayBuffer\u001b[0m(\u001b[32m'b'\u001b[0m, \u001b[32m'c'\u001b[0m, \u001b[32m'd'\u001b[0m, \u001b[32m'e'\u001b[0m)"
      ]
     },
     "metadata": {},
     "output_type": "display_data"
    }
   ],
   "source": [
    "val x = ArrayBuffer('a', 'b', 'c', 'd', 'e')\n",
    "x.remove(0)\n",
    "x"
   ]
  },
  {
   "cell_type": "code",
   "execution_count": 21,
   "metadata": {},
   "outputs": [
    {
     "data": {
      "text/plain": []
     },
     "metadata": {},
     "output_type": "display_data"
    }
   ],
   "source": [
    "x.remove(1,3)"
   ]
  },
  {
   "cell_type": "code",
   "execution_count": 22,
   "metadata": {},
   "outputs": [
    {
     "data": {
      "text/plain": [
       "\u001b[36mres20\u001b[0m: \u001b[32mArrayBuffer\u001b[0m[\u001b[32mChar\u001b[0m] = \u001b[33mArrayBuffer\u001b[0m(\u001b[32m'b'\u001b[0m)"
      ]
     },
     "metadata": {},
     "output_type": "display_data"
    }
   ],
   "source": [
    "x"
   ]
  },
  {
   "cell_type": "code",
   "execution_count": 23,
   "metadata": {},
   "outputs": [
    {
     "data": {
      "text/plain": [
       "\u001b[36mres21_1\u001b[0m: \u001b[32mArrayBuffer\u001b[0m[\u001b[32mChar\u001b[0m] = \u001b[33mArrayBuffer\u001b[0m()"
      ]
     },
     "metadata": {},
     "output_type": "display_data"
    }
   ],
   "source": [
    "x.clear\n",
    "x"
   ]
  },
  {
   "cell_type": "code",
   "execution_count": 25,
   "metadata": {},
   "outputs": [
    {
     "data": {
      "text/plain": [
       "\u001b[36ma\u001b[0m: \u001b[32mArray\u001b[0m[\u001b[32mString\u001b[0m] = \u001b[33mArray\u001b[0m(\u001b[32m\"\"\u001b[0m, null, \u001b[32m\"cherry\"\u001b[0m)\n",
       "\u001b[36mres22_3\u001b[0m: \u001b[32mArray\u001b[0m[\u001b[32mString\u001b[0m] = \u001b[33mArray\u001b[0m(\u001b[32m\"\"\u001b[0m, null, \u001b[32m\"cherry\"\u001b[0m)"
      ]
     },
     "metadata": {},
     "output_type": "display_data"
    }
   ],
   "source": [
    "//Array only replace as delete\n",
    " val a = Array(\"apple\", \"banana\", \"cherry\")\n",
    "a(0)=\"\"\n",
    "a(1)=null\n",
    "a"
   ]
  },
  {
   "cell_type": "markdown",
   "metadata": {},
   "source": [
    "### 11.10. Sorting Arrays"
   ]
  },
  {
   "cell_type": "code",
   "execution_count": 26,
   "metadata": {},
   "outputs": [
    {
     "data": {
      "text/plain": [
       "\u001b[36mfruits\u001b[0m: \u001b[32mArray\u001b[0m[\u001b[32mString\u001b[0m] = \u001b[33mArray\u001b[0m(\u001b[32m\"apple\"\u001b[0m, \u001b[32m\"banana\"\u001b[0m, \u001b[32m\"cherry\"\u001b[0m)\n",
       "\u001b[36mres23_2\u001b[0m: \u001b[32mArray\u001b[0m[\u001b[32mString\u001b[0m] = \u001b[33mArray\u001b[0m(\u001b[32m\"apple\"\u001b[0m, \u001b[32m\"banana\"\u001b[0m, \u001b[32m\"cherry\"\u001b[0m)"
      ]
     },
     "metadata": {},
     "output_type": "display_data"
    }
   ],
   "source": [
    " val fruits = Array(\"cherry\", \"apple\", \"banana\")\n",
    " scala.util.Sorting.quickSort(fruits)\n",
    "fruits"
   ]
  },
  {
   "cell_type": "markdown",
   "metadata": {},
   "source": [
    "### 11.11. Creating Multidimensional Arrays\n",
    "- Use Array.ofDim to create a multidimensional array. You can use this approach to create arrays of up to five dimensions. With this approach you need to know the number of rows and columns at creation time.\n",
    "-  Create arrays of arrays as needed"
   ]
  },
  {
   "cell_type": "code",
   "execution_count": 27,
   "metadata": {},
   "outputs": [
    {
     "data": {
      "text/plain": [
       "\u001b[36mrows\u001b[0m: \u001b[32mInt\u001b[0m = \u001b[32m2\u001b[0m\n",
       "\u001b[36mcols\u001b[0m: \u001b[32mInt\u001b[0m = \u001b[32m3\u001b[0m\n",
       "\u001b[36ma\u001b[0m: \u001b[32mArray\u001b[0m[\u001b[32mArray\u001b[0m[\u001b[32mString\u001b[0m]] = \u001b[33mArray\u001b[0m(\u001b[33mArray\u001b[0m(null, null, null), \u001b[33mArray\u001b[0m(null, null, null))"
      ]
     },
     "metadata": {},
     "output_type": "display_data"
    }
   ],
   "source": [
    "val rows=2\n",
    "val cols=3\n",
    "val a = Array.ofDim[String](rows, cols)"
   ]
  },
  {
   "cell_type": "code",
   "execution_count": 28,
   "metadata": {},
   "outputs": [
    {
     "data": {
      "text/plain": []
     },
     "metadata": {},
     "output_type": "display_data"
    }
   ],
   "source": [
    "a(0)(0) = \"a\" \n",
    "a(0)(1) = \"b\" \n",
    "a(0)(2) = \"c\" \n",
    "a(1)(0) = \"d\" \n",
    "a(1)(1) = \"e\"\n",
    "a(1)(2) = \"f\""
   ]
  },
  {
   "cell_type": "code",
   "execution_count": 29,
   "metadata": {},
   "outputs": [
    {
     "data": {
      "text/plain": [
       "\u001b[36mres26\u001b[0m: \u001b[32mArray\u001b[0m[\u001b[32mArray\u001b[0m[\u001b[32mString\u001b[0m]] = \u001b[33mArray\u001b[0m(\n",
       "  \u001b[33mArray\u001b[0m(\u001b[32m\"a\"\u001b[0m, \u001b[32m\"b\"\u001b[0m, \u001b[32m\"c\"\u001b[0m),\n",
       "  \u001b[33mArray\u001b[0m(\u001b[32m\"d\"\u001b[0m, \u001b[32m\"e\"\u001b[0m, \u001b[32m\"f\"\u001b[0m)\n",
       ")"
      ]
     },
     "metadata": {},
     "output_type": "display_data"
    }
   ],
   "source": [
    "a"
   ]
  },
  {
   "cell_type": "code",
   "execution_count": 30,
   "metadata": {},
   "outputs": [
    {
     "ename": "",
     "evalue": "",
     "output_type": "error",
     "traceback": [
      "incomplete"
     ]
    }
   ],
   "source": [
    "for { \n",
    "    i <- 0 until rows \n",
    "    j <- 0 until cols\n",
    "} \n",
    "println(s\"($i)($j) = ${a(i)(j)}\""
   ]
  },
  {
   "cell_type": "code",
   "execution_count": 30,
   "metadata": {},
   "outputs": [
    {
     "data": {
      "text/plain": [
       "\u001b[36mres27\u001b[0m: \u001b[32mInt\u001b[0m = \u001b[32m2\u001b[0m"
      ]
     },
     "metadata": {},
     "output_type": "display_data"
    }
   ],
   "source": [
    "rows"
   ]
  },
  {
   "cell_type": "code",
   "execution_count": 31,
   "metadata": {},
   "outputs": [
    {
     "data": {
      "text/plain": [
       "\u001b[36ma\u001b[0m: \u001b[32mArray\u001b[0m[\u001b[32mArray\u001b[0m[\u001b[32mString\u001b[0m]] = \u001b[33mArray\u001b[0m(\n",
       "  \u001b[33mArray\u001b[0m(\u001b[32m\"a\"\u001b[0m, \u001b[32m\"b\"\u001b[0m, \u001b[32m\"c\"\u001b[0m),\n",
       "  \u001b[33mArray\u001b[0m(\u001b[32m\"d\"\u001b[0m, \u001b[32m\"e\"\u001b[0m)\n",
       ")"
      ]
     },
     "metadata": {},
     "output_type": "display_data"
    }
   ],
   "source": [
    " val a = Array(Array(\"a\", \"b\", \"c\"), Array(\"d\", \"e\"))"
   ]
  },
  {
   "cell_type": "code",
   "execution_count": 32,
   "metadata": {},
   "outputs": [
    {
     "data": {
      "text/plain": [
       "\u001b[36marr\u001b[0m: \u001b[32mArray\u001b[0m[\u001b[32mArray\u001b[0m[\u001b[32mString\u001b[0m]] = \u001b[33mArray\u001b[0m(\u001b[33mArray\u001b[0m(\u001b[32m\"a\"\u001b[0m, \u001b[32m\"b\"\u001b[0m, \u001b[32m\"c\"\u001b[0m))"
      ]
     },
     "metadata": {},
     "output_type": "display_data"
    }
   ],
   "source": [
    " var arr = Array(Array(\"a\", \"b\", \"c\"))"
   ]
  },
  {
   "cell_type": "code",
   "execution_count": 33,
   "metadata": {},
   "outputs": [
    {
     "data": {
      "text/plain": [
       "\u001b[36mres30_1\u001b[0m: \u001b[32mArray\u001b[0m[\u001b[32mArray\u001b[0m[\u001b[32mString\u001b[0m]] = \u001b[33mArray\u001b[0m(\n",
       "  \u001b[33mArray\u001b[0m(\u001b[32m\"a\"\u001b[0m, \u001b[32m\"b\"\u001b[0m, \u001b[32m\"c\"\u001b[0m),\n",
       "  \u001b[33mArray\u001b[0m(\u001b[32m\"d\"\u001b[0m, \u001b[32m\"e\"\u001b[0m)\n",
       ")"
      ]
     },
     "metadata": {},
     "output_type": "display_data"
    }
   ],
   "source": [
    " arr ++= Array(Array(\"d\", \"e\"))\n",
    "arr"
   ]
  },
  {
   "cell_type": "markdown",
   "metadata": {},
   "source": [
    "### 11.12. Creating Maps"
   ]
  },
  {
   "cell_type": "code",
   "execution_count": 34,
   "metadata": {},
   "outputs": [
    {
     "data": {
      "text/plain": [
       "\u001b[36mstates\u001b[0m: \u001b[32mMap\u001b[0m[\u001b[32mString\u001b[0m, \u001b[32mString\u001b[0m] = \u001b[33mMap\u001b[0m(\u001b[32m\"AL\"\u001b[0m -> \u001b[32m\"Alabama\"\u001b[0m, \u001b[32m\"AK\"\u001b[0m -> \u001b[32m\"Alaska\"\u001b[0m)"
      ]
     },
     "metadata": {},
     "output_type": "display_data"
    }
   ],
   "source": [
    " val states = Map(\"AL\" -> \"Alabama\", \"AK\" -> \"Alaska\")"
   ]
  },
  {
   "cell_type": "code",
   "execution_count": 35,
   "metadata": {},
   "outputs": [
    {
     "ename": "",
     "evalue": "",
     "output_type": "error",
     "traceback": [
      "Compilation Failed",
      "\u001b[31mMain.scala:166: value += is not a member of scala.collection.immutable.Map[String,String]\r",
      "states += (\"AL\" -> \"Alabama\")\r",
      "       ^\u001b[0m"
     ]
    }
   ],
   "source": [
    " states += (\"AL\" -> \"Alabama\")"
   ]
  },
  {
   "cell_type": "code",
   "execution_count": 36,
   "metadata": {},
   "outputs": [
    {
     "data": {
      "text/plain": [
       "\u001b[36mstates\u001b[0m: \u001b[32mcollection\u001b[0m.\u001b[32mmutable\u001b[0m.\u001b[32mMap\u001b[0m[\u001b[32mString\u001b[0m, \u001b[32mString\u001b[0m] = \u001b[33mMap\u001b[0m(\u001b[32m\"AL\"\u001b[0m -> \u001b[32m\"Alabama\"\u001b[0m)"
      ]
     },
     "metadata": {},
     "output_type": "display_data"
    }
   ],
   "source": [
    "var states = collection.mutable.Map(\"AL\" -> \"Alabama\")"
   ]
  },
  {
   "cell_type": "code",
   "execution_count": 40,
   "metadata": {},
   "outputs": [
    {
     "data": {
      "text/plain": [
       "\u001b[36mres35\u001b[0m: \u001b[32mcollection\u001b[0m.\u001b[32mmutable\u001b[0m.\u001b[32mMap\u001b[0m[\u001b[32mString\u001b[0m, \u001b[32mString\u001b[0m] = \u001b[33mMap\u001b[0m(\u001b[32m\"AL-ADD\"\u001b[0m -> \u001b[32m\"Alabama\"\u001b[0m, \u001b[32m\"AL\"\u001b[0m -> \u001b[32m\"Alabama\"\u001b[0m)"
      ]
     },
     "metadata": {},
     "output_type": "display_data"
    }
   ],
   "source": [
    " states += (\"AL-ADD\" -> \"Alabama\")"
   ]
  },
  {
   "cell_type": "code",
   "execution_count": 39,
   "metadata": {},
   "outputs": [
    {
     "data": {
      "text/plain": [
       "\u001b[36mres34\u001b[0m: \u001b[32mcollection\u001b[0m.\u001b[32mmutable\u001b[0m.\u001b[32mMap\u001b[0m[\u001b[32mString\u001b[0m, \u001b[32mString\u001b[0m] = \u001b[33mMap\u001b[0m(\u001b[32m\"AL\"\u001b[0m -> \u001b[32m\"Alabama\"\u001b[0m)"
      ]
     },
     "metadata": {},
     "output_type": "display_data"
    }
   ],
   "source": [
    "states"
   ]
  },
  {
   "cell_type": "code",
   "execution_count": 41,
   "metadata": {},
   "outputs": [
    {
     "data": {
      "text/plain": [
       "\u001b[32mimport \u001b[36mscala.collection.mutable.{Map => MMap}\u001b[0m\n",
       "\u001b[36mm\u001b[0m: \u001b[32mcollection\u001b[0m.\u001b[32mmutable\u001b[0m.\u001b[32mMap\u001b[0m[\u001b[32mInt\u001b[0m, \u001b[32mChar\u001b[0m] = \u001b[33mMap\u001b[0m(\u001b[32m1\u001b[0m -> \u001b[32m'a'\u001b[0m)"
      ]
     },
     "metadata": {},
     "output_type": "display_data"
    }
   ],
   "source": [
    "import scala.collection.mutable.{Map => MMap}\n",
    "val m = MMap(1 -> 'a') \n",
    "for((k,v) <- m) println(s\"$k, $v\")"
   ]
  },
  {
   "cell_type": "markdown",
   "metadata": {},
   "source": [
    "### 11.13. Choosing a Map Implementation"
   ]
  },
  {
   "cell_type": "code",
   "execution_count": 42,
   "metadata": {},
   "outputs": [
    {
     "data": {
      "text/plain": [
       "\u001b[32mimport \u001b[36mscala.collection.SortedMap\u001b[0m\n",
       "\u001b[36mgrades\u001b[0m: \u001b[32mcollection\u001b[0m.\u001b[32mSortedMap\u001b[0m[\u001b[32mString\u001b[0m, \u001b[32mInt\u001b[0m] = \u001b[33mMap\u001b[0m(\n",
       "  \u001b[32m\"Al\"\u001b[0m -> \u001b[32m85\u001b[0m,\n",
       "  \u001b[32m\"Emily\"\u001b[0m -> \u001b[32m91\u001b[0m,\n",
       "  \u001b[32m\"Hannah\"\u001b[0m -> \u001b[32m92\u001b[0m,\n",
       "  \u001b[32m\"Kim\"\u001b[0m -> \u001b[32m90\u001b[0m,\n",
       "  \u001b[32m\"Melissa\"\u001b[0m -> \u001b[32m95\u001b[0m\n",
       ")"
      ]
     },
     "metadata": {},
     "output_type": "display_data"
    }
   ],
   "source": [
    " import scala.collection.SortedMap\n",
    " val grades = SortedMap(\"Kim\" -> 90, \n",
    "                        \"Al\" -> 85, \n",
    "                        \"Melissa\" -> 95, \n",
    "                        \"Emily\" -> 91, \n",
    "                        \"Hannah\" -> 92)"
   ]
  },
  {
   "cell_type": "code",
   "execution_count": 43,
   "metadata": {},
   "outputs": [
    {
     "ename": "",
     "evalue": "",
     "output_type": "error",
     "traceback": [
      "Compilation Failed",
      "\u001b[31mMain.scala:186: value += is not a member of scala.collection.SortedMap[String,Int]\r",
      "grades +=(\"A\"->90)\r",
      "       ^\u001b[0m"
     ]
    }
   ],
   "source": [
    "grades +=(\"A\"->90)"
   ]
  },
  {
   "cell_type": "code",
   "execution_count": 44,
   "metadata": {},
   "outputs": [
    {
     "data": {
      "text/plain": [
       "\u001b[32mimport \u001b[36mscala.collection.mutable.LinkedHashMap\u001b[0m\n",
       "\u001b[36mstates\u001b[0m: \u001b[32mcollection\u001b[0m.\u001b[32mmutable\u001b[0m.\u001b[32mLinkedHashMap\u001b[0m[\u001b[32mString\u001b[0m, \u001b[32mString\u001b[0m] = \u001b[33mMap\u001b[0m(\n",
       "  \u001b[32m\"IL\"\u001b[0m -> \u001b[32m\"Illinois\"\u001b[0m,\n",
       "  \u001b[32m\"KY\"\u001b[0m -> \u001b[32m\"Kentucky\"\u001b[0m,\n",
       "  \u001b[32m\"TX\"\u001b[0m -> \u001b[32m\"Texas\"\u001b[0m\n",
       ")\n",
       "\u001b[36mres38_2\u001b[0m: \u001b[32mcollection\u001b[0m.\u001b[32mmutable\u001b[0m.\u001b[32mLinkedHashMap\u001b[0m[\u001b[32mString\u001b[0m, \u001b[32mString\u001b[0m] = \u001b[33mMap\u001b[0m(\n",
       "  \u001b[32m\"IL\"\u001b[0m -> \u001b[32m\"Illinois\"\u001b[0m,\n",
       "  \u001b[32m\"KY\"\u001b[0m -> \u001b[32m\"Kentucky\"\u001b[0m,\n",
       "  \u001b[32m\"TX\"\u001b[0m -> \u001b[32m\"Texas\"\u001b[0m\n",
       ")\n",
       "\u001b[36mres38_3\u001b[0m: \u001b[32mcollection\u001b[0m.\u001b[32mmutable\u001b[0m.\u001b[32mLinkedHashMap\u001b[0m[\u001b[32mString\u001b[0m, \u001b[32mString\u001b[0m] = \u001b[33mMap\u001b[0m(\n",
       "  \u001b[32m\"IL\"\u001b[0m -> \u001b[32m\"Illinois\"\u001b[0m,\n",
       "  \u001b[32m\"KY\"\u001b[0m -> \u001b[32m\"Kentucky\"\u001b[0m,\n",
       "  \u001b[32m\"TX\"\u001b[0m -> \u001b[32m\"Texas\"\u001b[0m\n",
       ")"
      ]
     },
     "metadata": {},
     "output_type": "display_data"
    }
   ],
   "source": [
    " import scala.collection.mutable.LinkedHashMap\n",
    " var states = LinkedHashMap(\"IL\" -> \"Illinois\")\n",
    " states += (\"KY\" -> \"Kentucky\")\n",
    " states += (\"TX\" -> \"Texas\")"
   ]
  },
  {
   "cell_type": "code",
   "execution_count": 45,
   "metadata": {},
   "outputs": [
    {
     "data": {
      "text/plain": [
       "\u001b[36mres39\u001b[0m: \u001b[32mLinkedHashMap\u001b[0m[\u001b[32mString\u001b[0m, \u001b[32mString\u001b[0m] = \u001b[33mMap\u001b[0m(\n",
       "  \u001b[32m\"IL\"\u001b[0m -> \u001b[32m\"Illinois\"\u001b[0m,\n",
       "  \u001b[32m\"KY\"\u001b[0m -> \u001b[32m\"Kentucky\"\u001b[0m,\n",
       "  \u001b[32m\"TX\"\u001b[0m -> \u001b[32m\"Texas\"\u001b[0m,\n",
       "  \u001b[32m\"AD\"\u001b[0m -> \u001b[32m\"Texas\"\u001b[0m\n",
       ")"
      ]
     },
     "metadata": {},
     "output_type": "display_data"
    }
   ],
   "source": [
    " states += (\"AD\" -> \"Texas\")"
   ]
  },
  {
   "attachments": {
    "11.1.png": {
     "image/png": "[encoded data removed]"
    }
   },
   "cell_type": "markdown",
   "metadata": {},
   "source": [
    "![11.1.png](attachment:11.1.png)"
   ]
  },
  {
   "cell_type": "markdown",
   "metadata": {},
   "source": [
    "### 11.14. Adding, Updating, and Removing Elements with a Mutable Map"
   ]
  },
  {
   "cell_type": "code",
   "execution_count": 46,
   "metadata": {},
   "outputs": [
    {
     "data": {
      "text/plain": [
       "\u001b[36mstates\u001b[0m: \u001b[32mcollection\u001b[0m.\u001b[32mmutable\u001b[0m.\u001b[32mMap\u001b[0m[\u001b[32mString\u001b[0m, \u001b[32mString\u001b[0m] = \u001b[33mMap\u001b[0m(\u001b[32m\"AK\"\u001b[0m -> \u001b[32m\"Alaska\"\u001b[0m)"
      ]
     },
     "metadata": {},
     "output_type": "display_data"
    }
   ],
   "source": [
    " var states = scala.collection.mutable.Map[String, String]()\n",
    " states(\"AK\") = \"Alaska\""
   ]
  },
  {
   "cell_type": "code",
   "execution_count": 47,
   "metadata": {},
   "outputs": [
    {
     "data": {
      "text/plain": [
       "\u001b[36mres41\u001b[0m: \u001b[32mcollection\u001b[0m.\u001b[32mmutable\u001b[0m.\u001b[32mMap\u001b[0m[\u001b[32mString\u001b[0m, \u001b[32mString\u001b[0m] = \u001b[33mMap\u001b[0m(\u001b[32m\"AL\"\u001b[0m -> \u001b[32m\"Alabama\"\u001b[0m, \u001b[32m\"AK\"\u001b[0m -> \u001b[32m\"Alaska\"\u001b[0m)"
      ]
     },
     "metadata": {},
     "output_type": "display_data"
    }
   ],
   "source": [
    " states += (\"AL\" -> \"Alabama\")"
   ]
  },
  {
   "cell_type": "code",
   "execution_count": 48,
   "metadata": {},
   "outputs": [
    {
     "data": {
      "text/plain": [
       "\u001b[36mres42\u001b[0m: \u001b[32mcollection\u001b[0m.\u001b[32mmutable\u001b[0m.\u001b[32mMap\u001b[0m[\u001b[32mString\u001b[0m, \u001b[32mString\u001b[0m] = \u001b[33mMap\u001b[0m(\n",
       "  \u001b[32m\"CO\"\u001b[0m -> \u001b[32m\"Colorado\"\u001b[0m,\n",
       "  \u001b[32m\"AL\"\u001b[0m -> \u001b[32m\"Alabama\"\u001b[0m,\n",
       "  \u001b[32m\"CA\"\u001b[0m -> \u001b[32m\"California\"\u001b[0m,\n",
       "  \u001b[32m\"AK\"\u001b[0m -> \u001b[32m\"Alaska\"\u001b[0m\n",
       ")"
      ]
     },
     "metadata": {},
     "output_type": "display_data"
    }
   ],
   "source": [
    "states ++= List(\"CA\" -> \"California\", \"CO\" -> \"Colorado\")"
   ]
  },
  {
   "cell_type": "code",
   "execution_count": 50,
   "metadata": {},
   "outputs": [
    {
     "data": {
      "text/plain": [
       "\u001b[36mres44\u001b[0m: \u001b[32mcollection\u001b[0m.\u001b[32mmutable\u001b[0m.\u001b[32mMap\u001b[0m[\u001b[32mString\u001b[0m, \u001b[32mString\u001b[0m] = \u001b[33mMap\u001b[0m(\n",
       "  \u001b[32m\"CO\"\u001b[0m -> \u001b[32m\"Colorado\"\u001b[0m,\n",
       "  \u001b[32m\"AL\"\u001b[0m -> \u001b[32m\"Alabama\"\u001b[0m,\n",
       "  \u001b[32m\"CA\"\u001b[0m -> \u001b[32m\"California\"\u001b[0m\n",
       ")"
      ]
     },
     "metadata": {},
     "output_type": "display_data"
    }
   ],
   "source": [
    " states -= \"AK\""
   ]
  },
  {
   "cell_type": "code",
   "execution_count": 51,
   "metadata": {},
   "outputs": [
    {
     "data": {
      "text/plain": [
       "\u001b[36mres45\u001b[0m: \u001b[32mcollection\u001b[0m.\u001b[32mmutable\u001b[0m.\u001b[32mMap\u001b[0m[\u001b[32mString\u001b[0m, \u001b[32mString\u001b[0m] = \u001b[33mMap\u001b[0m(\u001b[32m\"CO\"\u001b[0m -> \u001b[32m\"Colorado\"\u001b[0m, \u001b[32m\"CA\"\u001b[0m -> \u001b[32m\"California\"\u001b[0m)"
      ]
     },
     "metadata": {},
     "output_type": "display_data"
    }
   ],
   "source": [
    "states -= (\"AL\", \"AZ\")"
   ]
  },
  {
   "cell_type": "code",
   "execution_count": 52,
   "metadata": {},
   "outputs": [
    {
     "data": {
      "text/plain": []
     },
     "metadata": {},
     "output_type": "display_data"
    }
   ],
   "source": [
    " states(\"AK\") = \"Alaska, A Really Big State\""
   ]
  },
  {
   "cell_type": "code",
   "execution_count": 53,
   "metadata": {},
   "outputs": [
    {
     "data": {
      "text/plain": [
       "\u001b[36mres47\u001b[0m: \u001b[32mcollection\u001b[0m.\u001b[32mmutable\u001b[0m.\u001b[32mMap\u001b[0m[\u001b[32mString\u001b[0m, \u001b[32mString\u001b[0m] = \u001b[33mMap\u001b[0m(\n",
       "  \u001b[32m\"CO\"\u001b[0m -> \u001b[32m\"Colorado\"\u001b[0m,\n",
       "  \u001b[32m\"CA\"\u001b[0m -> \u001b[32m\"California\"\u001b[0m,\n",
       "  \u001b[32m\"AK\"\u001b[0m -> \u001b[32m\"Alaska, A Really Big State\"\u001b[0m\n",
       ")"
      ]
     },
     "metadata": {},
     "output_type": "display_data"
    }
   ],
   "source": [
    "states "
   ]
  },
  {
   "cell_type": "markdown",
   "metadata": {},
   "source": [
    "- put to add an element (or replace an existing element); \n",
    "- retain to keep only the elements in the map that match the predicate you supply; \n",
    "- remove to remove anelement by its key value; \n",
    "- clear to delete all elements in the ma"
   ]
  },
  {
   "cell_type": "code",
   "execution_count": 54,
   "metadata": {},
   "outputs": [
    {
     "data": {
      "text/plain": [
       "\u001b[36mstates\u001b[0m: \u001b[32mcollection\u001b[0m.\u001b[32mmutable\u001b[0m.\u001b[32mMap\u001b[0m[\u001b[32mString\u001b[0m, \u001b[32mString\u001b[0m] = \u001b[33mMap\u001b[0m(\n",
       "  \u001b[32m\"KY\"\u001b[0m -> \u001b[32m\"Kentucky\"\u001b[0m,\n",
       "  \u001b[32m\"IL\"\u001b[0m -> \u001b[32m\"Illinois\"\u001b[0m,\n",
       "  \u001b[32m\"AK\"\u001b[0m -> \u001b[32m\"Alaska\"\u001b[0m\n",
       ")"
      ]
     },
     "metadata": {},
     "output_type": "display_data"
    }
   ],
   "source": [
    " val states = collection.mutable.Map( \n",
    "     \"AK\" -> \"Alaska\", \n",
    "     \"IL\" -> \"Illinois\", \n",
    "     \"KY\" -> \"Kentucky\"\n",
    ")"
   ]
  },
  {
   "cell_type": "code",
   "execution_count": 55,
   "metadata": {},
   "outputs": [
    {
     "data": {
      "text/plain": [
       "\u001b[36mres49_0\u001b[0m: \u001b[32mOption\u001b[0m[\u001b[32mString\u001b[0m] = None\n",
       "\u001b[36mres49_1\u001b[0m: \u001b[32mcollection\u001b[0m.\u001b[32mmutable\u001b[0m.\u001b[32mMap\u001b[0m[\u001b[32mString\u001b[0m, \u001b[32mString\u001b[0m] = \u001b[33mMap\u001b[0m(\n",
       "  \u001b[32m\"CO\"\u001b[0m -> \u001b[32m\"Colorado\"\u001b[0m,\n",
       "  \u001b[32m\"KY\"\u001b[0m -> \u001b[32m\"Kentucky\"\u001b[0m,\n",
       "  \u001b[32m\"IL\"\u001b[0m -> \u001b[32m\"Illinois\"\u001b[0m,\n",
       "  \u001b[32m\"AK\"\u001b[0m -> \u001b[32m\"Alaska\"\u001b[0m\n",
       ")"
      ]
     },
     "metadata": {},
     "output_type": "display_data"
    }
   ],
   "source": [
    "states.put(\"CO\", \"Colorado\")\n",
    "states"
   ]
  },
  {
   "cell_type": "code",
   "execution_count": 56,
   "metadata": {},
   "outputs": [
    {
     "data": {
      "text/plain": [
       "\u001b[36mres50_0\u001b[0m: \u001b[32mcollection\u001b[0m.\u001b[32mmutable\u001b[0m.\u001b[32mMap\u001b[0m[\u001b[32mString\u001b[0m, \u001b[32mString\u001b[0m] = \u001b[33mMap\u001b[0m(\u001b[32m\"AK\"\u001b[0m -> \u001b[32m\"Alaska\"\u001b[0m)\n",
       "\u001b[36mres50_1\u001b[0m: \u001b[32mcollection\u001b[0m.\u001b[32mmutable\u001b[0m.\u001b[32mMap\u001b[0m[\u001b[32mString\u001b[0m, \u001b[32mString\u001b[0m] = \u001b[33mMap\u001b[0m(\u001b[32m\"AK\"\u001b[0m -> \u001b[32m\"Alaska\"\u001b[0m)"
      ]
     },
     "metadata": {},
     "output_type": "display_data"
    }
   ],
   "source": [
    " states.retain((k,v) => k == \"AK\")\n",
    "states "
   ]
  },
  {
   "cell_type": "code",
   "execution_count": 57,
   "metadata": {},
   "outputs": [
    {
     "data": {
      "text/plain": [
       "\u001b[36mres51\u001b[0m: \u001b[32mOption\u001b[0m[\u001b[32mString\u001b[0m] = Some(Alaska)"
      ]
     },
     "metadata": {},
     "output_type": "display_data"
    }
   ],
   "source": [
    " states.remove(\"AK\")"
   ]
  },
  {
   "cell_type": "code",
   "execution_count": 59,
   "metadata": {},
   "outputs": [
    {
     "data": {
      "text/plain": [
       "\u001b[36mres52_1\u001b[0m: \u001b[32mcollection\u001b[0m.\u001b[32mmutable\u001b[0m.\u001b[32mMap\u001b[0m[\u001b[32mString\u001b[0m, \u001b[32mString\u001b[0m] = \u001b[33mMap\u001b[0m()"
      ]
     },
     "metadata": {},
     "output_type": "display_data"
    }
   ],
   "source": [
    "states.clear\n",
    "states "
   ]
  },
  {
   "cell_type": "markdown",
   "metadata": {},
   "source": [
    "### 11.15. Adding, Updating, and Removing Elements with Immutable Maps"
   ]
  },
  {
   "cell_type": "code",
   "execution_count": 60,
   "metadata": {},
   "outputs": [
    {
     "data": {
      "text/plain": [
       "\u001b[36ma\u001b[0m: \u001b[32mMap\u001b[0m[\u001b[32mString\u001b[0m, \u001b[32mString\u001b[0m] = \u001b[33mMap\u001b[0m(\u001b[32m\"AL\"\u001b[0m -> \u001b[32m\"Alabama\"\u001b[0m)"
      ]
     },
     "metadata": {},
     "output_type": "display_data"
    }
   ],
   "source": [
    " val a = Map(\"AL\" -> \"Alabama\")"
   ]
  },
  {
   "cell_type": "code",
   "execution_count": 61,
   "metadata": {},
   "outputs": [
    {
     "data": {
      "text/plain": [
       "\u001b[36mb\u001b[0m: \u001b[32mMap\u001b[0m[\u001b[32mString\u001b[0m, \u001b[32mString\u001b[0m] = \u001b[33mMap\u001b[0m(\u001b[32m\"AL\"\u001b[0m -> \u001b[32m\"Alabama\"\u001b[0m, \u001b[32m\"AK\"\u001b[0m -> \u001b[32m\"Alaska\"\u001b[0m)"
      ]
     },
     "metadata": {},
     "output_type": "display_data"
    }
   ],
   "source": [
    "// add one element\n",
    "val b = a + (\"AK\" -> \"Alaska\")"
   ]
  },
  {
   "cell_type": "code",
   "execution_count": 62,
   "metadata": {},
   "outputs": [
    {
     "data": {
      "text/plain": [
       "\u001b[36mc\u001b[0m: \u001b[32mMap\u001b[0m[\u001b[32mString\u001b[0m, \u001b[32mString\u001b[0m] = \u001b[33mMap\u001b[0m(\n",
       "  \u001b[32m\"AL\"\u001b[0m -> \u001b[32m\"Alabama\"\u001b[0m,\n",
       "  \u001b[32m\"AK\"\u001b[0m -> \u001b[32m\"Alaska\"\u001b[0m,\n",
       "  \u001b[32m\"AR\"\u001b[0m -> \u001b[32m\"Arkansas\"\u001b[0m,\n",
       "  \u001b[32m\"AZ\"\u001b[0m -> \u001b[32m\"Arizona\"\u001b[0m\n",
       ")"
      ]
     },
     "metadata": {},
     "output_type": "display_data"
    }
   ],
   "source": [
    " // add multiple elements\n",
    "val c = b + (\"AR\" -> \"Arkansas\", \"AZ\" -> \"Arizona\")"
   ]
  },
  {
   "cell_type": "code",
   "execution_count": 64,
   "metadata": {},
   "outputs": [
    {
     "data": {
      "text/plain": [
       "\u001b[36md\u001b[0m: \u001b[32mMap\u001b[0m[\u001b[32mString\u001b[0m, \u001b[32mString\u001b[0m] = \u001b[33mMap\u001b[0m(\n",
       "  \u001b[32m\"AL\"\u001b[0m -> \u001b[32m\"Alabama\"\u001b[0m,\n",
       "  \u001b[32m\"AK\"\u001b[0m -> \u001b[32m\"Alaska\"\u001b[0m,\n",
       "  \u001b[32m\"AR\"\u001b[0m -> \u001b[32m\"banana\"\u001b[0m,\n",
       "  \u001b[32m\"AZ\"\u001b[0m -> \u001b[32m\"Arizona\"\u001b[0m\n",
       ")\n",
       "\u001b[36me\u001b[0m: \u001b[32mMap\u001b[0m[\u001b[32mString\u001b[0m, \u001b[32mString\u001b[0m] = \u001b[33mMap\u001b[0m(\n",
       "  \u001b[32m\"AL\"\u001b[0m -> \u001b[32m\"Alabama\"\u001b[0m,\n",
       "  \u001b[32m\"AK\"\u001b[0m -> \u001b[32m\"Alaska\"\u001b[0m,\n",
       "  \u001b[32m\"AZ\"\u001b[0m -> \u001b[32m\"Arizona\"\u001b[0m\n",
       ")"
      ]
     },
     "metadata": {},
     "output_type": "display_data"
    }
   ],
   "source": [
    " val d = c + (\"AR\" -> \"banana\")\n",
    "val e = d - \"AR\""
   ]
  },
  {
   "cell_type": "code",
   "execution_count": 65,
   "metadata": {},
   "outputs": [
    {
     "data": {
      "text/plain": [
       "\u001b[36mf\u001b[0m: \u001b[32mMap\u001b[0m[\u001b[32mString\u001b[0m, \u001b[32mString\u001b[0m] = \u001b[33mMap\u001b[0m(\u001b[32m\"AK\"\u001b[0m -> \u001b[32m\"Alaska\"\u001b[0m)"
      ]
     },
     "metadata": {},
     "output_type": "display_data"
    }
   ],
   "source": [
    " val f = e - \"AZ\" - \"AL\""
   ]
  },
  {
   "cell_type": "code",
   "execution_count": 66,
   "metadata": {},
   "outputs": [
    {
     "data": {
      "text/plain": [
       "\u001b[36mx\u001b[0m: \u001b[32mMap\u001b[0m[\u001b[32mString\u001b[0m, \u001b[32mString\u001b[0m] = \u001b[33mMap\u001b[0m(\u001b[32m\"AL\"\u001b[0m -> \u001b[32m\"Alabama\"\u001b[0m)"
      ]
     },
     "metadata": {},
     "output_type": "display_data"
    }
   ],
   "source": [
    " var x = Map(\"AL\" -> \"Alabama\")"
   ]
  },
  {
   "cell_type": "markdown",
   "metadata": {},
   "source": [
    "### 11.16. Accessing Map Values\n",
    "- GET"
   ]
  },
  {
   "cell_type": "code",
   "execution_count": 67,
   "metadata": {},
   "outputs": [
    {
     "data": {
      "text/plain": [
       "\u001b[36mstates\u001b[0m: \u001b[32mMap\u001b[0m[\u001b[32mString\u001b[0m, \u001b[32mString\u001b[0m] = \u001b[33mMap\u001b[0m(\n",
       "  \u001b[32m\"AL\"\u001b[0m -> \u001b[32m\"Alabama\"\u001b[0m,\n",
       "  \u001b[32m\"AK\"\u001b[0m -> \u001b[32m\"Alaska\"\u001b[0m,\n",
       "  \u001b[32m\"AZ\"\u001b[0m -> \u001b[32m\"Arizona\"\u001b[0m\n",
       ")"
      ]
     },
     "metadata": {},
     "output_type": "display_data"
    }
   ],
   "source": [
    " val states = Map(\"AL\" -> \"Alabama\", \"AK\" -> \"Alaska\", \"AZ\" -> \"Arizona\")"
   ]
  },
  {
   "cell_type": "code",
   "execution_count": 68,
   "metadata": {},
   "outputs": [
    {
     "data": {
      "text/plain": [
       "\u001b[36mres60\u001b[0m: \u001b[32mString\u001b[0m = \u001b[32m\"Alabama\"\u001b[0m"
      ]
     },
     "metadata": {},
     "output_type": "display_data"
    }
   ],
   "source": [
    "states(\"AL\")"
   ]
  },
  {
   "cell_type": "code",
   "execution_count": 71,
   "metadata": {},
   "outputs": [
    {
     "ename": "",
     "evalue": "",
     "output_type": "error",
     "traceback": [
      "java.util.NoSuchElementException: key not found: Al",
      "\tscala.collection.MapLike$class.default(MapLike.scala:228)",
      "\tscala.collection.AbstractMap.default(Map.scala:59)",
      "\tscala.collection.MapLike$class.apply(MapLike.scala:141)",
      "\tscala.collection.AbstractMap.apply(Map.scala:59)",
      "\tcmd62$$user$$anonfun$1.apply(Main.scala:244)",
      "\tcmd62$$user$$anonfun$1.apply(Main.scala:243)"
     ]
    }
   ],
   "source": [
    "states(\"Al\")"
   ]
  },
  {
   "cell_type": "code",
   "execution_count": 72,
   "metadata": {},
   "outputs": [
    {
     "data": {
      "text/plain": [
       "\u001b[36mstates\u001b[0m: \u001b[32mMap\u001b[0m[\u001b[32mString\u001b[0m, \u001b[32mString\u001b[0m] = \u001b[33mMap\u001b[0m(\u001b[32m\"AL\"\u001b[0m -> \u001b[32m\"Alabama\"\u001b[0m)\n",
       "\u001b[36mres63_1\u001b[0m: \u001b[32mString\u001b[0m = \u001b[32m\"Not found\"\u001b[0m"
      ]
     },
     "metadata": {},
     "output_type": "display_data"
    }
   ],
   "source": [
    " val states = Map(\"AL\" -> \"Alabama\").withDefaultValue(\"Not found\")\n",
    " states(\"foo\")"
   ]
  },
  {
   "cell_type": "code",
   "execution_count": 73,
   "metadata": {},
   "outputs": [
    {
     "data": {
      "text/plain": [
       "\u001b[36ms\u001b[0m: \u001b[32mString\u001b[0m = \u001b[32m\"No such state\"\u001b[0m"
      ]
     },
     "metadata": {},
     "output_type": "display_data"
    }
   ],
   "source": [
    " val s = states.getOrElse(\"FOO\", \"No such state\")"
   ]
  },
  {
   "cell_type": "code",
   "execution_count": 74,
   "metadata": {},
   "outputs": [
    {
     "data": {
      "text/plain": [
       "\u001b[36mres65\u001b[0m: \u001b[32mOption\u001b[0m[\u001b[32mString\u001b[0m] = None"
      ]
     },
     "metadata": {},
     "output_type": "display_data"
    }
   ],
   "source": [
    "states.get(\"aL\")"
   ]
  },
  {
   "cell_type": "markdown",
   "metadata": {},
   "source": [
    "### 11.17. Traversing a Map"
   ]
  },
  {
   "cell_type": "code",
   "execution_count": 79,
   "metadata": {},
   "outputs": [
    {
     "data": {
      "text/plain": [
       "\u001b[36mratings\u001b[0m: \u001b[32mMap\u001b[0m[\u001b[32mString\u001b[0m, \u001b[32mDouble\u001b[0m] = \u001b[33mMap\u001b[0m(\n",
       "  \u001b[32m\"Lady in the Water\"\u001b[0m -> \u001b[32m3.0\u001b[0m,\n",
       "  \u001b[32m\"Snakes on a Plane\"\u001b[0m -> \u001b[32m4.0\u001b[0m,\n",
       "  \u001b[32m\"You, Me and Dupree\"\u001b[0m -> \u001b[32m3.5\u001b[0m\n",
       ")"
      ]
     },
     "metadata": {},
     "output_type": "display_data"
    }
   ],
   "source": [
    "val ratings = Map(\"Lady in the Water\"-> 3.0, \"Snakes on a Plane\"-> 4.0,\n",
    "\"You, Me and Dupree\"-> 3.5)"
   ]
  },
  {
   "cell_type": "code",
   "execution_count": 80,
   "metadata": {},
   "outputs": [
    {
     "name": "stdout",
     "output_type": "stream",
     "text": [
      "key: Lady in the Water, value: 3.0\n",
      "key: Snakes on a Plane, value: 4.0\n",
      "key: You, Me and Dupree, value: 3.5\n"
     ]
    },
    {
     "data": {
      "text/plain": []
     },
     "metadata": {},
     "output_type": "display_data"
    }
   ],
   "source": [
    "for ((k,v) <- ratings) println(s\"key: $k, value: $v\")"
   ]
  },
  {
   "cell_type": "code",
   "execution_count": 77,
   "metadata": {},
   "outputs": [
    {
     "name": "stdout",
     "output_type": "stream",
     "text": [
      "key: Lady in the Water, value: 3.0\r\n",
      "key: Snakes on a Plane, value: 4.0\r\n",
      "key: You, Me and Dupree, value: 3.5\r\n"
     ]
    },
    {
     "data": {
      "text/plain": []
     },
     "metadata": {},
     "output_type": "display_data"
    }
   ],
   "source": [
    "ratings.foreach { case(movie, rating) => println(s\"key: $movie, value: $rating\")\n",
    "}"
   ]
  },
  {
   "cell_type": "code",
   "execution_count": 81,
   "metadata": {},
   "outputs": [
    {
     "name": "stdout",
     "output_type": "stream",
     "text": [
      "key: Lady in the Water, value: 3.0\n",
      "key: Snakes on a Plane, value: 4.0\n",
      "key: You, Me and Dupree, value: 3.5\n"
     ]
    },
    {
     "data": {
      "text/plain": []
     },
     "metadata": {},
     "output_type": "display_data"
    }
   ],
   "source": [
    "ratings.foreach(x => println(s\"key: ${x._1}, value: ${x._2}\"))"
   ]
  },
  {
   "cell_type": "code",
   "execution_count": 82,
   "metadata": {},
   "outputs": [
    {
     "name": "stdout",
     "output_type": "stream",
     "text": [
      "Lady in the Water\n",
      "Snakes on a Plane\n",
      "You, Me and Dupree\n"
     ]
    },
    {
     "data": {
      "text/plain": []
     },
     "metadata": {},
     "output_type": "display_data"
    }
   ],
   "source": [
    "ratings.keys.foreach((movie) => println(movie))"
   ]
  },
  {
   "cell_type": "code",
   "execution_count": 83,
   "metadata": {},
   "outputs": [
    {
     "name": "stdout",
     "output_type": "stream",
     "text": [
      "Lady in the Water\n",
      "Snakes on a Plane\n",
      "You, Me and Dupree\n",
      "3.0\n",
      "4.0\n",
      "3.5\n"
     ]
    },
    {
     "data": {
      "text/plain": []
     },
     "metadata": {},
     "output_type": "display_data"
    }
   ],
   "source": [
    "ratings.keys.foreach(println)\n",
    "ratings.values.foreach(println)"
   ]
  },
  {
   "cell_type": "code",
   "execution_count": 84,
   "metadata": {},
   "outputs": [
    {
     "data": {
      "text/plain": [
       "\u001b[36mmap\u001b[0m: \u001b[32mMap\u001b[0m[\u001b[32mInt\u001b[0m, \u001b[32mInt\u001b[0m] = \u001b[33mMap\u001b[0m(\u001b[32m1\u001b[0m -> \u001b[32m10\u001b[0m, \u001b[32m2\u001b[0m -> \u001b[32m20\u001b[0m, \u001b[32m3\u001b[0m -> \u001b[32m30\u001b[0m)\n",
       "\u001b[36mres75_1\u001b[0m: \u001b[32mMap\u001b[0m[\u001b[32mInt\u001b[0m, \u001b[32mInt\u001b[0m] = \u001b[33mMap\u001b[0m(\u001b[32m1\u001b[0m -> \u001b[32m11\u001b[0m, \u001b[32m2\u001b[0m -> \u001b[32m22\u001b[0m, \u001b[32m3\u001b[0m -> \u001b[32m33\u001b[0m)"
      ]
     },
     "metadata": {},
     "output_type": "display_data"
    }
   ],
   "source": [
    " val map = Map(1 -> 10, 2 -> 20, 3 -> 30)\n",
    " map.transform((k,v) => k + v)"
   ]
  },
  {
   "cell_type": "code",
   "execution_count": 86,
   "metadata": {},
   "outputs": [
    {
     "data": {
      "text/plain": [
       "\u001b[36mres77\u001b[0m: \u001b[32mDouble\u001b[0m = \u001b[32m3.0\u001b[0m"
      ]
     },
     "metadata": {},
     "output_type": "display_data"
    }
   ],
   "source": [
    "ratings.valuesIterator.next"
   ]
  },
  {
   "cell_type": "markdown",
   "metadata": {},
   "source": [
    "### 11.18. Getting the Keys or Values from a Map"
   ]
  },
  {
   "cell_type": "code",
   "execution_count": 1,
   "metadata": {},
   "outputs": [
    {
     "data": {
      "text/plain": [
       "\u001b[36mstates\u001b[0m: \u001b[32mMap\u001b[0m[\u001b[32mString\u001b[0m, \u001b[32mString\u001b[0m] = \u001b[33mMap\u001b[0m(\n",
       "  \u001b[32m\"AK\"\u001b[0m -> \u001b[32m\"Alaska\"\u001b[0m,\n",
       "  \u001b[32m\"AL\"\u001b[0m -> \u001b[32m\"Alabama\"\u001b[0m,\n",
       "  \u001b[32m\"AR\"\u001b[0m -> \u001b[32m\"Arkansas\"\u001b[0m\n",
       ")\n",
       "\u001b[36mres0_1\u001b[0m: \u001b[32mSet\u001b[0m[\u001b[32mString\u001b[0m] = \u001b[33mSet\u001b[0m(\u001b[32m\"AK\"\u001b[0m, \u001b[32m\"AL\"\u001b[0m, \u001b[32m\"AR\"\u001b[0m)"
      ]
     },
     "metadata": {},
     "output_type": "display_data"
    }
   ],
   "source": [
    "val states = Map(\"AK\" -> \"Alaska\", \"AL\" -> \"Alabama\", \"AR\" -> \"Arkansas\")\n",
    "states.keySet"
   ]
  },
  {
   "cell_type": "code",
   "execution_count": 2,
   "metadata": {},
   "outputs": [
    {
     "data": {
      "text/plain": [
       "\u001b[36mres1_0\u001b[0m: \u001b[32mIterable\u001b[0m[\u001b[32mString\u001b[0m] = \u001b[33mSet\u001b[0m(\u001b[32m\"AK\"\u001b[0m, \u001b[32m\"AL\"\u001b[0m, \u001b[32m\"AR\"\u001b[0m)\n",
       "\u001b[36mres1_1\u001b[0m: \u001b[32mIterable\u001b[0m[\u001b[32mString\u001b[0m] = \u001b[33mMapLike\u001b[0m(\u001b[32m\"Alaska\"\u001b[0m, \u001b[32m\"Alabama\"\u001b[0m, \u001b[32m\"Arkansas\"\u001b[0m)"
      ]
     },
     "metadata": {},
     "output_type": "display_data"
    }
   ],
   "source": [
    "states.keys\n",
    "states.values"
   ]
  },
  {
   "cell_type": "markdown",
   "metadata": {},
   "source": [
    "### 11.19. Reversing Keys and Values\n",
    "- val reverseMap = for ((k,v) <- map) yield (v, k)"
   ]
  },
  {
   "cell_type": "code",
   "execution_count": 3,
   "metadata": {},
   "outputs": [
    {
     "data": {
      "text/plain": [
       "\u001b[36mproducts\u001b[0m: \u001b[32mMap\u001b[0m[\u001b[32mString\u001b[0m, \u001b[32mString\u001b[0m] = \u001b[33mMap\u001b[0m(\n",
       "  \u001b[32m\"Breadsticks\"\u001b[0m -> \u001b[32m\"$5\"\u001b[0m,\n",
       "  \u001b[32m\"Pizza\"\u001b[0m -> \u001b[32m\"$10\"\u001b[0m,\n",
       "  \u001b[32m\"Wings\"\u001b[0m -> \u001b[32m\"$5\"\u001b[0m\n",
       ")"
      ]
     },
     "metadata": {},
     "output_type": "display_data"
    }
   ],
   "source": [
    "val products = Map( \n",
    "    \"Breadsticks\" -> \"$5\", \n",
    "    \"Pizza\" -> \"$10\", \n",
    "    \"Wings\" -> \"$5\"\n",
    " )"
   ]
  },
  {
   "cell_type": "code",
   "execution_count": 6,
   "metadata": {},
   "outputs": [
    {
     "data": {
      "text/plain": [
       "\u001b[36mreverseMap\u001b[0m: \u001b[32mMap\u001b[0m[\u001b[32mString\u001b[0m, \u001b[32mString\u001b[0m] = \u001b[33mMap\u001b[0m(\u001b[32m\"$5\"\u001b[0m -> \u001b[32m\"Wings\"\u001b[0m, \u001b[32m\"$10\"\u001b[0m -> \u001b[32m\"Pizza\"\u001b[0m)"
      ]
     },
     "metadata": {},
     "output_type": "display_data"
    }
   ],
   "source": [
    "val reverseMap= for((k,v) <- products) yield(v,k)"
   ]
  },
  {
   "cell_type": "markdown",
   "metadata": {},
   "source": [
    "### 11.20. Testing for the Existence of a Key or Value in a Map"
   ]
  },
  {
   "cell_type": "code",
   "execution_count": 7,
   "metadata": {},
   "outputs": [
    {
     "name": "stdout",
     "output_type": "stream",
     "text": [
      "No foo\n"
     ]
    },
    {
     "data": {
      "text/plain": []
     },
     "metadata": {},
     "output_type": "display_data"
    }
   ],
   "source": [
    " if (states.contains(\"FOO\")) println(\"Found foo\") else println(\"No foo\")"
   ]
  },
  {
   "cell_type": "code",
   "execution_count": 8,
   "metadata": {},
   "outputs": [
    {
     "data": {
      "text/plain": [
       "\u001b[36mres5\u001b[0m: \u001b[32mBoolean\u001b[0m = false"
      ]
     },
     "metadata": {},
     "output_type": "display_data"
    }
   ],
   "source": [
    " states.valuesIterator.exists(_.contains(\"ucky\"))"
   ]
  },
  {
   "cell_type": "code",
   "execution_count": 9,
   "metadata": {},
   "outputs": [
    {
     "data": {
      "text/plain": [
       "\u001b[36mres6\u001b[0m: \u001b[32mBoolean\u001b[0m = true"
      ]
     },
     "metadata": {},
     "output_type": "display_data"
    }
   ],
   "source": [
    " states.valuesIterator.exists(_.contains(\"sas\"))"
   ]
  },
  {
   "cell_type": "code",
   "execution_count": 10,
   "metadata": {},
   "outputs": [
    {
     "data": {
      "text/plain": [
       "\u001b[36mres7\u001b[0m: \u001b[32mIterator\u001b[0m[\u001b[32mString\u001b[0m] = non-empty iterator"
      ]
     },
     "metadata": {},
     "output_type": "display_data"
    }
   ],
   "source": [
    " states.valuesIterator"
   ]
  },
  {
   "cell_type": "markdown",
   "metadata": {},
   "source": [
    "### 11.21. Filtering a Map"
   ]
  },
  {
   "cell_type": "code",
   "execution_count": 12,
   "metadata": {},
   "outputs": [
    {
     "data": {
      "text/plain": [
       "\u001b[36mx\u001b[0m: \u001b[32mcollection\u001b[0m.\u001b[32mmutable\u001b[0m.\u001b[32mMap\u001b[0m[\u001b[32mInt\u001b[0m, \u001b[32mString\u001b[0m] = \u001b[33mMap\u001b[0m(\u001b[32m2\u001b[0m -> \u001b[32m\"b\"\u001b[0m, \u001b[32m1\u001b[0m -> \u001b[32m\"a\"\u001b[0m, \u001b[32m3\u001b[0m -> \u001b[32m\"c\"\u001b[0m)"
      ]
     },
     "metadata": {},
     "output_type": "display_data"
    }
   ],
   "source": [
    " var x = collection.mutable.Map(1 -> \"a\", 2 -> \"b\", 3 -> \"c\")"
   ]
  },
  {
   "cell_type": "code",
   "execution_count": 13,
   "metadata": {},
   "outputs": [
    {
     "data": {
      "text/plain": [
       "\u001b[36mres10\u001b[0m: \u001b[32mcollection\u001b[0m.\u001b[32mmutable\u001b[0m.\u001b[32mMap\u001b[0m[\u001b[32mInt\u001b[0m, \u001b[32mString\u001b[0m] = \u001b[33mMap\u001b[0m(\u001b[32m2\u001b[0m -> \u001b[32m\"b\"\u001b[0m, \u001b[32m3\u001b[0m -> \u001b[32m\"c\"\u001b[0m)"
      ]
     },
     "metadata": {},
     "output_type": "display_data"
    }
   ],
   "source": [
    "//get new map\n",
    "x.retain((k,v) => k > 1)"
   ]
  },
  {
   "cell_type": "code",
   "execution_count": 14,
   "metadata": {},
   "outputs": [
    {
     "data": {
      "text/plain": [
       "\u001b[36mres11\u001b[0m: \u001b[32mcollection\u001b[0m.\u001b[32mMap\u001b[0m[\u001b[32mInt\u001b[0m, \u001b[32mString\u001b[0m] = \u001b[33mMap\u001b[0m(\u001b[32m3\u001b[0m -> \u001b[32m\"c\"\u001b[0m)"
      ]
     },
     "metadata": {},
     "output_type": "display_data"
    }
   ],
   "source": [
    " x.filterKeys(_ > 2)"
   ]
  },
  {
   "cell_type": "code",
   "execution_count": 18,
   "metadata": {},
   "outputs": [
    {
     "data": {
      "text/plain": [
       "defined \u001b[32mfunction \u001b[36monly1\u001b[0m\n",
       "\u001b[36mres15_1\u001b[0m: \u001b[32mcollection\u001b[0m.\u001b[32mMap\u001b[0m[\u001b[32mInt\u001b[0m, \u001b[32mString\u001b[0m] = \u001b[33mMap\u001b[0m(\u001b[32m2\u001b[0m -> \u001b[32m\"b\"\u001b[0m)\n",
       "\u001b[36mres15_2\u001b[0m: \u001b[32mcollection\u001b[0m.\u001b[32mmutable\u001b[0m.\u001b[32mMap\u001b[0m[\u001b[32mInt\u001b[0m, \u001b[32mString\u001b[0m] = \u001b[33mMap\u001b[0m(\u001b[32m2\u001b[0m -> \u001b[32m\"b\"\u001b[0m, \u001b[32m3\u001b[0m -> \u001b[32m\"c\"\u001b[0m)"
      ]
     },
     "metadata": {},
     "output_type": "display_data"
    }
   ],
   "source": [
    "def only1(i: Int) = if (i == 2) true else false\n",
    "x.filterKeys(only1)\n",
    "x"
   ]
  },
  {
   "cell_type": "code",
   "execution_count": 19,
   "metadata": {},
   "outputs": [
    {
     "data": {
      "text/plain": [
       "\u001b[36mm\u001b[0m: \u001b[32mMap\u001b[0m[\u001b[32mInt\u001b[0m, \u001b[32mString\u001b[0m] = \u001b[33mMap\u001b[0m(\u001b[32m1\u001b[0m -> \u001b[32m\"a\"\u001b[0m, \u001b[32m2\u001b[0m -> \u001b[32m\"b\"\u001b[0m, \u001b[32m3\u001b[0m -> \u001b[32m\"c\"\u001b[0m)"
      ]
     },
     "metadata": {},
     "output_type": "display_data"
    }
   ],
   "source": [
    " var m = Map(1 -> \"a\", 2 -> \"b\", 3 -> \"c\")"
   ]
  },
  {
   "cell_type": "code",
   "execution_count": 21,
   "metadata": {},
   "outputs": [
    {
     "data": {
      "text/plain": [
       "\u001b[36mres18\u001b[0m: \u001b[32mMap\u001b[0m[\u001b[32mInt\u001b[0m, \u001b[32mString\u001b[0m] = \u001b[33mMap\u001b[0m(\u001b[32m2\u001b[0m -> \u001b[32m\"b\"\u001b[0m, \u001b[32m3\u001b[0m -> \u001b[32m\"c\"\u001b[0m)"
      ]
     },
     "metadata": {},
     "output_type": "display_data"
    }
   ],
   "source": [
    "m.filterKeys(Set(2,3))"
   ]
  },
  {
   "cell_type": "code",
   "execution_count": 22,
   "metadata": {},
   "outputs": [
    {
     "data": {
      "text/plain": [
       "\u001b[36mres19\u001b[0m: \u001b[32mMap\u001b[0m[\u001b[32mInt\u001b[0m, \u001b[32mString\u001b[0m] = \u001b[33mMap\u001b[0m(\u001b[32m2\u001b[0m -> \u001b[32m\"b\"\u001b[0m, \u001b[32m3\u001b[0m -> \u001b[32m\"c\"\u001b[0m)"
      ]
     },
     "metadata": {},
     "output_type": "display_data"
    }
   ],
   "source": [
    "m.filter((t) => t._1 > 1)"
   ]
  },
  {
   "cell_type": "code",
   "execution_count": 23,
   "metadata": {},
   "outputs": [
    {
     "data": {
      "text/plain": [
       "\u001b[36mres20\u001b[0m: \u001b[32mMap\u001b[0m[\u001b[32mInt\u001b[0m, \u001b[32mString\u001b[0m] = \u001b[33mMap\u001b[0m(\u001b[32m2\u001b[0m -> \u001b[32m\"b\"\u001b[0m)"
      ]
     },
     "metadata": {},
     "output_type": "display_data"
    }
   ],
   "source": [
    "m.filter((t)=>t._2.contains(\"b\"))"
   ]
  },
  {
   "cell_type": "code",
   "execution_count": 24,
   "metadata": {},
   "outputs": [
    {
     "data": {
      "text/plain": [
       "\u001b[36mres21\u001b[0m: \u001b[32mMap\u001b[0m[\u001b[32mInt\u001b[0m, \u001b[32mString\u001b[0m] = \u001b[33mMap\u001b[0m(\u001b[32m1\u001b[0m -> \u001b[32m\"a\"\u001b[0m, \u001b[32m2\u001b[0m -> \u001b[32m\"b\"\u001b[0m)"
      ]
     },
     "metadata": {},
     "output_type": "display_data"
    }
   ],
   "source": [
    "m.take(2)"
   ]
  },
  {
   "cell_type": "markdown",
   "metadata": {},
   "source": [
    "### 11.22. Sorting an Existing Map by Key or Value"
   ]
  },
  {
   "cell_type": "code",
   "execution_count": 25,
   "metadata": {},
   "outputs": [
    {
     "data": {
      "text/plain": [
       "\u001b[36mgrades\u001b[0m: \u001b[32mMap\u001b[0m[\u001b[32mString\u001b[0m, \u001b[32mInt\u001b[0m] = \u001b[33mMap\u001b[0m(\n",
       "  \u001b[32m\"Hannah\"\u001b[0m -> \u001b[32m92\u001b[0m,\n",
       "  \u001b[32m\"Melissa\"\u001b[0m -> \u001b[32m95\u001b[0m,\n",
       "  \u001b[32m\"Kim\"\u001b[0m -> \u001b[32m90\u001b[0m,\n",
       "  \u001b[32m\"Emily\"\u001b[0m -> \u001b[32m91\u001b[0m,\n",
       "  \u001b[32m\"Al\"\u001b[0m -> \u001b[32m85\u001b[0m\n",
       ")"
      ]
     },
     "metadata": {},
     "output_type": "display_data"
    }
   ],
   "source": [
    " val grades = Map(\n",
    "     \"Kim\" -> 90, \n",
    "     \"Al\" -> 85, \n",
    "     \"Melissa\" -> 95, \n",
    "     \"Emily\" -> 91, \n",
    "     \"Hannah\" -> 92\n",
    ")"
   ]
  },
  {
   "cell_type": "code",
   "execution_count": 26,
   "metadata": {},
   "outputs": [
    {
     "data": {
      "text/plain": [
       "\u001b[32mimport \u001b[36mscala.collection.immutable.ListMap\u001b[0m\n",
       "\u001b[36mres23_1\u001b[0m: \u001b[32mcollection\u001b[0m.\u001b[32mimmutable\u001b[0m.\u001b[32mListMap\u001b[0m[\u001b[32mString\u001b[0m, \u001b[32mInt\u001b[0m] = \u001b[33mMap\u001b[0m(\n",
       "  \u001b[32m\"Al\"\u001b[0m -> \u001b[32m85\u001b[0m,\n",
       "  \u001b[32m\"Emily\"\u001b[0m -> \u001b[32m91\u001b[0m,\n",
       "  \u001b[32m\"Hannah\"\u001b[0m -> \u001b[32m92\u001b[0m,\n",
       "  \u001b[32m\"Kim\"\u001b[0m -> \u001b[32m90\u001b[0m,\n",
       "  \u001b[32m\"Melissa\"\u001b[0m -> \u001b[32m95\u001b[0m\n",
       ")"
      ]
     },
     "metadata": {},
     "output_type": "display_data"
    }
   ],
   "source": [
    " import scala.collection.immutable.ListMap\n",
    " ListMap(grades.toSeq.sortBy(_._1):_*)"
   ]
  },
  {
   "cell_type": "code",
   "execution_count": 27,
   "metadata": {},
   "outputs": [
    {
     "data": {
      "text/plain": [
       "\u001b[36mres24\u001b[0m: \u001b[32mListMap\u001b[0m[\u001b[32mString\u001b[0m, \u001b[32mInt\u001b[0m] = \u001b[33mMap\u001b[0m(\n",
       "  \u001b[32m\"Al\"\u001b[0m -> \u001b[32m85\u001b[0m,\n",
       "  \u001b[32m\"Kim\"\u001b[0m -> \u001b[32m90\u001b[0m,\n",
       "  \u001b[32m\"Emily\"\u001b[0m -> \u001b[32m91\u001b[0m,\n",
       "  \u001b[32m\"Hannah\"\u001b[0m -> \u001b[32m92\u001b[0m,\n",
       "  \u001b[32m\"Melissa\"\u001b[0m -> \u001b[32m95\u001b[0m\n",
       ")"
      ]
     },
     "metadata": {},
     "output_type": "display_data"
    }
   ],
   "source": [
    " ListMap(grades.toSeq.sortBy(_._2):_*)"
   ]
  },
  {
   "cell_type": "code",
   "execution_count": 28,
   "metadata": {},
   "outputs": [
    {
     "data": {
      "text/plain": [
       "\u001b[36mres25\u001b[0m: \u001b[32mListMap\u001b[0m[\u001b[32mString\u001b[0m, \u001b[32mInt\u001b[0m] = \u001b[33mMap\u001b[0m(\n",
       "  \u001b[32m\"Al\"\u001b[0m -> \u001b[32m85\u001b[0m,\n",
       "  \u001b[32m\"Emily\"\u001b[0m -> \u001b[32m91\u001b[0m,\n",
       "  \u001b[32m\"Hannah\"\u001b[0m -> \u001b[32m92\u001b[0m,\n",
       "  \u001b[32m\"Kim\"\u001b[0m -> \u001b[32m90\u001b[0m,\n",
       "  \u001b[32m\"Melissa\"\u001b[0m -> \u001b[32m95\u001b[0m\n",
       ")"
      ]
     },
     "metadata": {},
     "output_type": "display_data"
    }
   ],
   "source": [
    " ListMap(grades.toSeq.sortWith(_._1 < _._1):_*)"
   ]
  },
  {
   "cell_type": "code",
   "execution_count": 29,
   "metadata": {},
   "outputs": [
    {
     "data": {
      "text/plain": [
       "\u001b[36mres26\u001b[0m: \u001b[32mListMap\u001b[0m[\u001b[32mString\u001b[0m, \u001b[32mInt\u001b[0m] = \u001b[33mMap\u001b[0m(\n",
       "  \u001b[32m\"Al\"\u001b[0m -> \u001b[32m85\u001b[0m,\n",
       "  \u001b[32m\"Kim\"\u001b[0m -> \u001b[32m90\u001b[0m,\n",
       "  \u001b[32m\"Emily\"\u001b[0m -> \u001b[32m91\u001b[0m,\n",
       "  \u001b[32m\"Hannah\"\u001b[0m -> \u001b[32m92\u001b[0m,\n",
       "  \u001b[32m\"Melissa\"\u001b[0m -> \u001b[32m95\u001b[0m\n",
       ")"
      ]
     },
     "metadata": {},
     "output_type": "display_data"
    }
   ],
   "source": [
    " ListMap(grades.toSeq.sortWith(_._2 < _._2):_*)"
   ]
  },
  {
   "cell_type": "code",
   "execution_count": 30,
   "metadata": {},
   "outputs": [
    {
     "data": {
      "text/plain": [
       "\u001b[36mres27\u001b[0m: \u001b[32mcollection\u001b[0m.\u001b[32mmutable\u001b[0m.\u001b[32mLinkedHashMap\u001b[0m[\u001b[32mString\u001b[0m, \u001b[32mInt\u001b[0m] = \u001b[33mMap\u001b[0m(\n",
       "  \u001b[32m\"Al\"\u001b[0m -> \u001b[32m85\u001b[0m,\n",
       "  \u001b[32m\"Emily\"\u001b[0m -> \u001b[32m91\u001b[0m,\n",
       "  \u001b[32m\"Hannah\"\u001b[0m -> \u001b[32m92\u001b[0m,\n",
       "  \u001b[32m\"Kim\"\u001b[0m -> \u001b[32m90\u001b[0m,\n",
       "  \u001b[32m\"Melissa\"\u001b[0m -> \u001b[32m95\u001b[0m\n",
       ")"
      ]
     },
     "metadata": {},
     "output_type": "display_data"
    }
   ],
   "source": [
    " collection.mutable.LinkedHashMap(grades.toSeq.sortBy(_._1):_*)"
   ]
  },
  {
   "cell_type": "code",
   "execution_count": 31,
   "metadata": {},
   "outputs": [
    {
     "data": {
      "text/plain": [
       "\u001b[36mres28\u001b[0m: \u001b[32mSeq\u001b[0m[(\u001b[32mString\u001b[0m, \u001b[32mInt\u001b[0m)] = \u001b[33mArrayBuffer\u001b[0m(\n",
       "  \u001b[33m\u001b[0m(\u001b[32m\"Hannah\"\u001b[0m, \u001b[32m92\u001b[0m),\n",
       "  \u001b[33m\u001b[0m(\u001b[32m\"Melissa\"\u001b[0m, \u001b[32m95\u001b[0m),\n",
       "  \u001b[33m\u001b[0m(\u001b[32m\"Kim\"\u001b[0m, \u001b[32m90\u001b[0m),\n",
       "  \u001b[33m\u001b[0m(\u001b[32m\"Emily\"\u001b[0m, \u001b[32m91\u001b[0m),\n",
       "  \u001b[33m\u001b[0m(\u001b[32m\"Al\"\u001b[0m, \u001b[32m85\u001b[0m)\n",
       ")"
      ]
     },
     "metadata": {},
     "output_type": "display_data"
    }
   ],
   "source": [
    "grades.toSeq"
   ]
  },
  {
   "cell_type": "code",
   "execution_count": 32,
   "metadata": {},
   "outputs": [
    {
     "data": {
      "text/plain": [
       "\u001b[36mres29\u001b[0m: \u001b[32mSeq\u001b[0m[(\u001b[32mString\u001b[0m, \u001b[32mInt\u001b[0m)] = \u001b[33mArrayBuffer\u001b[0m(\n",
       "  \u001b[33m\u001b[0m(\u001b[32m\"Al\"\u001b[0m, \u001b[32m85\u001b[0m),\n",
       "  \u001b[33m\u001b[0m(\u001b[32m\"Emily\"\u001b[0m, \u001b[32m91\u001b[0m),\n",
       "  \u001b[33m\u001b[0m(\u001b[32m\"Hannah\"\u001b[0m, \u001b[32m92\u001b[0m),\n",
       "  \u001b[33m\u001b[0m(\u001b[32m\"Kim\"\u001b[0m, \u001b[32m90\u001b[0m),\n",
       "  \u001b[33m\u001b[0m(\u001b[32m\"Melissa\"\u001b[0m, \u001b[32m95\u001b[0m)\n",
       ")"
      ]
     },
     "metadata": {},
     "output_type": "display_data"
    }
   ],
   "source": [
    "grades.toSeq.sortBy(_._1)"
   ]
  },
  {
   "cell_type": "code",
   "execution_count": 35,
   "metadata": {},
   "outputs": [
    {
     "data": {
      "text/plain": [
       "\u001b[36mfruits\u001b[0m: \u001b[32mList\u001b[0m[\u001b[32mString\u001b[0m] = \u001b[33mList\u001b[0m(\u001b[32m\"apple\"\u001b[0m, \u001b[32m\"banana\"\u001b[0m, \u001b[32m\"cherry\"\u001b[0m)\n",
       "defined \u001b[32mfunction \u001b[36mprintAll\u001b[0m"
      ]
     },
     "metadata": {},
     "output_type": "display_data"
    }
   ],
   "source": [
    "val fruits = List(\"apple\", \"banana\", \"cherry\")\n",
    "def printAll(strings: String*) { strings.foreach(println)\n",
    "}"
   ]
  },
  {
   "cell_type": "code",
   "execution_count": 36,
   "metadata": {},
   "outputs": [
    {
     "ename": "",
     "evalue": "",
     "output_type": "error",
     "traceback": [
      "Compilation Failed",
      "\u001b[31mMain.scala:135: type mismatch;",
      " found   : List[String]",
      " required: String\r",
      "printAll(fruits)\r",
      "         ^\u001b[0m"
     ]
    }
   ],
   "source": [
    " printAll(fruits)"
   ]
  },
  {
   "cell_type": "code",
   "execution_count": 37,
   "metadata": {},
   "outputs": [
    {
     "name": "stdout",
     "output_type": "stream",
     "text": [
      "apple\n",
      "banana\n",
      "cherry\n"
     ]
    },
    {
     "data": {
      "text/plain": []
     },
     "metadata": {},
     "output_type": "display_data"
    }
   ],
   "source": [
    " printAll(fruits:_*)"
   ]
  },
  {
   "cell_type": "code",
   "execution_count": 38,
   "metadata": {},
   "outputs": [
    {
     "name": "stdout",
     "output_type": "stream",
     "text": [
      "List(apple, banana, cherry)\n"
     ]
    },
    {
     "data": {
      "text/plain": []
     },
     "metadata": {},
     "output_type": "display_data"
    }
   ],
   "source": [
    "println(fruits)"
   ]
  },
  {
   "cell_type": "markdown",
   "metadata": {},
   "source": [
    "### 11.23. Finding the Largest Key or Value in a Map"
   ]
  },
  {
   "cell_type": "code",
   "execution_count": 39,
   "metadata": {},
   "outputs": [
    {
     "data": {
      "text/plain": [
       "\u001b[36mgrades\u001b[0m: \u001b[32mMap\u001b[0m[\u001b[32mString\u001b[0m, \u001b[32mInt\u001b[0m] = \u001b[33mMap\u001b[0m(\n",
       "  \u001b[32m\"Al\"\u001b[0m -> \u001b[32m80\u001b[0m,\n",
       "  \u001b[32m\"Kim\"\u001b[0m -> \u001b[32m95\u001b[0m,\n",
       "  \u001b[32m\"Teri\"\u001b[0m -> \u001b[32m85\u001b[0m,\n",
       "  \u001b[32m\"Julia\"\u001b[0m -> \u001b[32m90\u001b[0m\n",
       ")"
      ]
     },
     "metadata": {},
     "output_type": "display_data"
    }
   ],
   "source": [
    "val grades = Map(\"Al\" -> 80, \"Kim\" -> 95, \"Teri\" -> 85, \"Julia\" -> 90)"
   ]
  },
  {
   "cell_type": "code",
   "execution_count": 40,
   "metadata": {},
   "outputs": [
    {
     "data": {
      "text/plain": [
       "\u001b[36mres35\u001b[0m: (\u001b[32mString\u001b[0m, \u001b[32mInt\u001b[0m) = \u001b[33m\u001b[0m(\u001b[32m\"Teri\"\u001b[0m, \u001b[32m85\u001b[0m)"
      ]
     },
     "metadata": {},
     "output_type": "display_data"
    }
   ],
   "source": [
    "grades.max"
   ]
  },
  {
   "cell_type": "code",
   "execution_count": 41,
   "metadata": {},
   "outputs": [
    {
     "data": {
      "text/plain": [
       "\u001b[36mres36\u001b[0m: \u001b[32mString\u001b[0m = \u001b[32m\"Teri\"\u001b[0m"
      ]
     },
     "metadata": {},
     "output_type": "display_data"
    }
   ],
   "source": [
    "grades.keys.max"
   ]
  },
  {
   "cell_type": "code",
   "execution_count": 42,
   "metadata": {},
   "outputs": [
    {
     "data": {
      "text/plain": [
       "\u001b[36mres37\u001b[0m: \u001b[32mString\u001b[0m = \u001b[32m\"Teri\"\u001b[0m"
      ]
     },
     "metadata": {},
     "output_type": "display_data"
    }
   ],
   "source": [
    "grades.keysIterator.max"
   ]
  },
  {
   "cell_type": "code",
   "execution_count": 43,
   "metadata": {},
   "outputs": [
    {
     "data": {
      "text/plain": [
       "\u001b[36mres38\u001b[0m: \u001b[32mInt\u001b[0m = \u001b[32m95\u001b[0m"
      ]
     },
     "metadata": {},
     "output_type": "display_data"
    }
   ],
   "source": [
    "grades.values.max"
   ]
  },
  {
   "cell_type": "code",
   "execution_count": 44,
   "metadata": {},
   "outputs": [
    {
     "data": {
      "text/plain": [
       "\u001b[36mres39_0\u001b[0m: \u001b[32mString\u001b[0m = \u001b[32m\"Teri\"\u001b[0m\n",
       "\u001b[36mres39_1\u001b[0m: \u001b[32mString\u001b[0m = \u001b[32m\"Julia\"\u001b[0m"
      ]
     },
     "metadata": {},
     "output_type": "display_data"
    }
   ],
   "source": [
    "grades.keysIterator.reduceLeft((x,y) => if (x > y) x else y)\n",
    " grades.keysIterator.reduceLeft((x,y) => if (x.length > y.length) x else y)"
   ]
  },
  {
   "cell_type": "code",
   "execution_count": 45,
   "metadata": {},
   "outputs": [
    {
     "data": {
      "text/plain": [
       "\u001b[36mres40\u001b[0m: \u001b[32mInt\u001b[0m = \u001b[32m95\u001b[0m"
      ]
     },
     "metadata": {},
     "output_type": "display_data"
    }
   ],
   "source": [
    "grades.valuesIterator.reduceLeft((x,y) => if (x > y) x else y)"
   ]
  },
  {
   "cell_type": "markdown",
   "metadata": {},
   "source": [
    "### 11.24. Adding Elements to a Set"
   ]
  },
  {
   "cell_type": "code",
   "execution_count": 46,
   "metadata": {},
   "outputs": [
    {
     "data": {
      "text/plain": [
       "\u001b[36mset\u001b[0m: \u001b[32mcollection\u001b[0m.\u001b[32mmutable\u001b[0m.\u001b[32mSet\u001b[0m[\u001b[32mInt\u001b[0m] = \u001b[33mSet\u001b[0m()"
      ]
     },
     "metadata": {},
     "output_type": "display_data"
    }
   ],
   "source": [
    " var set = scala.collection.mutable.Set[Int]()"
   ]
  },
  {
   "cell_type": "code",
   "execution_count": 47,
   "metadata": {},
   "outputs": [
    {
     "data": {
      "text/plain": [
       "\u001b[36mres42\u001b[0m: \u001b[32mcollection\u001b[0m.\u001b[32mmutable\u001b[0m.\u001b[32mSet\u001b[0m[\u001b[32mInt\u001b[0m] = \u001b[33mSet\u001b[0m(\u001b[32m1\u001b[0m)"
      ]
     },
     "metadata": {},
     "output_type": "display_data"
    }
   ],
   "source": [
    "set+=1"
   ]
  },
  {
   "cell_type": "code",
   "execution_count": 49,
   "metadata": {},
   "outputs": [
    {
     "data": {
      "text/plain": [
       "\u001b[36mres43\u001b[0m: \u001b[32mcollection\u001b[0m.\u001b[32mmutable\u001b[0m.\u001b[32mSet\u001b[0m[\u001b[32mInt\u001b[0m] = \u001b[33mSet\u001b[0m(\u001b[32m1\u001b[0m, \u001b[32m2\u001b[0m, \u001b[32m3\u001b[0m)"
      ]
     },
     "metadata": {},
     "output_type": "display_data"
    }
   ],
   "source": [
    "set+=(2,3)"
   ]
  },
  {
   "cell_type": "code",
   "execution_count": 50,
   "metadata": {},
   "outputs": [
    {
     "data": {
      "text/plain": [
       "\u001b[36mres44\u001b[0m: \u001b[32mcollection\u001b[0m.\u001b[32mmutable\u001b[0m.\u001b[32mSet\u001b[0m[\u001b[32mInt\u001b[0m] = \u001b[33mSet\u001b[0m(\u001b[32m1\u001b[0m, \u001b[32m2\u001b[0m, \u001b[32m3\u001b[0m)"
      ]
     },
     "metadata": {},
     "output_type": "display_data"
    }
   ],
   "source": [
    "set+=2"
   ]
  },
  {
   "cell_type": "code",
   "execution_count": 51,
   "metadata": {},
   "outputs": [
    {
     "data": {
      "text/plain": [
       "\u001b[36mres45\u001b[0m: \u001b[32mcollection\u001b[0m.\u001b[32mmutable\u001b[0m.\u001b[32mSet\u001b[0m[\u001b[32mInt\u001b[0m] = \u001b[33mSet\u001b[0m(\u001b[32m1\u001b[0m, \u001b[32m5\u001b[0m, \u001b[32m2\u001b[0m, \u001b[32m3\u001b[0m, \u001b[32m4\u001b[0m)"
      ]
     },
     "metadata": {},
     "output_type": "display_data"
    }
   ],
   "source": [
    "set ++= Vector(4, 5)"
   ]
  },
  {
   "cell_type": "code",
   "execution_count": 52,
   "metadata": {},
   "outputs": [
    {
     "data": {
      "text/plain": [
       "\u001b[36mres46_0\u001b[0m: \u001b[32mBoolean\u001b[0m = true\n",
       "\u001b[36mres46_1\u001b[0m: \u001b[32mBoolean\u001b[0m = false"
      ]
     },
     "metadata": {},
     "output_type": "display_data"
    }
   ],
   "source": [
    "set.add(6)\n",
    "set.add(5)"
   ]
  },
  {
   "cell_type": "markdown",
   "metadata": {},
   "source": [
    "### 11.25. Deleting Elements from Sets"
   ]
  },
  {
   "cell_type": "code",
   "execution_count": 53,
   "metadata": {},
   "outputs": [
    {
     "data": {
      "text/plain": [
       "\u001b[36mset\u001b[0m: \u001b[32mcollection\u001b[0m.\u001b[32mmutable\u001b[0m.\u001b[32mSet\u001b[0m[\u001b[32mInt\u001b[0m] = \u001b[33mSet\u001b[0m(\u001b[32m1\u001b[0m, \u001b[32m5\u001b[0m, \u001b[32m2\u001b[0m, \u001b[32m3\u001b[0m, \u001b[32m4\u001b[0m)"
      ]
     },
     "metadata": {},
     "output_type": "display_data"
    }
   ],
   "source": [
    "var set = scala.collection.mutable.Set(1, 2, 3, 4, 5)"
   ]
  },
  {
   "cell_type": "code",
   "execution_count": 54,
   "metadata": {},
   "outputs": [
    {
     "data": {
      "text/plain": [
       "\u001b[36mres48\u001b[0m: \u001b[32mcollection\u001b[0m.\u001b[32mmutable\u001b[0m.\u001b[32mSet\u001b[0m[\u001b[32mInt\u001b[0m] = \u001b[33mSet\u001b[0m(\u001b[32m5\u001b[0m, \u001b[32m2\u001b[0m, \u001b[32m3\u001b[0m, \u001b[32m4\u001b[0m)"
      ]
     },
     "metadata": {},
     "output_type": "display_data"
    }
   ],
   "source": [
    "set-=1"
   ]
  },
  {
   "cell_type": "code",
   "execution_count": 55,
   "metadata": {},
   "outputs": [
    {
     "data": {
      "text/plain": [
       "\u001b[36mres49\u001b[0m: \u001b[32mcollection\u001b[0m.\u001b[32mmutable\u001b[0m.\u001b[32mSet\u001b[0m[\u001b[32mInt\u001b[0m] = \u001b[33mSet\u001b[0m(\u001b[32m5\u001b[0m, \u001b[32m4\u001b[0m)"
      ]
     },
     "metadata": {},
     "output_type": "display_data"
    }
   ],
   "source": [
    "set-=(2,3)"
   ]
  },
  {
   "cell_type": "code",
   "execution_count": 57,
   "metadata": {},
   "outputs": [
    {
     "data": {
      "text/plain": [
       "\u001b[36mres50\u001b[0m: \u001b[32mcollection\u001b[0m.\u001b[32mmutable\u001b[0m.\u001b[32mSet\u001b[0m[\u001b[32mInt\u001b[0m] = \u001b[33mSet\u001b[0m()"
      ]
     },
     "metadata": {},
     "output_type": "display_data"
    }
   ],
   "source": [
    "set--=Array(4,5)"
   ]
  },
  {
   "cell_type": "code",
   "execution_count": 58,
   "metadata": {},
   "outputs": [
    {
     "data": {
      "text/plain": [
       "\u001b[36mres51\u001b[0m: \u001b[32mBoolean\u001b[0m = false"
      ]
     },
     "metadata": {},
     "output_type": "display_data"
    }
   ],
   "source": [
    " set.remove(2)"
   ]
  },
  {
   "cell_type": "code",
   "execution_count": 59,
   "metadata": {},
   "outputs": [
    {
     "data": {
      "text/plain": [
       "\u001b[36ms1\u001b[0m: \u001b[32mSet\u001b[0m[\u001b[32mInt\u001b[0m] = \u001b[33mSet\u001b[0m(\u001b[32m5\u001b[0m, \u001b[32m1\u001b[0m, \u001b[32m6\u001b[0m, \u001b[32m2\u001b[0m, \u001b[32m3\u001b[0m, \u001b[32m4\u001b[0m)"
      ]
     },
     "metadata": {},
     "output_type": "display_data"
    }
   ],
   "source": [
    " val s1 = Set(1, 2, 3, 4, 5, 6)"
   ]
  },
  {
   "cell_type": "code",
   "execution_count": 61,
   "metadata": {},
   "outputs": [
    {
     "data": {
      "text/plain": [
       "\u001b[36mres53\u001b[0m: \u001b[32mSet\u001b[0m[\u001b[32mInt\u001b[0m] = \u001b[33mSet\u001b[0m(\u001b[32m5\u001b[0m, \u001b[32m6\u001b[0m, \u001b[32m2\u001b[0m, \u001b[32m3\u001b[0m, \u001b[32m4\u001b[0m)"
      ]
     },
     "metadata": {},
     "output_type": "display_data"
    }
   ],
   "source": [
    "s1-1"
   ]
  },
  {
   "cell_type": "code",
   "execution_count": 62,
   "metadata": {},
   "outputs": [
    {
     "ename": "",
     "evalue": "",
     "output_type": "error",
     "traceback": [
      "Compilation Failed",
      "\u001b[31mMain.scala:181: value remove is not a member of scala.collection.immutable.Set[Int]\r",
      "s1.remove(2)\r",
      "   ^\u001b[0m"
     ]
    }
   ],
   "source": [
    "s1.remove(2)"
   ]
  },
  {
   "cell_type": "markdown",
   "metadata": {},
   "source": [
    "### 11.26. Using Sortable Sets\n",
    "- To retrieve values from a set in sorted order, use a SortedSet. \n",
    "- To retrieve elements from a set in the order in which elements were inserted, use a LinkedHashSet"
   ]
  },
  {
   "cell_type": "code",
   "execution_count": 63,
   "metadata": {},
   "outputs": [
    {
     "data": {
      "text/plain": [
       "\u001b[36ms\u001b[0m: \u001b[32mcollection\u001b[0m.\u001b[32mSortedSet\u001b[0m[\u001b[32mInt\u001b[0m] = \u001b[33mTreeSet\u001b[0m(\u001b[32m2\u001b[0m, \u001b[32m4\u001b[0m, \u001b[32m8\u001b[0m, \u001b[32m10\u001b[0m)"
      ]
     },
     "metadata": {},
     "output_type": "display_data"
    }
   ],
   "source": [
    " val s = scala.collection.SortedSet(10, 4, 8, 2)"
   ]
  },
  {
   "cell_type": "code",
   "execution_count": 64,
   "metadata": {},
   "outputs": [
    {
     "data": {
      "text/plain": [
       "\u001b[36ms\u001b[0m: \u001b[32mcollection\u001b[0m.\u001b[32mmutable\u001b[0m.\u001b[32mLinkedHashSet\u001b[0m[\u001b[32mInt\u001b[0m] = \u001b[33mSet\u001b[0m(\u001b[32m10\u001b[0m, \u001b[32m4\u001b[0m, \u001b[32m8\u001b[0m, \u001b[32m2\u001b[0m)"
      ]
     },
     "metadata": {},
     "output_type": "display_data"
    }
   ],
   "source": [
    "var s = scala.collection.mutable.LinkedHashSet(10, 4, 8, 2)"
   ]
  },
  {
   "cell_type": "code",
   "execution_count": 65,
   "metadata": {},
   "outputs": [
    {
     "data": {
      "text/plain": [
       "defined \u001b[32mclass \u001b[36mPerson\u001b[0m"
      ]
     },
     "metadata": {},
     "output_type": "display_data"
    }
   ],
   "source": [
    "class Person (var name: String) extends Ordered [Person] {\n",
    "    override def toString = name\n",
    "    // return 0 if the same, negative if this < that, positive if this > that \n",
    "    def compare (that: Person): Int = { \n",
    "        if (this.name == that.name) {\n",
    "            return 0\n",
    "        }\n",
    "        else if (this.name > that.name){\n",
    "            return 1\n",
    "        } \n",
    "            \n",
    "        else{\n",
    "            return -1\n",
    "        }\n",
    "    }\n",
    "}"
   ]
  },
  {
   "cell_type": "code",
   "execution_count": 66,
   "metadata": {},
   "outputs": [
    {
     "data": {
      "text/plain": [
       "\u001b[32mimport \u001b[36mscala.collection.SortedSet\u001b[0m\n",
       "\u001b[36maleka\u001b[0m: \u001b[32mPerson\u001b[0m = Aleka\n",
       "\u001b[36mchristina\u001b[0m: \u001b[32mPerson\u001b[0m = Christina\n",
       "\u001b[36mmolly\u001b[0m: \u001b[32mPerson\u001b[0m = Molly\n",
       "\u001b[36mtyler\u001b[0m: \u001b[32mPerson\u001b[0m = Tyler\n",
       "\u001b[36ms\u001b[0m: \u001b[32mcollection\u001b[0m.\u001b[32mSortedSet\u001b[0m[\u001b[32mPerson\u001b[0m] = \u001b[33mTreeSet\u001b[0m(Aleka, Christina, Molly, Tyler)"
      ]
     },
     "metadata": {},
     "output_type": "display_data"
    }
   ],
   "source": [
    "import scala.collection.SortedSet \n",
    "val aleka = new Person(\"Aleka\") \n",
    "val christina = new Person(\"Christina\") \n",
    "val molly = new Person(\"Molly\") \n",
    "val tyler = new Person(\"Tyler\")\n",
    "// this won't work\n",
    "val s = SortedSet(molly, tyler, christina, aleka)"
   ]
  },
  {
   "cell_type": "markdown",
   "metadata": {},
   "source": [
    "### 11.27. Using a Queue"
   ]
  },
  {
   "cell_type": "code",
   "execution_count": 67,
   "metadata": {},
   "outputs": [
    {
     "data": {
      "text/plain": [
       "\u001b[32mimport \u001b[36mscala.collection.mutable.Queue\u001b[0m\n",
       "\u001b[36mints\u001b[0m: \u001b[32mcollection\u001b[0m.\u001b[32mmutable\u001b[0m.\u001b[32mQueue\u001b[0m[\u001b[32mInt\u001b[0m] = \u001b[33mQueue\u001b[0m()\n",
       "\u001b[36mfruits\u001b[0m: \u001b[32mcollection\u001b[0m.\u001b[32mmutable\u001b[0m.\u001b[32mQueue\u001b[0m[\u001b[32mString\u001b[0m] = \u001b[33mQueue\u001b[0m()\n",
       "\u001b[36mq\u001b[0m: \u001b[32mcollection\u001b[0m.\u001b[32mmutable\u001b[0m.\u001b[32mQueue\u001b[0m[\u001b[32mPerson\u001b[0m] = \u001b[33mQueue\u001b[0m()"
      ]
     },
     "metadata": {},
     "output_type": "display_data"
    }
   ],
   "source": [
    "import scala.collection.mutable.Queue \n",
    "var ints = Queue[Int]() \n",
    "var fruits = Queue[String]()\n",
    "var q = Queue[Person]()"
   ]
  },
  {
   "cell_type": "code",
   "execution_count": 68,
   "metadata": {},
   "outputs": [
    {
     "data": {
      "text/plain": [
       "\u001b[36mres59\u001b[0m: \u001b[32mQueue\u001b[0m[\u001b[32mInt\u001b[0m] = \u001b[33mQueue\u001b[0m(\u001b[32m1\u001b[0m)"
      ]
     },
     "metadata": {},
     "output_type": "display_data"
    }
   ],
   "source": [
    "ints+=1"
   ]
  },
  {
   "cell_type": "code",
   "execution_count": 69,
   "metadata": {},
   "outputs": [
    {
     "data": {
      "text/plain": [
       "\u001b[36mres60\u001b[0m: \u001b[32mQueue\u001b[0m[\u001b[32mInt\u001b[0m] = \u001b[33mQueue\u001b[0m(\u001b[32m1\u001b[0m, \u001b[32m2\u001b[0m, \u001b[32m3\u001b[0m)"
      ]
     },
     "metadata": {},
     "output_type": "display_data"
    }
   ],
   "source": [
    "ints+=(2,3)"
   ]
  },
  {
   "cell_type": "code",
   "execution_count": 70,
   "metadata": {},
   "outputs": [
    {
     "data": {
      "text/plain": [
       "\u001b[36mres61\u001b[0m: \u001b[32mQueue\u001b[0m[\u001b[32mInt\u001b[0m] = \u001b[33mQueue\u001b[0m(\u001b[32m1\u001b[0m, \u001b[32m2\u001b[0m, \u001b[32m3\u001b[0m, \u001b[32m4\u001b[0m, \u001b[32m5\u001b[0m)"
      ]
     },
     "metadata": {},
     "output_type": "display_data"
    }
   ],
   "source": [
    "ints++=Set(4,5)"
   ]
  },
  {
   "cell_type": "code",
   "execution_count": 71,
   "metadata": {},
   "outputs": [
    {
     "data": {
      "text/plain": [
       "\u001b[36mres62\u001b[0m: \u001b[32mQueue\u001b[0m[\u001b[32mString\u001b[0m] = \u001b[33mQueue\u001b[0m(\u001b[32m\"apple\"\u001b[0m)"
      ]
     },
     "metadata": {},
     "output_type": "display_data"
    }
   ],
   "source": [
    "fruits+=\"apple\""
   ]
  },
  {
   "cell_type": "code",
   "execution_count": 73,
   "metadata": {},
   "outputs": [
    {
     "data": {
      "text/plain": [
       "\u001b[36mres63\u001b[0m: \u001b[32mQueue\u001b[0m[\u001b[32mString\u001b[0m] = \u001b[33mQueue\u001b[0m(\u001b[32m\"apple\"\u001b[0m, \u001b[32m\"kiwi\"\u001b[0m, \u001b[32m\"banana\"\u001b[0m)"
      ]
     },
     "metadata": {},
     "output_type": "display_data"
    }
   ],
   "source": [
    " fruits+= (\"kiwi\", \"banana\")"
   ]
  },
  {
   "cell_type": "code",
   "execution_count": 74,
   "metadata": {},
   "outputs": [
    {
     "data": {
      "text/plain": [
       "\u001b[36mres64\u001b[0m: \u001b[32mQueue\u001b[0m[\u001b[32mString\u001b[0m] = \u001b[33mQueue\u001b[0m(\u001b[32m\"apple\"\u001b[0m, \u001b[32m\"kiwi\"\u001b[0m, \u001b[32m\"banana\"\u001b[0m, \u001b[32m\"cherry\"\u001b[0m, \u001b[32m\"coconut\"\u001b[0m)"
      ]
     },
     "metadata": {},
     "output_type": "display_data"
    }
   ],
   "source": [
    "fruits ++= List(\"cherry\", \"coconut\")"
   ]
  },
  {
   "cell_type": "code",
   "execution_count": 77,
   "metadata": {},
   "outputs": [
    {
     "data": {
      "text/plain": [
       "\u001b[36mres67_1\u001b[0m: \u001b[32mQueue\u001b[0m[\u001b[32mString\u001b[0m] = \u001b[33mQueue\u001b[0m(\n",
       "  \u001b[32m\"apple\"\u001b[0m,\n",
       "  \u001b[32m\"kiwi\"\u001b[0m,\n",
       "  \u001b[32m\"banana\"\u001b[0m,\n",
       "  \u001b[32m\"cherry\"\u001b[0m,\n",
       "  \u001b[32m\"coconut\"\u001b[0m,\n",
       "  \u001b[32m\"pineapple\"\u001b[0m,\n",
       "  \u001b[32m\"pineapple\"\u001b[0m\n",
       ")"
      ]
     },
     "metadata": {},
     "output_type": "display_data"
    }
   ],
   "source": [
    "fruits.enqueue(\"pineapple\")\n",
    "fruits"
   ]
  },
  {
   "cell_type": "code",
   "execution_count": 81,
   "metadata": {},
   "outputs": [
    {
     "data": {
      "text/plain": [
       "\u001b[36mres70\u001b[0m: \u001b[32mString\u001b[0m = \u001b[32m\"kiwi\"\u001b[0m"
      ]
     },
     "metadata": {},
     "output_type": "display_data"
    }
   ],
   "source": [
    "fruits.dequeue"
   ]
  },
  {
   "cell_type": "code",
   "execution_count": 82,
   "metadata": {},
   "outputs": [
    {
     "data": {
      "text/plain": [
       "\u001b[36mres71\u001b[0m: \u001b[32mQueue\u001b[0m[\u001b[32mString\u001b[0m] = \u001b[33mQueue\u001b[0m(\n",
       "  \u001b[32m\"banana\"\u001b[0m,\n",
       "  \u001b[32m\"cherry\"\u001b[0m,\n",
       "  \u001b[32m\"coconut\"\u001b[0m,\n",
       "  \u001b[32m\"pineapple\"\u001b[0m,\n",
       "  \u001b[32m\"pineapple\"\u001b[0m,\n",
       "  \u001b[32m\"pineapple\"\u001b[0m\n",
       ")"
      ]
     },
     "metadata": {},
     "output_type": "display_data"
    }
   ],
   "source": [
    "fruits"
   ]
  },
  {
   "cell_type": "code",
   "execution_count": 83,
   "metadata": {},
   "outputs": [
    {
     "data": {
      "text/plain": [
       "\u001b[36mres72\u001b[0m: \u001b[32mcollection\u001b[0m.\u001b[32mmutable\u001b[0m.\u001b[32mSeq\u001b[0m[\u001b[32mString\u001b[0m] = \u001b[33mArrayBuffer\u001b[0m(\u001b[32m\"coconut\"\u001b[0m, \u001b[32m\"pineapple\"\u001b[0m, \u001b[32m\"pineapple\"\u001b[0m, \u001b[32m\"pineapple\"\u001b[0m)"
      ]
     },
     "metadata": {},
     "output_type": "display_data"
    }
   ],
   "source": [
    "fruits.dequeueAll(_.length > 6)"
   ]
  },
  {
   "cell_type": "markdown",
   "metadata": {},
   "source": [
    "### 11.28. Using a Stack"
   ]
  },
  {
   "cell_type": "code",
   "execution_count": 84,
   "metadata": {},
   "outputs": [
    {
     "data": {
      "text/plain": [
       "\u001b[32mimport \u001b[36mscala.collection.mutable.Stack\u001b[0m\n",
       "\u001b[36mints\u001b[0m: \u001b[32mcollection\u001b[0m.\u001b[32mmutable\u001b[0m.\u001b[32mStack\u001b[0m[\u001b[32mInt\u001b[0m] = \u001b[33mStack\u001b[0m(\u001b[32m1\u001b[0m, \u001b[32m2\u001b[0m, \u001b[32m3\u001b[0m)"
      ]
     },
     "metadata": {},
     "output_type": "display_data"
    }
   ],
   "source": [
    "import scala.collection.mutable.Stack\n",
    "val ints = Stack(1, 2, 3)"
   ]
  },
  {
   "cell_type": "code",
   "execution_count": 85,
   "metadata": {},
   "outputs": [
    {
     "data": {
      "text/plain": [
       "\u001b[36mres74\u001b[0m: \u001b[32mInt\u001b[0m = \u001b[32m1\u001b[0m"
      ]
     },
     "metadata": {},
     "output_type": "display_data"
    }
   ],
   "source": [
    "ints.pop"
   ]
  },
  {
   "cell_type": "code",
   "execution_count": 86,
   "metadata": {},
   "outputs": [
    {
     "data": {
      "text/plain": [
       "\u001b[36mres75\u001b[0m: \u001b[32mStack\u001b[0m[\u001b[32mInt\u001b[0m] = \u001b[33mStack\u001b[0m(\u001b[32m9\u001b[0m, \u001b[32m2\u001b[0m, \u001b[32m3\u001b[0m)"
      ]
     },
     "metadata": {},
     "output_type": "display_data"
    }
   ],
   "source": [
    "ints.push(9)"
   ]
  },
  {
   "cell_type": "code",
   "execution_count": 88,
   "metadata": {},
   "outputs": [
    {
     "data": {
      "text/plain": [
       "\u001b[36mres76\u001b[0m: \u001b[32mInt\u001b[0m = \u001b[32m9\u001b[0m"
      ]
     },
     "metadata": {},
     "output_type": "display_data"
    }
   ],
   "source": [
    "ints.pop"
   ]
  },
  {
   "cell_type": "code",
   "execution_count": 89,
   "metadata": {},
   "outputs": [
    {
     "data": {
      "text/plain": [
       "\u001b[36mfruits\u001b[0m: \u001b[32mStack\u001b[0m[\u001b[32mString\u001b[0m] = \u001b[33mStack\u001b[0m(\u001b[32m\"banana\"\u001b[0m, \u001b[32m\"apple\"\u001b[0m)\n",
       "\u001b[36mres77_1\u001b[0m: \u001b[32mStack\u001b[0m[\u001b[32mString\u001b[0m] = \u001b[33mStack\u001b[0m(\u001b[32m\"banana\"\u001b[0m, \u001b[32m\"apple\"\u001b[0m)\n",
       "\u001b[36mres77_2\u001b[0m: \u001b[32mStack\u001b[0m[\u001b[32mString\u001b[0m] = \u001b[33mStack\u001b[0m(\u001b[32m\"banana\"\u001b[0m, \u001b[32m\"apple\"\u001b[0m)"
      ]
     },
     "metadata": {},
     "output_type": "display_data"
    }
   ],
   "source": [
    " var fruits = Stack[String]()\n",
    " fruits.push(\"apple\")\n",
    " fruits.push(\"banana\")"
   ]
  },
  {
   "cell_type": "code",
   "execution_count": 90,
   "metadata": {},
   "outputs": [
    {
     "data": {
      "text/plain": [
       "\u001b[36mres78\u001b[0m: \u001b[32mStack\u001b[0m[\u001b[32mString\u001b[0m] = \u001b[33mStack\u001b[0m(\n",
       "  \u001b[32m\"pineapple\"\u001b[0m,\n",
       "  \u001b[32m\"orange\"\u001b[0m,\n",
       "  \u001b[32m\"coconut\"\u001b[0m,\n",
       "  \u001b[32m\"banana\"\u001b[0m,\n",
       "  \u001b[32m\"apple\"\u001b[0m\n",
       ")"
      ]
     },
     "metadata": {},
     "output_type": "display_data"
    }
   ],
   "source": [
    "fruits.push(\"coconut\", \"orange\", \"pineapple\")"
   ]
  },
  {
   "cell_type": "code",
   "execution_count": 91,
   "metadata": {},
   "outputs": [
    {
     "data": {
      "text/plain": [
       "\u001b[36mres79\u001b[0m: \u001b[32mString\u001b[0m = \u001b[32m\"pineapple\"\u001b[0m"
      ]
     },
     "metadata": {},
     "output_type": "display_data"
    }
   ],
   "source": [
    "fruits.top"
   ]
  },
  {
   "cell_type": "code",
   "execution_count": 95,
   "metadata": {},
   "outputs": [
    {
     "data": {
      "text/plain": [
       "\u001b[36mres82\u001b[0m: \u001b[32mString\u001b[0m = \u001b[32m\"pineapple\"\u001b[0m"
      ]
     },
     "metadata": {},
     "output_type": "display_data"
    }
   ],
   "source": [
    "fruits.iterator.next"
   ]
  },
  {
   "cell_type": "code",
   "execution_count": 96,
   "metadata": {},
   "outputs": [
    {
     "data": {
      "text/plain": [
       "\u001b[36mres83\u001b[0m: \u001b[32mInt\u001b[0m = \u001b[32m5\u001b[0m"
      ]
     },
     "metadata": {},
     "output_type": "display_data"
    }
   ],
   "source": [
    "fruits.size"
   ]
  },
  {
   "cell_type": "markdown",
   "metadata": {},
   "source": [
    "### 11.29. Using a Range"
   ]
  },
  {
   "cell_type": "code",
   "execution_count": 97,
   "metadata": {},
   "outputs": [
    {
     "data": {
      "text/plain": [
       "\u001b[36mres84\u001b[0m: \u001b[32mcollection\u001b[0m.\u001b[32mimmutable\u001b[0m.\u001b[32mRange\u001b[0m.\u001b[32mInclusive\u001b[0m = \u001b[33mRange\u001b[0m(\n",
       "  \u001b[32m1\u001b[0m,\n",
       "  \u001b[32m2\u001b[0m,\n",
       "  \u001b[32m3\u001b[0m,\n",
       "  \u001b[32m4\u001b[0m,\n",
       "  \u001b[32m5\u001b[0m,\n",
       "  \u001b[32m6\u001b[0m,\n",
       "  \u001b[32m7\u001b[0m,\n",
       "  \u001b[32m8\u001b[0m,\n",
       "  \u001b[32m9\u001b[0m,\n",
       "  \u001b[32m10\u001b[0m\n",
       ")"
      ]
     },
     "metadata": {},
     "output_type": "display_data"
    }
   ],
   "source": [
    "1 to 10"
   ]
  },
  {
   "cell_type": "code",
   "execution_count": 98,
   "metadata": {},
   "outputs": [
    {
     "data": {
      "text/plain": [
       "\u001b[36mres85\u001b[0m: \u001b[32mRange\u001b[0m = \u001b[33mRange\u001b[0m(\n",
       "  \u001b[32m1\u001b[0m,\n",
       "  \u001b[32m2\u001b[0m,\n",
       "  \u001b[32m3\u001b[0m,\n",
       "  \u001b[32m4\u001b[0m,\n",
       "  \u001b[32m5\u001b[0m,\n",
       "  \u001b[32m6\u001b[0m,\n",
       "  \u001b[32m7\u001b[0m,\n",
       "  \u001b[32m8\u001b[0m,\n",
       "  \u001b[32m9\u001b[0m\n",
       ")"
      ]
     },
     "metadata": {},
     "output_type": "display_data"
    }
   ],
   "source": [
    "1 until 10"
   ]
  },
  {
   "cell_type": "code",
   "execution_count": 99,
   "metadata": {},
   "outputs": [
    {
     "data": {
      "text/plain": [
       "\u001b[36mres86\u001b[0m: \u001b[32mRange\u001b[0m = \u001b[33mRange\u001b[0m(\u001b[32m1\u001b[0m, \u001b[32m3\u001b[0m, \u001b[32m5\u001b[0m, \u001b[32m7\u001b[0m, \u001b[32m9\u001b[0m)"
      ]
     },
     "metadata": {},
     "output_type": "display_data"
    }
   ],
   "source": [
    "1 to 10 by 2"
   ]
  },
  {
   "cell_type": "code",
   "execution_count": 100,
   "metadata": {},
   "outputs": [
    {
     "data": {
      "text/plain": [
       "\u001b[36mres87_0\u001b[0m: \u001b[32mcollection\u001b[0m.\u001b[32mimmutable\u001b[0m.\u001b[32mNumericRange\u001b[0m.\u001b[32mInclusive\u001b[0m[\u001b[32mChar\u001b[0m] = \u001b[33mNumericRange\u001b[0m(\u001b[32m'a'\u001b[0m, \u001b[32m'b'\u001b[0m, \u001b[32m'c'\u001b[0m)\n",
       "\u001b[36mres87_1\u001b[0m: \u001b[32mcollection\u001b[0m.\u001b[32mimmutable\u001b[0m.\u001b[32mNumericRange\u001b[0m.\u001b[32mInclusive\u001b[0m[\u001b[32mChar\u001b[0m] = \u001b[33mNumericRange\u001b[0m(\u001b[32m'A'\u001b[0m, \u001b[32m'B'\u001b[0m, \u001b[32m'C'\u001b[0m, \u001b[32m'D'\u001b[0m, \u001b[32m'E'\u001b[0m)"
      ]
     },
     "metadata": {},
     "output_type": "display_data"
    }
   ],
   "source": [
    "'a' to 'c'\n",
    "'A' to 'E'"
   ]
  },
  {
   "cell_type": "code",
   "execution_count": 101,
   "metadata": {},
   "outputs": [
    {
     "data": {
      "text/plain": [
       "\u001b[36mres88\u001b[0m: \u001b[32mList\u001b[0m[\u001b[32mInt\u001b[0m] = \u001b[33mList\u001b[0m(\n",
       "  \u001b[32m1\u001b[0m,\n",
       "  \u001b[32m2\u001b[0m,\n",
       "  \u001b[32m3\u001b[0m,\n",
       "  \u001b[32m4\u001b[0m,\n",
       "  \u001b[32m5\u001b[0m,\n",
       "  \u001b[32m6\u001b[0m,\n",
       "  \u001b[32m7\u001b[0m,\n",
       "  \u001b[32m8\u001b[0m,\n",
       "  \u001b[32m9\u001b[0m,\n",
       "  \u001b[32m10\u001b[0m\n",
       ")"
      ]
     },
     "metadata": {},
     "output_type": "display_data"
    }
   ],
   "source": [
    "(1 to 10).toList"
   ]
  },
  {
   "cell_type": "code",
   "execution_count": 102,
   "metadata": {},
   "outputs": [
    {
     "data": {
      "text/plain": [
       "\u001b[36mres89_0\u001b[0m: \u001b[32mArray\u001b[0m[\u001b[32mInt\u001b[0m] = \u001b[33mArray\u001b[0m(\n",
       "  \u001b[32m1\u001b[0m,\n",
       "  \u001b[32m2\u001b[0m,\n",
       "  \u001b[32m3\u001b[0m,\n",
       "  \u001b[32m4\u001b[0m,\n",
       "  \u001b[32m5\u001b[0m,\n",
       "  \u001b[32m6\u001b[0m,\n",
       "  \u001b[32m7\u001b[0m,\n",
       "  \u001b[32m8\u001b[0m,\n",
       "  \u001b[32m9\u001b[0m,\n",
       "  \u001b[32m10\u001b[0m\n",
       ")\n",
       "\u001b[36mres89_1\u001b[0m: \u001b[32mSet\u001b[0m[\u001b[32mInt\u001b[0m] = \u001b[33mSet\u001b[0m(\n",
       "  \u001b[32m5\u001b[0m,\n",
       "  \u001b[32m10\u001b[0m,\n",
       "  \u001b[32m1\u001b[0m,\n",
       "  \u001b[32m6\u001b[0m,\n",
       "  \u001b[32m9\u001b[0m,\n",
       "  \u001b[32m2\u001b[0m,\n",
       "  \u001b[32m7\u001b[0m,\n",
       "  \u001b[32m3\u001b[0m,\n",
       "  \u001b[32m8\u001b[0m,\n",
       "  \u001b[32m4\u001b[0m\n",
       ")"
      ]
     },
     "metadata": {},
     "output_type": "display_data"
    }
   ],
   "source": [
    "(1 to 10).toArray\n",
    "(1 to 10).toSet"
   ]
  },
  {
   "cell_type": "code",
   "execution_count": 103,
   "metadata": {},
   "outputs": [
    {
     "data": {
      "text/plain": [
       "\u001b[36mres90_0\u001b[0m: \u001b[32mArray\u001b[0m[\u001b[32mInt\u001b[0m] = \u001b[33mArray\u001b[0m(\n",
       "  \u001b[32m1\u001b[0m,\n",
       "  \u001b[32m2\u001b[0m,\n",
       "  \u001b[32m3\u001b[0m,\n",
       "  \u001b[32m4\u001b[0m,\n",
       "  \u001b[32m5\u001b[0m,\n",
       "  \u001b[32m6\u001b[0m,\n",
       "  \u001b[32m7\u001b[0m,\n",
       "  \u001b[32m8\u001b[0m,\n",
       "  \u001b[32m9\u001b[0m\n",
       ")\n",
       "\u001b[36mres90_1\u001b[0m: \u001b[32mVector\u001b[0m[\u001b[32mInt\u001b[0m] = \u001b[33mVector\u001b[0m(\n",
       "  \u001b[32m1\u001b[0m,\n",
       "  \u001b[32m2\u001b[0m,\n",
       "  \u001b[32m3\u001b[0m,\n",
       "  \u001b[32m4\u001b[0m,\n",
       "  \u001b[32m5\u001b[0m,\n",
       "  \u001b[32m6\u001b[0m,\n",
       "  \u001b[32m7\u001b[0m,\n",
       "  \u001b[32m8\u001b[0m,\n",
       "  \u001b[32m9\u001b[0m\n",
       ")\n",
       "\u001b[36mres90_2\u001b[0m: \u001b[32mList\u001b[0m[\u001b[32mInt\u001b[0m] = \u001b[33mList\u001b[0m(\n",
       "  \u001b[32m1\u001b[0m,\n",
       "  \u001b[32m2\u001b[0m,\n",
       "  \u001b[32m3\u001b[0m,\n",
       "  \u001b[32m4\u001b[0m,\n",
       "  \u001b[32m5\u001b[0m,\n",
       "  \u001b[32m6\u001b[0m,\n",
       "  \u001b[32m7\u001b[0m,\n",
       "  \u001b[32m8\u001b[0m,\n",
       "  \u001b[32m9\u001b[0m\n",
       ")"
      ]
     },
     "metadata": {},
     "output_type": "display_data"
    }
   ],
   "source": [
    " Array.range(1, 10)\n",
    " Vector.range(1, 10)\n",
    " List.range(1, 10)"
   ]
  },
  {
   "cell_type": "code",
   "execution_count": 104,
   "metadata": {},
   "outputs": [
    {
     "data": {
      "text/plain": [
       "\u001b[36mres91\u001b[0m: \u001b[32mcollection\u001b[0m.\u001b[32mmutable\u001b[0m.\u001b[32mArrayBuffer\u001b[0m[\u001b[32mChar\u001b[0m] = \u001b[33mArrayBuffer\u001b[0m(\u001b[32m'a'\u001b[0m, \u001b[32m'b'\u001b[0m, \u001b[32m'c'\u001b[0m)"
      ]
     },
     "metadata": {},
     "output_type": "display_data"
    }
   ],
   "source": [
    "collection.mutable.ArrayBuffer.range('a', 'd')"
   ]
  },
  {
   "cell_type": "code",
   "execution_count": 105,
   "metadata": {},
   "outputs": [
    {
     "data": {
      "text/plain": [
       "\u001b[36mres92\u001b[0m: \u001b[32mcollection\u001b[0m.\u001b[32mimmutable\u001b[0m.\u001b[32mIndexedSeq\u001b[0m[\u001b[32mDouble\u001b[0m] = \u001b[33mVector\u001b[0m(\u001b[32m4.2\u001b[0m, \u001b[32m6.2\u001b[0m, \u001b[32m8.2\u001b[0m, \u001b[32m10.2\u001b[0m, \u001b[32m12.2\u001b[0m)"
      ]
     },
     "metadata": {},
     "output_type": "display_data"
    }
   ],
   "source": [
    " (1 to 5).map { e => (e + 1.1) * 2 }"
   ]
  },
  {
   "cell_type": "code",
   "execution_count": 106,
   "metadata": {},
   "outputs": [
    {
     "data": {
      "text/plain": [
       "\u001b[36mres93\u001b[0m: \u001b[32mList\u001b[0m[\u001b[32mInt\u001b[0m] = \u001b[33mList\u001b[0m(\u001b[32m1\u001b[0m, \u001b[32m2\u001b[0m, \u001b[32m3\u001b[0m, \u001b[32m4\u001b[0m, \u001b[32m5\u001b[0m)"
      ]
     },
     "metadata": {},
     "output_type": "display_data"
    }
   ],
   "source": [
    " List.tabulate(5)(_ + 1)"
   ]
  },
  {
   "cell_type": "code",
   "execution_count": null,
   "metadata": {},
   "outputs": [],
   "source": []
  }
 ],
 "metadata": {
  "kernelspec": {
   "display_name": "Scala 2.11",
   "language": "scala211",
   "name": "scala211"
  },
  "language_info": {
   "codemirror_mode": "text/x-scala",
   "file_extension": ".scala",
   "mimetype": "text/x-scala",
   "name": "scala211",
   "pygments_lexer": "scala",
   "version": "2.11.6"
  }
 },
 "nbformat": 4,
 "nbformat_minor": 2
}
