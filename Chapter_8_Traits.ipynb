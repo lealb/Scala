{
 "cells": [
  {
   "cell_type": "markdown",
   "metadata": {},
   "source": [
    "### 8.1. Using a Trait as an Interface\n",
    "- When a class extends a trait, it uses the extends and with keywords. When extending one trait, use extends:\n",
    "- When extending a class and one or more traits, use extends for the class, and with for subsequent traits:\n",
    "- When a class extends multiple traits, use extends for the first trait, and with for sub‐ sequent traits:\n",
    "- In other uses, one trait can extend another trai"
   ]
  },
  {
   "cell_type": "code",
   "execution_count": 1,
   "metadata": {},
   "outputs": [
    {
     "data": {
      "text/plain": [
       "defined \u001b[32mtrait\u001b[39m \u001b[36mBaseSoundPlayer\u001b[39m"
      ]
     },
     "execution_count": 1,
     "metadata": {},
     "output_type": "execute_result"
    }
   ],
   "source": [
    "trait BaseSoundPlayer{\n",
    "    def play(song:String)\n",
    "    def close\n",
    "    def pause\n",
    "    def stop\n",
    "    def resume\n",
    "}"
   ]
  },
  {
   "cell_type": "code",
   "execution_count": 1,
   "metadata": {
    "scrolled": true
   },
   "outputs": [
    {
     "name": "stderr",
     "output_type": "stream",
     "text": [
      "cmd1.sc:1: class Mp3 needs to be abstract, since:\n",
      "it has 4 unimplemented members.\n",
      "/** As seen from class Mp3, the missing signatures are as follows.\n",
      " *  For convenience, these are usable as stub implementations.\n",
      " */\n",
      "  def close: Unit = ???\n",
      "  def pause: Unit = ???\n",
      "  def resume: Unit = ???\n",
      "  def stop: Unit = ???\n",
      "\n",
      "class Mp3 extends BaseSoundPlayer{\n",
      "      ^"
     ]
    },
    {
     "ename": "",
     "evalue": "",
     "output_type": "error",
     "traceback": [
      "Compilation Failed"
     ]
    }
   ],
   "source": [
    "class Mp3 extends BaseSoundPlayer{\n",
    "    def play(song:String){\n",
    "        print(\"Songs\")\n",
    "    }\n",
    "}"
   ]
  },
  {
   "cell_type": "code",
   "execution_count": 2,
   "metadata": {},
   "outputs": [
    {
     "data": {
      "text/plain": [
       "defined \u001b[32mclass\u001b[39m \u001b[36mPP4\u001b[39m"
      ]
     },
     "execution_count": 2,
     "metadata": {},
     "output_type": "execute_result"
    }
   ],
   "source": [
    "abstract class PP4 extends BaseSoundPlayer{\n",
    "    def Play(Song:String){\n",
    "        print(\"S\")\n",
    "    }\n",
    "}"
   ]
  },
  {
   "cell_type": "code",
   "execution_count": 3,
   "metadata": {},
   "outputs": [
    {
     "data": {
      "text/plain": [
       "defined \u001b[32mclass\u001b[39m \u001b[36mAnimal\u001b[39m\n",
       "defined \u001b[32mtrait\u001b[39m \u001b[36mWaggingTail\u001b[39m\n",
       "defined \u001b[32mtrait\u001b[39m \u001b[36mFourLeggedAnimal\u001b[39m\n",
       "defined \u001b[32mclass\u001b[39m \u001b[36mDog\u001b[39m"
      ]
     },
     "execution_count": 3,
     "metadata": {},
     "output_type": "execute_result"
    }
   ],
   "source": [
    "abstract class Animal { \n",
    "    def speak\n",
    "}\n",
    "\n",
    "trait WaggingTail { \n",
    "    def startTail { \n",
    "        println(\"tail started\") \n",
    "    } \n",
    "    def stopTail { \n",
    "        println(\"tail stopped\")\n",
    "    }\n",
    "}\n",
    "\n",
    "trait FourLeggedAnimal { \n",
    "    def walk \n",
    "    def run\n",
    "}\n",
    "\n",
    "class Dog extends Animal with WaggingTail with FourLeggedAnimal { \n",
    "    // implementation code here ... \n",
    "    def speak { \n",
    "        println(\"Dog says 'woof'\") \n",
    "    } \n",
    "    def walk {\n",
    "        println(\"Dog is walking\") \n",
    "    } \n",
    "    def run { \n",
    "        println(\"Dog is running\") \n",
    "    }\n",
    "}"
   ]
  },
  {
   "cell_type": "code",
   "execution_count": 4,
   "metadata": {},
   "outputs": [
    {
     "name": "stdout",
     "output_type": "stream",
     "text": [
      "Dog says 'woof'\n",
      "Dog is walking\n"
     ]
    },
    {
     "data": {
      "text/plain": [
       "\u001b[36mdog\u001b[39m: \u001b[32mDog\u001b[39m = $sess.cmd2Wrapper$Helper$Dog@2dae2f25"
      ]
     },
     "execution_count": 4,
     "metadata": {},
     "output_type": "execute_result"
    }
   ],
   "source": [
    "val dog= new Dog()\n",
    "dog.speak\n",
    "dog.walk"
   ]
  },
  {
   "cell_type": "markdown",
   "metadata": {},
   "source": [
    "#### 8.2. Using Abstract and Concrete Fields in Traits\n",
    "- val field need override\n",
    "- var nedd't"
   ]
  },
  {
   "cell_type": "code",
   "execution_count": 5,
   "metadata": {},
   "outputs": [
    {
     "data": {
      "text/plain": [
       "defined \u001b[32mtrait\u001b[39m \u001b[36mPizzaTrait\u001b[39m\n",
       "defined \u001b[32mclass\u001b[39m \u001b[36mPizza\u001b[39m"
      ]
     },
     "execution_count": 5,
     "metadata": {},
     "output_type": "execute_result"
    }
   ],
   "source": [
    "trait PizzaTrait{\n",
    "    var numToppings:Int  //abstract\n",
    "    var size=14 //concrete\n",
    "    var maxNumToppings=10\n",
    "    val test:String\n",
    "}\n",
    "class Pizza extends PizzaTrait{\n",
    "    var numToppings=0\n",
    "    size=16\n",
    "    override val test=\"test\"\n",
    "}"
   ]
  },
  {
   "cell_type": "code",
   "execution_count": 6,
   "metadata": {},
   "outputs": [
    {
     "data": {
      "text/plain": [
       "\u001b[36mpizza\u001b[39m: \u001b[32mPizza\u001b[39m = $sess.cmd4Wrapper$Helper$Pizza@35213600\n",
       "\u001b[36mres5_1\u001b[39m: \u001b[32mInt\u001b[39m = \u001b[32m0\u001b[39m\n",
       "\u001b[36mres5_2\u001b[39m: \u001b[32mString\u001b[39m = \u001b[32m\"test\"\u001b[39m"
      ]
     },
     "execution_count": 6,
     "metadata": {},
     "output_type": "execute_result"
    }
   ],
   "source": [
    "val pizza=new Pizza\n",
    "pizza.numToppings\n",
    "pizza.test"
   ]
  },
  {
   "cell_type": "markdown",
   "metadata": {},
   "source": [
    "#### 8.3. Using a Trait Like an Abstract Class\n",
    "- If a class extends a trait without implementing its abstract methods, it must be defined as abstract. Because FlyingPet does not implement comeToMaster, it must be declared as abstract"
   ]
  },
  {
   "cell_type": "code",
   "execution_count": 7,
   "metadata": {},
   "outputs": [
    {
     "data": {
      "text/plain": [
       "defined \u001b[32mtrait\u001b[39m \u001b[36mPet\u001b[39m\n",
       "defined \u001b[32mclass\u001b[39m \u001b[36mDog\u001b[39m\n",
       "defined \u001b[32mclass\u001b[39m \u001b[36mCat\u001b[39m"
      ]
     },
     "execution_count": 7,
     "metadata": {},
     "output_type": "execute_result"
    }
   ],
   "source": [
    "trait Pet { \n",
    "    def speak { \n",
    "        println(\"Yo\") \n",
    "    } // concrete implementation \n",
    "    def comeToMaster// abstract method \n",
    "} \n",
    "class Dog extends Pet {\n",
    "    // don't need to implement 'speak' if you don't need to \n",
    "    def comeToMaster { (\"I'm coming!\") }\n",
    "}\n",
    "class Cat extends Pet { \n",
    "    // override the speak method \n",
    "    override def speak { (\"meow\") } \n",
    "    def comeToMaster {  (\"That's not gonna happen.\") }\n",
    "}"
   ]
  },
  {
   "cell_type": "markdown",
   "metadata": {},
   "source": [
    "#### 8.4. Using Traits as Simple Mixins\n"
   ]
  },
  {
   "cell_type": "code",
   "execution_count": null,
   "metadata": {},
   "outputs": [],
   "source": []
  }
 ],
 "metadata": {
  "kernelspec": {
   "display_name": "Scala",
   "language": "scala",
   "name": "scala"
  },
  "language_info": {
   "codemirror_mode": "text/x-scala",
   "file_extension": ".scala",
   "mimetype": "text/x-scala",
   "name": "scala212",
   "nbconvert_exporter": "script",
   "pygments_lexer": "scala",
   "version": "2.12.2"
  }
 },
 "nbformat": 4,
 "nbformat_minor": 2
}
