{
 "cells": [
  {
   "cell_type": "markdown",
   "metadata": {},
   "source": [
    "### Control Structures"
   ]
  },
  {
   "cell_type": "markdown",
   "metadata": {},
   "source": [
    "#### 3.1. Looping with for and foreach\n",
    "1. loops 、while loops\n",
    "2. foreach、map、flatMap\n",
    "\n",
    "关于循环的编译：\n",
    "1. A simple for loop that iterates over a collection is translated to a foreach method call on the collection.\n",
    "2. A for loop with a guard (see Recipe 3.3) is translated to a sequence of a withFilter method call on the collection followed by a foreach call.\n",
    "3. A for loop with a yield expression is translated to a map method call on the col‐ lection.\n",
    "4. A for loop with a yield expression and a guard is translated to a withFilter method call on the collection, followed by a map method call"
   ]
  },
  {
   "cell_type": "code",
   "execution_count": 6,
   "metadata": {},
   "outputs": [
    {
     "name": "stdout",
     "output_type": "stream",
     "text": [
      "APPLE\n",
      "BANANA\n",
      "ORANGE\n"
     ]
    },
    {
     "data": {
      "text/plain": [
       "\u001b[36mfruits\u001b[39m: \u001b[32mArray\u001b[39m[\u001b[32mString\u001b[39m] = \u001b[33mArray\u001b[39m(\u001b[32m\"apple\"\u001b[39m, \u001b[32m\"banana\"\u001b[39m, \u001b[32m\"orange\"\u001b[39m)"
      ]
     },
     "execution_count": 6,
     "metadata": {},
     "output_type": "execute_result"
    }
   ],
   "source": [
    "var fruits=Array(\"apple\",\"banana\",\"orange\")\n",
    "for(f <- fruits) {\n",
    "    val s=f.toUpperCase()\n",
    "    println(s)\n",
    "}"
   ]
  },
  {
   "cell_type": "code",
   "execution_count": 4,
   "metadata": {},
   "outputs": [
    {
     "data": {
      "text/plain": [
       "\u001b[36mres3\u001b[39m: \u001b[32mArray\u001b[39m[\u001b[32mString\u001b[39m] = \u001b[33mArray\u001b[39m(\u001b[32m\"Apple\"\u001b[39m, \u001b[32m\"Banana\"\u001b[39m, \u001b[32m\"Orange\"\u001b[39m)"
      ]
     },
     "execution_count": 4,
     "metadata": {},
     "output_type": "execute_result"
    }
   ],
   "source": [
    "for(f<-fruits)yield f.capitalize"
   ]
  },
  {
   "cell_type": "code",
   "execution_count": 5,
   "metadata": {},
   "outputs": [
    {
     "name": "stdout",
     "output_type": "stream",
     "text": [
      "0:apple\n",
      "1:banana\n",
      "2:orange\n"
     ]
    }
   ],
   "source": [
    "//index\n",
    "for((f,index)<-fruits.zipWithIndex){\n",
    "    println(s\"$index:$f\")\n",
    "}"
   ]
  },
  {
   "cell_type": "markdown",
   "metadata": {},
   "source": [
    "#### 3.2. Using for Loops with Multiple Counters"
   ]
  },
  {
   "cell_type": "code",
   "execution_count": 1,
   "metadata": {},
   "outputs": [
    {
     "name": "stdout",
     "output_type": "stream",
     "text": [
      "i=1,j=2\n",
      "i=1,j=3\n",
      "i=1,j=4\n",
      "i=2,j=2\n",
      "i=2,j=3\n",
      "i=2,j=4\n"
     ]
    }
   ],
   "source": [
    "for(i<-1 to 2;j<-2 to 4){\n",
    "    println(f\"i=$i,j=$j\")\n",
    "}"
   ]
  },
  {
   "cell_type": "code",
   "execution_count": 2,
   "metadata": {},
   "outputs": [
    {
     "data": {
      "text/plain": [
       "\u001b[36mres1\u001b[39m: \u001b[32mArray\u001b[39m[\u001b[32mArray\u001b[39m[\u001b[32mInt\u001b[39m]] = \u001b[33mArray\u001b[39m(\u001b[33mArray\u001b[39m(\u001b[32m0\u001b[39m, \u001b[32m0\u001b[39m), \u001b[33mArray\u001b[39m(\u001b[32m0\u001b[39m, \u001b[32m0\u001b[39m))"
      ]
     },
     "execution_count": 2,
     "metadata": {},
     "output_type": "execute_result"
    }
   ],
   "source": [
    "Array.ofDim[Int](2,2)\n",
    "//then you can array(0)(0) set the value"
   ]
  },
  {
   "cell_type": "markdown",
   "metadata": {},
   "source": [
    "#### 3.3. Using a for Loop with Embedded if Statements (Guards)\n",
    "1. if ,多个条件换行写"
   ]
  },
  {
   "cell_type": "code",
   "execution_count": 3,
   "metadata": {},
   "outputs": [
    {
     "name": "stdout",
     "output_type": "stream",
     "text": [
      "2\n",
      "4\n",
      "6\n",
      "8\n",
      "10\n"
     ]
    }
   ],
   "source": [
    "for(i<-1 to 10 if i%2==0){\n",
    "    println(i)\n",
    "}"
   ]
  },
  {
   "cell_type": "code",
   "execution_count": 5,
   "metadata": {},
   "outputs": [
    {
     "name": "stdout",
     "output_type": "stream",
     "text": [
      "(1,9)\n",
      "(2,8)\n",
      "(3,7)\n",
      "(4,6)\n"
     ]
    }
   ],
   "source": [
    "for{\n",
    "    i<-1 to 10\n",
    "    j<-1 to 10\n",
    "    if i<j\n",
    "    if i+j==10\n",
    "    \n",
    "}println(i,j)"
   ]
  },
  {
   "cell_type": "markdown",
   "metadata": {},
   "source": [
    "#### 3.4. Creating a for Comprehension (for/yield Combination)"
   ]
  },
  {
   "cell_type": "code",
   "execution_count": 8,
   "metadata": {},
   "outputs": [
    {
     "data": {
      "text/plain": [
       "\u001b[36mres7\u001b[39m: \u001b[32mArray\u001b[39m[\u001b[32mString\u001b[39m] = \u001b[33mArray\u001b[39m(\u001b[32m\"Apple\"\u001b[39m, \u001b[32m\"Banana\"\u001b[39m, \u001b[32m\"Orange\"\u001b[39m)"
      ]
     },
     "execution_count": 8,
     "metadata": {},
     "output_type": "execute_result"
    }
   ],
   "source": [
    "for(f<-fruits)yield f.capitalize"
   ]
  },
  {
   "cell_type": "code",
   "execution_count": 9,
   "metadata": {},
   "outputs": [
    {
     "data": {
      "text/plain": [
       "\u001b[36mres8\u001b[39m: \u001b[32mArray\u001b[39m[\u001b[32mString\u001b[39m] = \u001b[33mArray\u001b[39m(\u001b[32m\"Apple\"\u001b[39m, \u001b[32m\"Banana\"\u001b[39m, \u001b[32m\"Orange\"\u001b[39m)"
      ]
     },
     "execution_count": 9,
     "metadata": {},
     "output_type": "execute_result"
    }
   ],
   "source": [
    "fruits.map(_.capitalize)"
   ]
  },
  {
   "cell_type": "markdown",
   "metadata": {},
   "source": [
    "#### 3.5. Implementing break and continue"
   ]
  },
  {
   "cell_type": "code",
   "execution_count": 11,
   "metadata": {},
   "outputs": [
    {
     "name": "stdout",
     "output_type": "stream",
     "text": [
      "1\n",
      "2\n",
      "3\n",
      "4\n",
      "5\n"
     ]
    },
    {
     "ename": "",
     "evalue": "",
     "output_type": "error",
     "traceback": [
      "\u001b[31mscala.util.control.BreakControl\u001b[39m"
     ]
    }
   ],
   "source": [
    "import util.control.Breaks._\n",
    "for (i <- 1 to 10) { \n",
    "    println(i) \n",
    "    if (i > 4) \n",
    "    break // break out of the for loop\n",
    "}"
   ]
  },
  {
   "cell_type": "code",
   "execution_count": 14,
   "metadata": {},
   "outputs": [
    {
     "name": "stdout",
     "output_type": "stream",
     "text": [
      "Found 9 p's in the string.\n"
     ]
    },
    {
     "data": {
      "text/plain": [
       "\u001b[32mimport \u001b[39m\u001b[36mutil.control.Breaks._\n",
       "\n",
       "//continue?\n",
       "\u001b[39m\n",
       "\u001b[36msearchMe\u001b[39m: \u001b[32mString\u001b[39m = \u001b[32m\"peter piper picked a peck of pickled peppers\"\u001b[39m\n",
       "\u001b[36mnumPs\u001b[39m: \u001b[32mInt\u001b[39m = \u001b[32m9\u001b[39m"
      ]
     },
     "execution_count": 14,
     "metadata": {},
     "output_type": "execute_result"
    }
   ],
   "source": [
    "import util.control.Breaks._\n",
    "\n",
    "//continue?\n",
    "val searchMe = \"peter piper picked a peck of pickled peppers\" \n",
    "var numPs = 0\n",
    "for (i <- 0 until searchMe.length) {\n",
    "    breakable {// scala 需要加这个\n",
    "        if (searchMe.charAt(i) != 'p') { \n",
    "            break // break out of the 'breakable', continue the outside loop\n",
    "        } else { \n",
    "            numPs += 1\n",
    "        }\n",
    "    }\n",
    "}\n",
    "println(\"Found \" + numPs + \" p's in the string.\")"
   ]
  },
  {
   "cell_type": "code",
   "execution_count": 15,
   "metadata": {},
   "outputs": [
    {
     "data": {
      "text/plain": [
       "\u001b[36mres14\u001b[39m: \u001b[32mInt\u001b[39m = \u001b[32m9\u001b[39m"
      ]
     },
     "execution_count": 15,
     "metadata": {},
     "output_type": "execute_result"
    }
   ],
   "source": [
    "searchMe.count(_=='p')"
   ]
  },
  {
   "cell_type": "code",
   "execution_count": 21,
   "metadata": {},
   "outputs": [
    {
     "data": {
      "text/plain": [
       "defined \u001b[32mfunction\u001b[39m \u001b[36mfactorial\u001b[39m\n",
       "\u001b[36mres20_1\u001b[39m: \u001b[32mInt\u001b[39m = \u001b[32m2004310016\u001b[39m"
      ]
     },
     "execution_count": 21,
     "metadata": {},
     "output_type": "execute_result"
    }
   ],
   "source": [
    "def factorial(n: Int): Int = { \n",
    "    if (n == 1) 1 \n",
    "    else n * factorial(n - 1)\n",
    "}\n",
    "factorial(15)"
   ]
  },
  {
   "cell_type": "code",
   "execution_count": 20,
   "metadata": {},
   "outputs": [
    {
     "data": {
      "text/plain": [
       "\u001b[32mimport \u001b[39m\u001b[36mscala.annotation.tailrec \n",
       "\n",
       "\u001b[39m\n",
       "defined \u001b[32mfunction\u001b[39m \u001b[36mfactorial\u001b[39m\n",
       "\u001b[36mres19_2\u001b[39m: \u001b[32mInt\u001b[39m = \u001b[32m2004310016\u001b[39m"
      ]
     },
     "execution_count": 20,
     "metadata": {},
     "output_type": "execute_result"
    }
   ],
   "source": [
    "//尾递归 \n",
    "import scala.annotation.tailrec \n",
    "\n",
    "def factorial(n: Int): Int = { \n",
    "    @tailrec \n",
    "    def factorialAcc(acc: Int, n: Int): Int = {\n",
    "        if (n <= 1) acc \n",
    "        else factorialAcc(n * acc, n - 1)\n",
    "    } \n",
    "    factorialAcc(1, n)\n",
    "}\n",
    "factorial(15)"
   ]
  },
  {
   "cell_type": "markdown",
   "metadata": {},
   "source": [
    "#### 3.6. Using the if Construct Like a Ternary Operator\n",
    "1. if else 简写"
   ]
  },
  {
   "cell_type": "code",
   "execution_count": 22,
   "metadata": {},
   "outputs": [
    {
     "data": {
      "text/plain": [
       "defined \u001b[32mfunction\u001b[39m \u001b[36mabs\u001b[39m\n",
       "defined \u001b[32mfunction\u001b[39m \u001b[36mmax\u001b[39m"
      ]
     },
     "execution_count": 22,
     "metadata": {},
     "output_type": "execute_result"
    }
   ],
   "source": [
    "def abs(x: Int) = if (x >= 0) x else -x\n",
    "def max(a:Int,b:Int)=if(a>=b)a else b"
   ]
  },
  {
   "cell_type": "code",
   "execution_count": 23,
   "metadata": {},
   "outputs": [
    {
     "data": {
      "text/plain": [
       "\u001b[36mres22_0\u001b[39m: \u001b[32mInt\u001b[39m = \u001b[32m2\u001b[39m\n",
       "\u001b[36mres22_1\u001b[39m: \u001b[32mInt\u001b[39m = \u001b[32m3\u001b[39m\n",
       "\u001b[36mres22_2\u001b[39m: \u001b[32mInt\u001b[39m = \u001b[32m6\u001b[39m"
      ]
     },
     "execution_count": 23,
     "metadata": {},
     "output_type": "execute_result"
    }
   ],
   "source": [
    "abs(2)\n",
    "abs(-3)\n",
    "max(2,6)"
   ]
  },
  {
   "cell_type": "markdown",
   "metadata": {},
   "source": [
    "#### 3.7. Using a Match Expression Like a switch Statement\n",
    "1. switch 的表示方法 match"
   ]
  },
  {
   "cell_type": "code",
   "execution_count": 26,
   "metadata": {},
   "outputs": [
    {
     "data": {
      "text/plain": [
       "defined \u001b[32mfunction\u001b[39m \u001b[36mmonthToEnglish\u001b[39m"
      ]
     },
     "execution_count": 26,
     "metadata": {},
     "output_type": "execute_result"
    }
   ],
   "source": [
    "// i is an integer \n",
    "def monthToEnglish(i:Int)={\n",
    "    i match { \n",
    "\tcase 1 => println(\"January\") \n",
    "\tcase 2 => println(\"February\") \n",
    "\tcase 3 => println(\"March\") \n",
    "\tcase 4 => println(\"April\") \n",
    "\tcase 5 => println(\"May\") \n",
    "\tcase 6 => println(\"June\") \n",
    "\tcase 7 => println(\"July\") \n",
    "\tcase 8 => println(\"August\") \n",
    "\tcase 9 => println(\"September\") \n",
    "\tcase 10 => println(\"October\") \n",
    "\tcase 11 => println(\"November\") \n",
    "\tcase 12 => println(\"December\")\n",
    "\t// catch the default with a variable so you can print it \n",
    "\tcase whoa => println(\"Unexpected case: \" + whoa.toString)\n",
    "    }\n",
    "}"
   ]
  },
  {
   "cell_type": "code",
   "execution_count": 27,
   "metadata": {},
   "outputs": [
    {
     "name": "stdout",
     "output_type": "stream",
     "text": [
      "February\n",
      "Unexpected case: 31\n"
     ]
    }
   ],
   "source": [
    "monthToEnglish(2)\n",
    "monthToEnglish(31)"
   ]
  },
  {
   "cell_type": "code",
   "execution_count": 28,
   "metadata": {},
   "outputs": [
    {
     "data": {
      "text/plain": [
       "\u001b[32mimport \u001b[39m\u001b[36mscala.annotation.switch\n",
       "\n",
       "\u001b[39m\n",
       "\u001b[36mi\u001b[39m: \u001b[32mInt\u001b[39m = \u001b[32m1\u001b[39m\n",
       "\u001b[36mTwo\u001b[39m: \u001b[32mInt\u001b[39m = \u001b[32m2\u001b[39m\n",
       "\u001b[36mx\u001b[39m: \u001b[32mString\u001b[39m = \u001b[32m\"One\"\u001b[39m"
      ]
     },
     "execution_count": 28,
     "metadata": {},
     "output_type": "execute_result"
    }
   ],
   "source": [
    "import scala.annotation.switch\n",
    "\n",
    "val i = 1 \n",
    "val Two = 2\n",
    "val x = (i: @switch) match { \n",
    "    case 1 => \"One\" \n",
    "    case Two => \"Two\"\n",
    "    case _ => \"Other\"\n",
    "}"
   ]
  },
  {
   "cell_type": "code",
   "execution_count": 28,
   "metadata": {},
   "outputs": [
    {
     "name": "stderr",
     "output_type": "stream",
     "text": [
      "cmd28.sc:6: not found: type Person\n",
      "    case p: Person => \"Person\" \n",
      "            ^"
     ]
    },
    {
     "ename": "",
     "evalue": "",
     "output_type": "error",
     "traceback": [
      "Compilation Failed"
     ]
    }
   ],
   "source": [
    "// match Any\n",
    "def getClassAsString(x: Any): String = x match {\n",
    "    case s: String => s + \" is a String\" \n",
    "    case i: Int => \"Int\"\n",
    "    case f: Float => \"Float\"\n",
    "    case l: List[_] => \"List\" \n",
    "    case p: Person => \"Person\" \n",
    "    case _ => \"Unknown\"\n",
    "}"
   ]
  },
  {
   "cell_type": "code",
   "execution_count": 29,
   "metadata": {},
   "outputs": [
    {
     "data": {
      "text/plain": [
       "\u001b[36mmonthNumberToName\u001b[39m: \u001b[32mMap\u001b[39m[\u001b[32mInt\u001b[39m, \u001b[32mString\u001b[39m] = \u001b[33mMap\u001b[39m(\n",
       "  \u001b[32m5\u001b[39m -> \u001b[32m\"May\"\u001b[39m,\n",
       "  \u001b[32m10\u001b[39m -> \u001b[32m\"October\"\u001b[39m,\n",
       "  \u001b[32m1\u001b[39m -> \u001b[32m\"January\"\u001b[39m,\n",
       "  \u001b[32m6\u001b[39m -> \u001b[32m\"June\"\u001b[39m,\n",
       "  \u001b[32m9\u001b[39m -> \u001b[32m\"September\"\u001b[39m,\n",
       "  \u001b[32m2\u001b[39m -> \u001b[32m\"February\"\u001b[39m,\n",
       "  \u001b[32m12\u001b[39m -> \u001b[32m\"December\"\u001b[39m,\n",
       "  \u001b[32m7\u001b[39m -> \u001b[32m\"July\"\u001b[39m,\n",
       "  \u001b[32m3\u001b[39m -> \u001b[32m\"March\"\u001b[39m,\n",
       "  \u001b[32m11\u001b[39m -> \u001b[32m\"November\"\u001b[39m,\n",
       "  \u001b[32m8\u001b[39m -> \u001b[32m\"August\"\u001b[39m,\n",
       "\u001b[33m...\u001b[39m\n",
       "\u001b[36mres28_1\u001b[39m: \u001b[32mString\u001b[39m = \u001b[32m\"May\"\u001b[39m"
      ]
     },
     "execution_count": 29,
     "metadata": {},
     "output_type": "execute_result"
    }
   ],
   "source": [
    "//Map -> match\n",
    "val monthNumberToName = Map( \n",
    "    1 -> \"January\", \n",
    "    2 -> \"February\", \n",
    "    3 -> \"March\", \n",
    "    4 -> \"April\", \n",
    "    5 -> \"May\", \n",
    "    6 -> \"June\",\n",
    "    7 -> \"July\",\n",
    "    8 -> \"August\", \n",
    "    9 -> \"September\", \n",
    "    10 -> \"October\", \n",
    "    11 -> \"November\", \n",
    "    12 -> \"December\"\n",
    ")\n",
    "monthNumberToName(5)"
   ]
  },
  {
   "cell_type": "markdown",
   "metadata": {},
   "source": [
    "#### 3.8. Matching Multiple Conditions with One Case Statement\n",
    "1. use | pipe"
   ]
  },
  {
   "cell_type": "code",
   "execution_count": 32,
   "metadata": {},
   "outputs": [
    {
     "data": {
      "text/plain": [
       "defined \u001b[32mfunction\u001b[39m \u001b[36mnumType\u001b[39m"
      ]
     },
     "execution_count": 32,
     "metadata": {},
     "output_type": "execute_result"
    }
   ],
   "source": [
    "def numType(i:Int)=i match { \n",
    "    case 1 | 3 | 5 | 7 | 9 => println(\"odd\") \n",
    "    case 2 | 4 | 6 | 8 | 10 => println(\"even\")\n",
    "    case _=>println(\"No\")\n",
    "}"
   ]
  },
  {
   "cell_type": "code",
   "execution_count": 33,
   "metadata": {},
   "outputs": [
    {
     "name": "stdout",
     "output_type": "stream",
     "text": [
      "odd\n",
      "No\n"
     ]
    }
   ],
   "source": [
    "numType(3)\n",
    "numType(11)"
   ]
  },
  {
   "cell_type": "markdown",
   "metadata": {},
   "source": [
    "#### 3.9. Assigning the Result of a Match Expression to a Variable"
   ]
  },
  {
   "cell_type": "code",
   "execution_count": 36,
   "metadata": {},
   "outputs": [
    {
     "name": "stdout",
     "output_type": "stream",
     "text": [
      "odd\n"
     ]
    },
    {
     "data": {
      "text/plain": [
       "\u001b[36msomeNumber\u001b[39m: \u001b[32mInt\u001b[39m = \u001b[32m3\u001b[39m"
      ]
     },
     "execution_count": 36,
     "metadata": {},
     "output_type": "execute_result"
    }
   ],
   "source": [
    "// 说明了什么？变量赋值一个函数？\n",
    "val someNumber=3\n",
    "val evenOrOdd = someNumber match { \n",
    "    case 1 | 3 | 5 | 7 | 9 => println(\"odd\") \n",
    "    case 2 | 4 | 6 | 8 | 10 => println(\"even\")\n",
    "}"
   ]
  },
  {
   "cell_type": "code",
   "execution_count": 35,
   "metadata": {},
   "outputs": [
    {
     "data": {
      "text/plain": [
       "defined \u001b[32mfunction\u001b[39m \u001b[36misTrue\u001b[39m\n",
       "\u001b[36mres34_1\u001b[39m: \u001b[32mBoolean\u001b[39m = \u001b[32mtrue\u001b[39m"
      ]
     },
     "execution_count": 35,
     "metadata": {},
     "output_type": "execute_result"
    }
   ],
   "source": [
    "def isTrue(a: Any) = a match {\n",
    "    case 0 | \"\" => false \n",
    "    case _ => true\n",
    "}\n",
    "isTrue(8)"
   ]
  },
  {
   "cell_type": "markdown",
   "metadata": {},
   "source": [
    "#### 3.10. Accessing the Value of the Default Case in a Match Expression\n",
    "1. default"
   ]
  },
  {
   "cell_type": "code",
   "execution_count": 37,
   "metadata": {},
   "outputs": [
    {
     "data": {
      "text/plain": [
       "defined \u001b[32mfunction\u001b[39m \u001b[36mtestDefault\u001b[39m"
      ]
     },
     "execution_count": 37,
     "metadata": {},
     "output_type": "execute_result"
    }
   ],
   "source": [
    "def testDefault(i:Int)=i match { \n",
    "    case 0 => println(\"1\") \n",
    "    case 1 => println(\"2\") \n",
    "    case default => println(\"You gave me: \" + default)\n",
    "}"
   ]
  },
  {
   "cell_type": "code",
   "execution_count": 40,
   "metadata": {},
   "outputs": [
    {
     "name": "stdout",
     "output_type": "stream",
     "text": [
      "2\n",
      "You gave me: 3\n"
     ]
    }
   ],
   "source": [
    "testDefault(1)\n",
    "testDefault(3)\n",
    "//default 接受一个合法的值，非法不匹配，与_相比\n",
    "//你可以任意定义default 关键字\n",
    "// testDefault(23.1)"
   ]
  },
  {
   "cell_type": "markdown",
   "metadata": {},
   "source": [
    "#### 3.11. Using Pattern Matching in Match Expressions\n",
    "1. variableName @ pattern"
   ]
  },
  {
   "cell_type": "code",
   "execution_count": 41,
   "metadata": {},
   "outputs": [
    {
     "data": {
      "text/plain": [
       "defined \u001b[32mclass\u001b[39m \u001b[36mPerson\u001b[39m\n",
       "defined \u001b[32mclass\u001b[39m \u001b[36mDog\u001b[39m"
      ]
     },
     "execution_count": 41,
     "metadata": {},
     "output_type": "execute_result"
    }
   ],
   "source": [
    "case class Person(firstName: String, lastName: String) \n",
    "case class Dog(name: String)"
   ]
  },
  {
   "cell_type": "code",
   "execution_count": 42,
   "metadata": {},
   "outputs": [
    {
     "data": {
      "text/plain": [
       "defined \u001b[32mfunction\u001b[39m \u001b[36mechoWhatYouGaveMe\u001b[39m"
      ]
     },
     "execution_count": 42,
     "metadata": {},
     "output_type": "execute_result"
    }
   ],
   "source": [
    "def echoWhatYouGaveMe(x: Any): String = x match { \n",
    "    // constant patterns \n",
    "    case 0 => \"zero\" \n",
    "    case true => \"true\" \n",
    "    case \"hello\" => \"you said 'hello'\" \n",
    "    case Nil => \"an empty List\"\n",
    "    // sequence patterns \n",
    "    case List(0, _, _) => \"a three-element list with 0 as the first element\" \n",
    "    case List(1, _*) => \"a list beginning with 1, having any number of elements\" \n",
    "    case Vector(1, _*) => \"a vector starting with 1, having any number of elements\"\n",
    "    // tuples \n",
    "    case (a, b) => s\"got $a and $b\" \n",
    "    case (a, b, c) => s\"got $a, $b, and $c\"\n",
    "    // constructor patterns \n",
    "    case Person(first, \"Alexander\") => s\"found an Alexander, first name = $first\" \n",
    "    case Dog(\"Suka\") => \"found a dog named Suka\"\n",
    "    // typed patterns \n",
    "    case s: String => s\"you gave me this string: $s\" \n",
    "    case i: Int => s\"thanks for the int: $i\" \n",
    "    case f: Float => s\"thanks for the float: $f\" \n",
    "    case a: Array[Int] => s\"an array of int: ${a.mkString(\",\")}\"\n",
    "    case as: Array[String] => s\"an array of strings: ${as.mkString(\",\")}\"\n",
    "    case d: Dog => s\"dog: ${d.name}\" \n",
    "    case list: List[_] => s\"thanks for the List: $list\" \n",
    "    case m: Map[_, _] => m.toString\n",
    "    // the default wildcard pattern \n",
    "    case _ => \"Unknown\"\n",
    "}"
   ]
  },
  {
   "cell_type": "code",
   "execution_count": 43,
   "metadata": {},
   "outputs": [
    {
     "data": {
      "text/plain": [
       "\u001b[36mres42_0\u001b[39m: \u001b[32mString\u001b[39m = \u001b[32m\"zero\"\u001b[39m\n",
       "\u001b[36mres42_1\u001b[39m: \u001b[32mString\u001b[39m = \u001b[32m\"true\"\u001b[39m\n",
       "\u001b[36mres42_2\u001b[39m: \u001b[32mString\u001b[39m = \u001b[32m\"you said 'hello'\"\u001b[39m\n",
       "\u001b[36mres42_3\u001b[39m: \u001b[32mString\u001b[39m = \u001b[32m\"an empty List\"\u001b[39m"
      ]
     },
     "execution_count": 43,
     "metadata": {},
     "output_type": "execute_result"
    }
   ],
   "source": [
    "//// trigger the constant pattern\n",
    "echoWhatYouGaveMe(0)\n",
    "echoWhatYouGaveMe(true)\n",
    "echoWhatYouGaveMe(\"hello\")\n",
    "echoWhatYouGaveMe(Nil)"
   ]
  },
  {
   "cell_type": "code",
   "execution_count": 46,
   "metadata": {},
   "outputs": [
    {
     "data": {
      "text/plain": [
       "\u001b[36mres45_0\u001b[39m: \u001b[32mString\u001b[39m = \u001b[32m\"got 0, 1, and 2\"\u001b[39m\n",
       "\u001b[36mres45_1\u001b[39m: \u001b[32mString\u001b[39m = \u001b[32m\"a three-element list with 0 as the first element\"\u001b[39m\n",
       "\u001b[36mres45_2\u001b[39m: \u001b[32mString\u001b[39m = \u001b[32m\"a list beginning with 1, having any number of elements\"\u001b[39m\n",
       "\u001b[36mres45_3\u001b[39m: \u001b[32mString\u001b[39m = \u001b[32m\"a list beginning with 1, having any number of elements\"\u001b[39m\n",
       "\u001b[36mres45_4\u001b[39m: \u001b[32mString\u001b[39m = \u001b[32m\"a vector starting with 1, having any number of elements\"\u001b[39m"
      ]
     },
     "execution_count": 46,
     "metadata": {},
     "output_type": "execute_result"
    }
   ],
   "source": [
    "echoWhatYouGaveMe((0,1,2))\n",
    "echoWhatYouGaveMe(List(0,1,2))\n",
    "echoWhatYouGaveMe(List(1,2))\n",
    "echoWhatYouGaveMe(List(1,2,3))\n",
    "echoWhatYouGaveMe(Vector(1,2,3))"
   ]
  },
  {
   "cell_type": "code",
   "execution_count": 47,
   "metadata": {},
   "outputs": [
    {
     "data": {
      "text/plain": [
       "\u001b[36mres46_0\u001b[39m: \u001b[32mString\u001b[39m = \u001b[32m\"got 1 and 2\"\u001b[39m\n",
       "\u001b[36mres46_1\u001b[39m: \u001b[32mString\u001b[39m = \u001b[32m\"got 1, 2, and 3\"\u001b[39m"
      ]
     },
     "execution_count": 47,
     "metadata": {},
     "output_type": "execute_result"
    }
   ],
   "source": [
    "// trigger the tuple patterns \n",
    "echoWhatYouGaveMe((1,2))\n",
    "echoWhatYouGaveMe((1,2,3))"
   ]
  },
  {
   "cell_type": "code",
   "execution_count": 48,
   "metadata": {},
   "outputs": [
    {
     "data": {
      "text/plain": [
       "\u001b[36mres47_0\u001b[39m: \u001b[32mString\u001b[39m = \u001b[32m\"found an Alexander, first name = Melissa\"\u001b[39m\n",
       "\u001b[36mres47_1\u001b[39m: \u001b[32mString\u001b[39m = \u001b[32m\"found a dog named Suka\"\u001b[39m"
      ]
     },
     "execution_count": 48,
     "metadata": {},
     "output_type": "execute_result"
    }
   ],
   "source": [
    "// two element tuple \n",
    "// three element tuple\n",
    "// trigger the constructor patterns \n",
    "echoWhatYouGaveMe(Person(\"Melissa\", \"Alexander\"))\n",
    "echoWhatYouGaveMe(Dog(\"Suka\"))"
   ]
  },
  {
   "cell_type": "code",
   "execution_count": 49,
   "metadata": {},
   "outputs": [
    {
     "data": {
      "text/plain": [
       "\u001b[36mres48_0\u001b[39m: \u001b[32mString\u001b[39m = \u001b[32m\"you gave me this string: Hello, world\"\u001b[39m\n",
       "\u001b[36mres48_1\u001b[39m: \u001b[32mString\u001b[39m = \u001b[32m\"thanks for the int: 42\"\u001b[39m\n",
       "\u001b[36mres48_2\u001b[39m: \u001b[32mString\u001b[39m = \u001b[32m\"thanks for the float: 42.0\"\u001b[39m\n",
       "\u001b[36mres48_3\u001b[39m: \u001b[32mString\u001b[39m = \u001b[32m\"an array of int: 1,2,3\"\u001b[39m\n",
       "\u001b[36mres48_4\u001b[39m: \u001b[32mString\u001b[39m = \u001b[32m\"an array of strings: coffee,apple pie\"\u001b[39m\n",
       "\u001b[36mres48_5\u001b[39m: \u001b[32mString\u001b[39m = \u001b[32m\"dog: Fido\"\u001b[39m\n",
       "\u001b[36mres48_6\u001b[39m: \u001b[32mString\u001b[39m = \u001b[32m\"thanks for the List: List(apple, banana)\"\u001b[39m\n",
       "\u001b[36mres48_7\u001b[39m: \u001b[32mString\u001b[39m = \u001b[32m\"Map(1 -> Al, 2 -> Alexander)\"\u001b[39m"
      ]
     },
     "execution_count": 49,
     "metadata": {},
     "output_type": "execute_result"
    }
   ],
   "source": [
    "// trigger the typed patterns \n",
    "echoWhatYouGaveMe(\"Hello, world\")\n",
    "echoWhatYouGaveMe(42)\n",
    "echoWhatYouGaveMe(42F)\n",
    "echoWhatYouGaveMe(Array(1,2,3)) \n",
    "echoWhatYouGaveMe(Array(\"coffee\", \"apple pie\")) \n",
    "echoWhatYouGaveMe(Dog(\"Fido\"))\n",
    "echoWhatYouGaveMe(List(\"apple\", \"banana\"))\n",
    "\n",
    "echoWhatYouGaveMe(Map(1->\"Al\", 2->\"Alexander\"))"
   ]
  },
  {
   "cell_type": "markdown",
   "metadata": {},
   "source": [
    "#### 3.12. Using Case Classes in Match Expressions\n",
    "1.通过Trait 特征"
   ]
  },
  {
   "cell_type": "code",
   "execution_count": 52,
   "metadata": {},
   "outputs": [
    {
     "data": {
      "text/plain": [
       "defined \u001b[32mtrait\u001b[39m \u001b[36mAnimal\u001b[39m\n",
       "defined \u001b[32mclass\u001b[39m \u001b[36mDog\u001b[39m\n",
       "defined \u001b[32mclass\u001b[39m \u001b[36mCat\u001b[39m\n",
       "defined \u001b[32mobject\u001b[39m \u001b[36mWoodpecker\u001b[39m\n",
       "defined \u001b[32mfunction\u001b[39m \u001b[36mdetermineType\u001b[39m\n",
       "\u001b[36mres51_5\u001b[39m: \u001b[32mString\u001b[39m = \u001b[32m\"Got a Dog, name = Rocky\"\u001b[39m\n",
       "\u001b[36mres51_6\u001b[39m: \u001b[32mString\u001b[39m = \u001b[32m\"Got a Cat (ignoring the name)\"\u001b[39m\n",
       "\u001b[36mres51_7\u001b[39m: \u001b[32mString\u001b[39m = \u001b[32m\"That was a Woodpecker\"\u001b[39m"
      ]
     },
     "execution_count": 52,
     "metadata": {},
     "output_type": "execute_result"
    }
   ],
   "source": [
    "//1.声明一个特征\n",
    "trait Animal\n",
    "//2.声明3个类继承特征\n",
    "case class Dog(name: String) extends Animal \n",
    "case class Cat(name: String) extends Animal\n",
    "case object Woodpecker extends Animal\n",
    "\n",
    "def determineType(x: Animal): String = x match { \n",
    "    case Dog(moniker) => \"Got a Dog, name = \" + moniker \n",
    "    case _:Cat => \"Got a Cat (ignoring the name)\" \n",
    "    case Woodpecker => \"That was a Woodpecker\" \n",
    "    case _ => \"That was something else\"\n",
    "}\n",
    "\n",
    "//Test\n",
    "determineType(new Dog(\"Rocky\"))\n",
    "determineType(new Cat(\"Rusty the Cat\"))\n",
    "determineType(Woodpecker)\n",
    "// determineType(new Animal())"
   ]
  },
  {
   "cell_type": "markdown",
   "metadata": {},
   "source": [
    "#### 3.13. Adding if Expressions (Guards) to Case Statements"
   ]
  },
  {
   "cell_type": "code",
   "execution_count": 53,
   "metadata": {},
   "outputs": [
    {
     "data": {
      "text/plain": [
       "defined \u001b[32mfunction\u001b[39m \u001b[36mtestIfMatch\u001b[39m"
      ]
     },
     "execution_count": 53,
     "metadata": {},
     "output_type": "execute_result"
    }
   ],
   "source": [
    "def testIfMatch(i:Int)={\n",
    "    i match { \n",
    "        case a if 0 to 9 contains a => println(\"0-9 range: \" + a) \n",
    "        case b if 10 to 19 contains b => println(\"10-19 range: \" + b) \n",
    "        case c if 20 to 29 contains c => println(\"20-29 range: \" + c) \n",
    "        case _ => println(\"Hmmm...\")\n",
    "    }\n",
    "}"
   ]
  },
  {
   "cell_type": "code",
   "execution_count": 54,
   "metadata": {},
   "outputs": [
    {
     "name": "stdout",
     "output_type": "stream",
     "text": [
      "0-9 range: 2\n",
      "10-19 range: 15\n",
      "20-29 range: 23\n",
      "Hmmm...\n"
     ]
    }
   ],
   "source": [
    "testIfMatch(2)\n",
    "testIfMatch(15)\n",
    "testIfMatch(23)\n",
    "testIfMatch(76)"
   ]
  },
  {
   "cell_type": "markdown",
   "metadata": {},
   "source": [
    "#### 3.14. Using a Match Expression Instead of isInstanceOf"
   ]
  },
  {
   "cell_type": "code",
   "execution_count": null,
   "metadata": {},
   "outputs": [],
   "source": [
    "//样例伪代码\n",
    "trait SentientBeing \n",
    "trait Animal extends SentientBeing \n",
    "case class Dog(name: String) extends Animal \n",
    "case class Person(name: String, age: Int) extends SentientBeing\n",
    "// later in the code ... \n",
    "def printInfo(x: SentientBeing) = x match { \n",
    "    case Person(name, age) => // handle the Person \n",
    "    case Dog(name) => // handle the Dog\n",
    "}"
   ]
  },
  {
   "cell_type": "markdown",
   "metadata": {},
   "source": [
    "#### 3.15. Working with a List in a Match Expression"
   ]
  },
  {
   "cell_type": "code",
   "execution_count": 55,
   "metadata": {},
   "outputs": [
    {
     "data": {
      "text/plain": [
       "defined \u001b[32mfunction\u001b[39m \u001b[36mlistToString\u001b[39m"
      ]
     },
     "execution_count": 55,
     "metadata": {},
     "output_type": "execute_result"
    }
   ],
   "source": [
    "def listToString(list: List[String]): String = list match { \n",
    "    case s :: rest => s + \" \" + listToString(rest) \n",
    "    case Nil => \"\"\n",
    "}"
   ]
  },
  {
   "cell_type": "code",
   "execution_count": 62,
   "metadata": {},
   "outputs": [
    {
     "data": {
      "text/plain": [
       "\u001b[36mtest1\u001b[39m: \u001b[32mList\u001b[39m[\u001b[32mString\u001b[39m] = \u001b[33mList\u001b[39m(\u001b[32m\"1\"\u001b[39m, \u001b[32m\"2\"\u001b[39m, \u001b[32m\"3\"\u001b[39m)\n",
       "\u001b[36mtest2\u001b[39m: \u001b[32mList\u001b[39m[\u001b[32mString\u001b[39m] = \u001b[33mList\u001b[39m(\u001b[32m\"1\"\u001b[39m, \u001b[32m\"2\"\u001b[39m, \u001b[32m\"3\"\u001b[39m)"
      ]
     },
     "execution_count": 62,
     "metadata": {},
     "output_type": "execute_result"
    }
   ],
   "source": [
    "val test1=List(\"1\",\"2\",\"3\")\n",
    "var test2=\"1\"::\"2\"::\"3\"::Nil"
   ]
  },
  {
   "cell_type": "code",
   "execution_count": 64,
   "metadata": {},
   "outputs": [
    {
     "data": {
      "text/plain": [
       "\u001b[36mres63_0\u001b[39m: \u001b[32mString\u001b[39m = \u001b[32m\"List(1, 2, 3)\"\u001b[39m\n",
       "\u001b[36mres63_1\u001b[39m: \u001b[32mString\u001b[39m = \u001b[32m\"1 2 3 \"\u001b[39m\n",
       "\u001b[36mres63_2\u001b[39m: \u001b[32mString\u001b[39m = \u001b[32m\"1 2 3 \"\u001b[39m"
      ]
     },
     "execution_count": 64,
     "metadata": {},
     "output_type": "execute_result"
    }
   ],
   "source": [
    "test1.toString\n",
    "listToString(test1)\n",
    "listToString(test2)"
   ]
  },
  {
   "cell_type": "code",
   "execution_count": 71,
   "metadata": {},
   "outputs": [
    {
     "data": {
      "text/plain": [
       "\u001b[36ma\u001b[39m: \u001b[32mList\u001b[39m[\u001b[32mInt\u001b[39m] = \u001b[33mList\u001b[39m(\u001b[32m1\u001b[39m, \u001b[32m2\u001b[39m, \u001b[32m3\u001b[39m, \u001b[32m4\u001b[39m)\n",
       "\u001b[36mres70_1\u001b[39m: \u001b[32mInt\u001b[39m = \u001b[32m10\u001b[39m\n",
       "\u001b[36mmuit\u001b[39m: \u001b[32mInt\u001b[39m = \u001b[32m24\u001b[39m"
      ]
     },
     "execution_count": 71,
     "metadata": {},
     "output_type": "execute_result"
    }
   ],
   "source": [
    "val a=List(1,2,3,4)\n",
    "a.sum\n",
    "var muit=1\n",
    "for(i<-a.indices){\n",
    "    muit*=a(i)\n",
    "}"
   ]
  },
  {
   "cell_type": "code",
   "execution_count": 69,
   "metadata": {},
   "outputs": [
    {
     "data": {
      "text/plain": [
       "defined \u001b[32mfunction\u001b[39m \u001b[36mmultiply\u001b[39m"
      ]
     },
     "execution_count": 69,
     "metadata": {},
     "output_type": "execute_result"
    }
   ],
   "source": [
    "def multiply(list:List[Int]):Int= list match{\n",
    "    case Nil=>1\n",
    "    case n::rest=>n*multiply(rest)\n",
    "}"
   ]
  },
  {
   "cell_type": "code",
   "execution_count": 72,
   "metadata": {},
   "outputs": [
    {
     "data": {
      "text/plain": [
       "\u001b[36mres71\u001b[39m: \u001b[32mInt\u001b[39m = \u001b[32m24\u001b[39m"
      ]
     },
     "execution_count": 72,
     "metadata": {},
     "output_type": "execute_result"
    }
   ],
   "source": [
    "multiply(a)"
   ]
  },
  {
   "cell_type": "markdown",
   "metadata": {},
   "source": [
    "#### 3.16. Matching One or More Exceptions with try/catch"
   ]
  },
  {
   "cell_type": "code",
   "execution_count": 74,
   "metadata": {},
   "outputs": [
    {
     "name": "stdout",
     "output_type": "stream",
     "text": [
      "java.lang.NumberFormatException: For input string: \"Foo\"\n"
     ]
    },
    {
     "data": {
      "text/plain": [
       "\u001b[36ms\u001b[39m: \u001b[32mString\u001b[39m = \u001b[32m\"Foo\"\u001b[39m\n",
       "\u001b[36mres73_1\u001b[39m: \u001b[32mAnyVal\u001b[39m = ()"
      ]
     },
     "execution_count": 74,
     "metadata": {},
     "output_type": "execute_result"
    }
   ],
   "source": [
    "val s=\"Foo\"\n",
    "try{\n",
    "  s.toInt\n",
    "}catch {\n",
    "//   case e:Exception=>e.printStackTrace()\n",
    "      case e:Exception=>println(e)\n",
    "}"
   ]
  },
  {
   "cell_type": "markdown",
   "metadata": {},
   "source": [
    "#### 3.17. Declaring a Variable Before Using It in a try/catch/ finally Block"
   ]
  },
  {
   "cell_type": "code",
   "execution_count": 78,
   "metadata": {},
   "outputs": [
    {
     "name": "stdout",
     "output_type": "stream",
     "text": [
      "entered finally ...\n"
     ]
    },
    {
     "data": {
      "text/plain": [
       "\u001b[32mimport \u001b[39m\u001b[36mjava.io._\n",
       "\u001b[39m\n",
       "\u001b[36min\u001b[39m: \u001b[32mOption\u001b[39m[\u001b[32mFileInputStream\u001b[39m] = \u001b[33mSome\u001b[39m(java.io.FileInputStream@13732464)\n",
       "\u001b[36mout\u001b[39m: \u001b[32mOption\u001b[39m[\u001b[32mFileOutputStream\u001b[39m] = \u001b[33mSome\u001b[39m(java.io.FileOutputStream@632d8eb3)"
      ]
     },
     "execution_count": 78,
     "metadata": {},
     "output_type": "execute_result"
    }
   ],
   "source": [
    "import java.io._\n",
    "var in = None: Option[FileInputStream]\n",
    "var out = None: Option[FileOutputStream]\n",
    "try {\n",
    "in = Some(new FileInputStream(\"/tmp/Test.java\"))\n",
    "out = Some(new FileOutputStream(\"/tmp/Test.java.copy\"))\n",
    "var c = 0\n",
    "while ({c = in.get.read;c != -1}) {\n",
    "  out.get.write(c)\n",
    "}\n",
    "} catch {\n",
    "case e: IOException => e.printStackTrace\n",
    "} finally {\n",
    "println(\"entered finally ...\")\n",
    "if (in.isDefined) in.get.close\n",
    "if (out.isDefined) out.get.close\n",
    "}\n"
   ]
  },
  {
   "cell_type": "code",
   "execution_count": 74,
   "metadata": {},
   "outputs": [
    {
     "name": "stderr",
     "output_type": "stream",
     "text": [
      "cmd74.sc:1: not found: value -\n",
      "val res74 = $minus\n",
      "            ^"
     ]
    },
    {
     "ename": "",
     "evalue": "",
     "output_type": "error",
     "traceback": [
      "Compilation Failed"
     ]
    }
   ],
   "source": [
    "$minus"
   ]
  },
  {
   "cell_type": "code",
   "execution_count": 75,
   "metadata": {},
   "outputs": [
    {
     "data": {
      "text/plain": [
       "\u001b[36mres74\u001b[39m: \u001b[32mInt\u001b[39m = \u001b[32m-1\u001b[39m"
      ]
     },
     "execution_count": 75,
     "metadata": {},
     "output_type": "execute_result"
    }
   ],
   "source": [
    "-1"
   ]
  },
  {
   "cell_type": "markdown",
   "metadata": {},
   "source": [
    "#### 3.18. Creating Your Own Control Structures\n"
   ]
  }
 ],
 "metadata": {
  "kernelspec": {
   "display_name": "Scala",
   "language": "scala",
   "name": "scala"
  },
  "language_info": {
   "codemirror_mode": "text/x-scala",
   "file_extension": ".scala",
   "mimetype": "text/x-scala",
   "name": "scala211",
   "nbconvert_exporter": "script",
   "pygments_lexer": "scala",
   "version": "2.11.11"
  }
 },
 "nbformat": 4,
 "nbformat_minor": 2
}
