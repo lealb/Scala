{
 "cells": [
  {
   "cell_type": "markdown",
   "metadata": {},
   "source": [
    "### Methods\n",
    "#### Java and scala methods\n",
    "- Specifying method access control (visibility)指定方法访问控制(可见性)\n",
    "- The ability to set default values for method parameters 为方法设置默认值的能力\n",
    "- The ability to specify the names of method parameters when calling a method在调用方法时指定方法参数名称的能力\n",
    "- How you declare the exceptions a method can throw 如何声明一个方法可以抛出的异常\n",
    "- Using varargs fields in methods 在方法中使用varargs字段\n"
   ]
  },
  {
   "cell_type": "markdown",
   "metadata": {},
   "source": [
    "#### 5.1. Controlling Method Scope\n",
    "- Object-private scope \n",
    "- Private \n",
    "- Package \n",
    "- Package-specific\n",
    "- Public\n",
    "\n",
    "- private[this] The method is available only to the current instance of the class it’s declared in.\n",
    "- private The method is available to the current instance and other instances of the class it’s declared in. \n",
    "- protected The method is available only to instances of the current class and subclasses of the current class.\n",
    "- private[model] The method is available to all classes beneath the com.acme.coolapp.model package.\n",
    "- private[coolapp] The method is available to all classes beneath the com.acme.coolapp package. \n",
    "- private[acme] The method is available to all classes beneath the com.acme package.\n",
    "- (no modifier)  The method is public."
   ]
  },
  {
   "cell_type": "code",
   "execution_count": 0,
   "metadata": {},
   "outputs": [
    {
     "name": "stderr",
     "output_type": "stream",
     "text": [
      "cmd0.sc:4: value isFoo is not a member of Helper.this.Foo\n",
      "        if(other.isFoo){//won't compile\n",
      "                 ^"
     ]
    },
    {
     "ename": "",
     "evalue": "",
     "output_type": "error",
     "traceback": [
      "Compilation Failed"
     ]
    }
   ],
   "source": [
    "//Object-private scope 仅仅被当前实例使用\n",
    "class Foo{\n",
    "    private[this] def isFoo=true\n",
    "    def doFoo(other:Foo){\n",
    "        if(other.isFoo){//won't compile\n",
    "            //do something \n",
    "        }\n",
    "    }\n",
    "}"
   ]
  },
  {
   "cell_type": "code",
   "execution_count": 1,
   "metadata": {},
   "outputs": [
    {
     "data": {
      "text/plain": [
       "defined \u001b[32mclass\u001b[39m \u001b[36mFoo\u001b[39m"
      ]
     },
     "execution_count": 1,
     "metadata": {},
     "output_type": "execute_result"
    }
   ],
   "source": [
    "//Private 不能被继承使用，可以在当前class\n",
    "class Foo{\n",
    "    private def isFoo=true\n",
    "    def doFoo(other:Foo){\n",
    "        if(other.isFoo){//won't compile\n",
    "            //do something \n",
    "        }\n",
    "    }\n",
    "}"
   ]
  },
  {
   "cell_type": "code",
   "execution_count": 1,
   "metadata": {},
   "outputs": [
    {
     "name": "stderr",
     "output_type": "stream",
     "text": [
      "cmd1.sc:5: not found: value heartBeat\n",
      "    heartBeat // won't compile\n",
      "    ^"
     ]
    },
    {
     "ename": "",
     "evalue": "",
     "output_type": "error",
     "traceback": [
      "Compilation Failed"
     ]
    }
   ],
   "source": [
    "class Animal { \n",
    "    private def heartBeat {}\n",
    "}\n",
    "class Dog extends Animal { \n",
    "    heartBeat // won't compile\n",
    "}"
   ]
  },
  {
   "cell_type": "code",
   "execution_count": 2,
   "metadata": {},
   "outputs": [
    {
     "data": {
      "text/plain": [
       "defined \u001b[32mclass\u001b[39m \u001b[36mAnimal\u001b[39m\n",
       "defined \u001b[32mclass\u001b[39m \u001b[36mDog\u001b[39m"
      ]
     },
     "execution_count": 2,
     "metadata": {},
     "output_type": "execute_result"
    }
   ],
   "source": [
    "//Protected 可以继承使用，不能在统一包下的不同类使用\n",
    "class Animal { \n",
    "    protected def breathe {}\n",
    "}\n",
    "class Dog extends Animal { \n",
    "    breathe\n",
    "}"
   ]
  },
  {
   "cell_type": "code",
   "execution_count": 2,
   "metadata": {},
   "outputs": [
    {
     "ename": "",
     "evalue": "",
     "output_type": "error",
     "traceback": [
      "SyntaxError: found \"package world{\\n    c\", expected TopPkgSeq | Import | Prelude ~ BlockDef | Expr | End at index 0",
      "package world{",
      "^"
     ]
    }
   ],
   "source": [
    "package world{\n",
    "    class Animal { \n",
    "        protected def breathe {}\n",
    "    }\n",
    "    class Jungle { \n",
    "        val a = new Animal \n",
    "        a.breathe // error: this line won't compile\n",
    "    }\n",
    "}\n"
   ]
  },
  {
   "cell_type": "code",
   "execution_count": 2,
   "metadata": {},
   "outputs": [
    {
     "ename": "",
     "evalue": "",
     "output_type": "error",
     "traceback": [
      "SyntaxError: found \"package com.acme.coo\", expected \";\" | Newline.rep(1) | TopPkgSeq | Import | Prelude ~ BlockDef | Expr | End at index 11",
      "package com.acme.coo",
      "^"
     ]
    }
   ],
   "source": [
    "//Package \n",
    "package com.acme.coolapp.model { \n",
    "    class Foo { \n",
    "        private[model] def doX {} \n",
    "        private def doY {}\n",
    "    }\n",
    "\n",
    "    class Bar { \n",
    "        val f = new Foo f.doX // compiles \n",
    "        f.doY // won't compile\n",
    "    }\n",
    "}"
   ]
  },
  {
   "cell_type": "markdown",
   "metadata": {},
   "source": [
    "#### 5.2. Calling a Method on a Superclass\n",
    "1. 通过super[object]机制"
   ]
  },
  {
   "cell_type": "code",
   "execution_count": 5,
   "metadata": {},
   "outputs": [
    {
     "name": "stdout",
     "output_type": "stream",
     "text": [
      "Walking\n",
      "Running\n"
     ]
    },
    {
     "data": {
      "text/plain": [
       "defined \u001b[32mclass\u001b[39m \u001b[36mFourLeggedAnimal\u001b[39m\n",
       "defined \u001b[32mclass\u001b[39m \u001b[36mDog\u001b[39m"
      ]
     },
     "execution_count": 5,
     "metadata": {},
     "output_type": "execute_result"
    }
   ],
   "source": [
    "class FourLeggedAnimal{\n",
    "    def walk{\n",
    "        println(\"Walking\")\n",
    "    }\n",
    "    def run{\n",
    "        println(\"Running\")\n",
    "    }\n",
    "}\n",
    "class Dog extends FourLeggedAnimal{\n",
    "    def action{\n",
    "        super.walk\n",
    "        super.run\n",
    "    }\n",
    "}\n",
    "new Dog().action"
   ]
  },
  {
   "cell_type": "code",
   "execution_count": 8,
   "metadata": {},
   "outputs": [
    {
     "data": {
      "text/plain": [
       "defined \u001b[32mtrait\u001b[39m \u001b[36mHuman\u001b[39m\n",
       "defined \u001b[32mtrait\u001b[39m \u001b[36mMother\u001b[39m\n",
       "defined \u001b[32mtrait\u001b[39m \u001b[36mFather\u001b[39m"
      ]
     },
     "execution_count": 8,
     "metadata": {},
     "output_type": "execute_result"
    }
   ],
   "source": [
    "trait Human { \n",
    "    def hello = println(\"the Human trait\")\n",
    "}\n",
    "trait Mother extends Human { \n",
    "    override def hello = println(\"Mother\")\n",
    "}\n",
    "trait Father extends Human { \n",
    "    override def hello = println(\"Father\")\n",
    "}"
   ]
  },
  {
   "cell_type": "code",
   "execution_count": 11,
   "metadata": {},
   "outputs": [
    {
     "data": {
      "text/plain": [
       "defined \u001b[32mclass\u001b[39m \u001b[36mChild\u001b[39m"
      ]
     },
     "execution_count": 11,
     "metadata": {},
     "output_type": "execute_result"
    }
   ],
   "source": [
    "class Child extends Human with Father with Mother{\n",
    "    def printSuper = super.hello \n",
    "    def printMother = super[Mother].hello \n",
    "    def printFather = super[Father].hello\n",
    "    def printHuman = super[Human].hello\n",
    "}"
   ]
  },
  {
   "cell_type": "code",
   "execution_count": 12,
   "metadata": {},
   "outputs": [
    {
     "name": "stdout",
     "output_type": "stream",
     "text": [
      "Mother\n",
      "Mother\n",
      "Father\n",
      "the Human trait\n"
     ]
    }
   ],
   "source": [
    "new Child().printSuper\n",
    "new Child().printMother\n",
    "new Child().printFather\n",
    "new Child().printHuman"
   ]
  },
  {
   "cell_type": "markdown",
   "metadata": {},
   "source": [
    "#### 5.3. Setting Default Values for Method Parameters"
   ]
  },
  {
   "cell_type": "code",
   "execution_count": 13,
   "metadata": {},
   "outputs": [
    {
     "data": {
      "text/plain": [
       "defined \u001b[32mclass\u001b[39m \u001b[36mConnection\u001b[39m"
      ]
     },
     "execution_count": 13,
     "metadata": {},
     "output_type": "execute_result"
    }
   ],
   "source": [
    "//混合参数，只能是后面的参数拥有默认值\n",
    "class Connection { \n",
    "    def makeConnection(timeout:Int=5000,protocol:String=\"http\"){ \n",
    "        println(\"timeout = %d, protocol = %s\".format(timeout, protocol)) // more code here\n",
    "    }\n",
    "}"
   ]
  },
  {
   "cell_type": "code",
   "execution_count": 14,
   "metadata": {},
   "outputs": [
    {
     "name": "stdout",
     "output_type": "stream",
     "text": [
      "timeout = 5000, protocol = http\n",
      "timeout = 3000, protocol = http\n",
      "timeout = 2000, protocol = https\n"
     ]
    }
   ],
   "source": [
    "new Connection().makeConnection()\n",
    "new Connection().makeConnection(3000)\n",
    "new Connection().makeConnection(2000,\"https\")"
   ]
  },
  {
   "cell_type": "markdown",
   "metadata": {},
   "source": [
    "#### 5.4. Using Parameter Names When Calling a Method"
   ]
  },
  {
   "cell_type": "code",
   "execution_count": 15,
   "metadata": {},
   "outputs": [
    {
     "data": {
      "text/plain": [
       "defined \u001b[32mclass\u001b[39m \u001b[36mPizza\u001b[39m"
      ]
     },
     "execution_count": 15,
     "metadata": {},
     "output_type": "execute_result"
    }
   ],
   "source": [
    "class Pizza { \n",
    "    var crustSize = 12 \n",
    "    var crustType = \"Thin\" \n",
    "    def update(crustSize: Int, crustType: String) { \n",
    "        this.crustSize = crustSize \n",
    "        this.crustType = crustType\n",
    "    }\n",
    "    override def toString = { \n",
    "        \"A %d inch %s crust pizza.\".format(crustSize, crustType)\n",
    "    }\n",
    "}"
   ]
  },
  {
   "cell_type": "code",
   "execution_count": 16,
   "metadata": {},
   "outputs": [
    {
     "data": {
      "text/plain": [
       "\u001b[36mp\u001b[39m: \u001b[32mPizza\u001b[39m = A 16 inch Thick crust pizza.\n",
       "\u001b[36mres15_2\u001b[39m: \u001b[32mPizza\u001b[39m = A 16 inch Thick crust pizza."
      ]
     },
     "execution_count": 16,
     "metadata": {},
     "output_type": "execute_result"
    }
   ],
   "source": [
    "val p = new Pizza\n",
    "p.update(crustSize = 16, crustType = \"Thick\")"
   ]
  },
  {
   "cell_type": "markdown",
   "metadata": {},
   "source": [
    "#### 5.5. Defining a Method That Returns Multiple Items (Tuples)\n",
    "1. 以元祖类型返回"
   ]
  },
  {
   "cell_type": "code",
   "execution_count": 17,
   "metadata": {},
   "outputs": [
    {
     "data": {
      "text/plain": [
       "defined \u001b[32mfunction\u001b[39m \u001b[36mgetStockInfo\u001b[39m"
      ]
     },
     "execution_count": 17,
     "metadata": {},
     "output_type": "execute_result"
    }
   ],
   "source": [
    "def getStockInfo = { \n",
    "    // other code here ... \n",
    "    (\"NFLX\", 100.00, 101.00) // this is a Tuple3\n",
    "}"
   ]
  },
  {
   "cell_type": "code",
   "execution_count": 18,
   "metadata": {},
   "outputs": [
    {
     "data": {
      "text/plain": [
       "\u001b[36msymbol\u001b[39m: \u001b[32mString\u001b[39m = \u001b[32m\"NFLX\"\u001b[39m\n",
       "\u001b[36mcurrentPrice\u001b[39m: \u001b[32mDouble\u001b[39m = \u001b[32m100.0\u001b[39m\n",
       "\u001b[36mbidPrice\u001b[39m: \u001b[32mDouble\u001b[39m = \u001b[32m101.0\u001b[39m"
      ]
     },
     "execution_count": 18,
     "metadata": {},
     "output_type": "execute_result"
    }
   ],
   "source": [
    "val (symbol, currentPrice, bidPrice) = getStockInfo"
   ]
  },
  {
   "cell_type": "code",
   "execution_count": 19,
   "metadata": {},
   "outputs": [
    {
     "data": {
      "text/plain": [
       "defined \u001b[32mfunction\u001b[39m \u001b[36mgetStockInfo\u001b[39m\n",
       "\u001b[36mresult\u001b[39m: (\u001b[32mString\u001b[39m, \u001b[32mDouble\u001b[39m) = (\u001b[32m\"NFLX\"\u001b[39m, \u001b[32m100.0\u001b[39m)"
      ]
     },
     "execution_count": 19,
     "metadata": {},
     "output_type": "execute_result"
    }
   ],
   "source": [
    "//Tuples can contain up to 22 variables and are imple‐ mented as Tuple1 through Tuple22 classes\n",
    "def getStockInfo = (\"NFLX\", 100.00)\n",
    "val result=getStockInfo"
   ]
  },
  {
   "cell_type": "code",
   "execution_count": 20,
   "metadata": {},
   "outputs": [
    {
     "data": {
      "text/plain": [
       "\u001b[36mres19_0\u001b[39m: \u001b[32mString\u001b[39m = \u001b[32m\"NFLX\"\u001b[39m\n",
       "\u001b[36mres19_1\u001b[39m: \u001b[32mDouble\u001b[39m = \u001b[32m100.0\u001b[39m"
      ]
     },
     "execution_count": 20,
     "metadata": {},
     "output_type": "execute_result"
    }
   ],
   "source": [
    "result._1\n",
    "result._2"
   ]
  },
  {
   "cell_type": "markdown",
   "metadata": {},
   "source": [
    "#### 5.6. Forcing Callers to Leave Parentheses off Accessor Methods"
   ]
  },
  {
   "cell_type": "code",
   "execution_count": 21,
   "metadata": {},
   "outputs": [
    {
     "data": {
      "text/plain": [
       "defined \u001b[32mclass\u001b[39m \u001b[36mTest\u001b[39m"
      ]
     },
     "execution_count": 21,
     "metadata": {},
     "output_type": "execute_result"
    }
   ],
   "source": [
    "class Test{\n",
    "    // no parentheses after\n",
    "    def t=12\n",
    "}"
   ]
  },
  {
   "cell_type": "code",
   "execution_count": 22,
   "metadata": {},
   "outputs": [
    {
     "data": {
      "text/plain": [
       "\u001b[36mres21\u001b[39m: \u001b[32mInt\u001b[39m = \u001b[32m12\u001b[39m"
      ]
     },
     "execution_count": 22,
     "metadata": {},
     "output_type": "execute_result"
    }
   ],
   "source": [
    "new Test().t"
   ]
  },
  {
   "cell_type": "markdown",
   "metadata": {},
   "source": [
    "#### 5.7. Creating Methods That Take Variable-Argument Fields"
   ]
  },
  {
   "cell_type": "code",
   "execution_count": 23,
   "metadata": {},
   "outputs": [
    {
     "data": {
      "text/plain": [
       "defined \u001b[32mfunction\u001b[39m \u001b[36mprintAll\u001b[39m"
      ]
     },
     "execution_count": 23,
     "metadata": {},
     "output_type": "execute_result"
    }
   ],
   "source": [
    "// you can use Scala’s _* operator to adapt a sequence (Array, List, Seq, Vector, etc.)\n",
    "def printAll(strings: String*) { \n",
    "    strings.foreach(println)\n",
    "}"
   ]
  },
  {
   "cell_type": "code",
   "execution_count": 24,
   "metadata": {},
   "outputs": [
    {
     "name": "stdout",
     "output_type": "stream",
     "text": [
      "foo\n",
      "foo\n",
      "bar\n",
      "foo\n",
      "bar\n",
      "baz\n"
     ]
    }
   ],
   "source": [
    "printAll() \n",
    "printAll(\"foo\") \n",
    "printAll(\"foo\", \"bar\")\n",
    "printAll(\"foo\", \"bar\", \"baz\")"
   ]
  },
  {
   "cell_type": "markdown",
   "metadata": {},
   "source": [
    "#### 5.8. Declaring That a Method Can Throw an Exception\n",
    "1. @throws annotation "
   ]
  },
  {
   "cell_type": "code",
   "execution_count": 24,
   "metadata": {},
   "outputs": [
    {
     "name": "stderr",
     "output_type": "stream",
     "text": [
      "cmd24.sc:1: not found: type IOException\n",
      "@throws(classOf[IOException]) \n",
      "                ^cmd24.sc:2: not found: type LineUnavailableException\n",
      "@throws(classOf[LineUnavailableException]) \n",
      "                ^cmd24.sc:3: not found: type UnsupportedAudioFileException\n",
      "@throws(classOf[UnsupportedAudioFileException]) \n",
      "                ^"
     ]
    },
    {
     "ename": "",
     "evalue": "",
     "output_type": "error",
     "traceback": [
      "Compilation Failed"
     ]
    }
   ],
   "source": [
    "@throws(classOf[IOException]) \n",
    "@throws(classOf[LineUnavailableException]) \n",
    "@throws(classOf[UnsupportedAudioFileException]) \n",
    "def playSoundFileWithJavaAudio {\n",
    "    // exception throwing code here ...\n",
    "}"
   ]
  },
  {
   "cell_type": "markdown",
   "metadata": {},
   "source": [
    "#### 5.9. Supporting a Fluent Style of Programming\n",
    "- If your class can be extended, specify this.type as the return type of fluent style methods.\n",
    "- f you’re sure that your class won’t be extended, you can optionally return this from your fluent style methods"
   ]
  },
  {
   "cell_type": "code",
   "execution_count": 25,
   "metadata": {},
   "outputs": [
    {
     "data": {
      "text/plain": [
       "defined \u001b[32mclass\u001b[39m \u001b[36mPerson\u001b[39m\n",
       "defined \u001b[32mclass\u001b[39m \u001b[36mEmployee\u001b[39m"
      ]
     },
     "execution_count": 25,
     "metadata": {},
     "output_type": "execute_result"
    }
   ],
   "source": [
    "class Person{\n",
    "    protected var fname=\"\"\n",
    "    protected var lname=\"\"\n",
    "    \n",
    "    def setFirstName(firstName:String):this.type={\n",
    "        fname=firstName\n",
    "        this\n",
    "    }\n",
    "      def setLastName(lastName:String):this.type={\n",
    "        lname=lastName\n",
    "        this\n",
    "    }\n",
    "}\n",
    "\n",
    "class Employee extends Person { \n",
    "    protected var role = \"\"\n",
    "    def setRole(role: String): this.type = { \n",
    "        this.role = role \n",
    "        this\n",
    "\n",
    "    }\n",
    "    override def toString = { \n",
    "        \"%s, %s, %s\".format(fname, lname, role)\n",
    "    }\n",
    "}"
   ]
  },
  {
   "cell_type": "code",
   "execution_count": 27,
   "metadata": {},
   "outputs": [
    {
     "data": {
      "text/plain": [
       "\u001b[36mres26\u001b[39m: \u001b[32mEmployee\u001b[39m = Al, Alexander, Developer"
      ]
     },
     "execution_count": 27,
     "metadata": {},
     "output_type": "execute_result"
    }
   ],
   "source": [
    "// use the fluent methods \n",
    "new Employee().setFirstName(\"Al\") \n",
    ".setLastName(\"Alexander\") \n",
    ".setRole(\"Developer\")"
   ]
  },
  {
   "cell_type": "code",
   "execution_count": null,
   "metadata": {},
   "outputs": [],
   "source": []
  }
 ],
 "metadata": {
  "kernelspec": {
   "display_name": "Scala",
   "language": "scala",
   "name": "scala"
  },
  "language_info": {
   "codemirror_mode": "text/x-scala",
   "file_extension": ".scala",
   "mimetype": "text/x-scala",
   "name": "scala212",
   "nbconvert_exporter": "script",
   "pygments_lexer": "scala",
   "version": "2.12.2"
  }
 },
 "nbformat": 4,
 "nbformat_minor": 2
}
