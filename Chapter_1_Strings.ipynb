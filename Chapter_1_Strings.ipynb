{
 "cells": [
  {
   "cell_type": "markdown",
   "metadata": {},
   "source": [
    "## 1.Scala Cookbook-String"
   ]
  },
  {
   "cell_type": "markdown",
   "metadata": {},
   "source": [
    "#### 1.1 Testing String Equality\n",
    "1. Null值可以互相比较，Null不能调用方法\n",
    "2. 比较采用equalsIgnoreCase方法\n",
    "3. 主要说明了什么问题？"
   ]
  },
  {
   "cell_type": "code",
   "execution_count": 2,
   "metadata": {},
   "outputs": [
    {
     "data": {
      "text/plain": [
       "\u001b[36ms1\u001b[39m: \u001b[32mString\u001b[39m = \u001b[32m\"hello\"\u001b[39m"
      ]
     },
     "execution_count": 2,
     "metadata": {},
     "output_type": "execute_result"
    }
   ],
   "source": [
    "val s1=\"hello\""
   ]
  },
  {
   "cell_type": "code",
   "execution_count": 4,
   "metadata": {},
   "outputs": [
    {
     "data": {
      "text/plain": [
       "\u001b[36ms2\u001b[39m: \u001b[32mString\u001b[39m = \u001b[32m\"hello\"\u001b[39m"
      ]
     },
     "execution_count": 4,
     "metadata": {},
     "output_type": "execute_result"
    }
   ],
   "source": [
    "val s2=\"hello\""
   ]
  },
  {
   "cell_type": "code",
   "execution_count": 5,
   "metadata": {},
   "outputs": [
    {
     "data": {
      "text/plain": [
       "\u001b[36ms3\u001b[39m: \u001b[32mString\u001b[39m = \u001b[32m\"hello\"\u001b[39m"
      ]
     },
     "execution_count": 5,
     "metadata": {},
     "output_type": "execute_result"
    }
   ],
   "source": [
    "val s3='h'+\"ello\""
   ]
  },
  {
   "cell_type": "code",
   "execution_count": 6,
   "metadata": {},
   "outputs": [
    {
     "data": {
      "text/plain": [
       "\u001b[36mres5\u001b[39m: \u001b[32mBoolean\u001b[39m = \u001b[32mtrue\u001b[39m"
      ]
     },
     "execution_count": 6,
     "metadata": {},
     "output_type": "execute_result"
    }
   ],
   "source": [
    "s1==s2"
   ]
  },
  {
   "cell_type": "code",
   "execution_count": 7,
   "metadata": {},
   "outputs": [
    {
     "data": {
      "text/plain": [
       "\u001b[36mres6\u001b[39m: \u001b[32mBoolean\u001b[39m = \u001b[32mtrue\u001b[39m"
      ]
     },
     "execution_count": 7,
     "metadata": {},
     "output_type": "execute_result"
    }
   ],
   "source": [
    "s2==s3"
   ]
  },
  {
   "cell_type": "code",
   "execution_count": 11,
   "metadata": {},
   "outputs": [
    {
     "data": {
      "text/plain": [
       "\u001b[36ms4\u001b[39m: \u001b[32mString\u001b[39m = null"
      ]
     },
     "execution_count": 11,
     "metadata": {},
     "output_type": "execute_result"
    }
   ],
   "source": [
    "val s4:String=null"
   ]
  },
  {
   "cell_type": "code",
   "execution_count": 13,
   "metadata": {},
   "outputs": [
    {
     "data": {
      "text/plain": [
       "\u001b[36ms5\u001b[39m: \u001b[32mString\u001b[39m = null"
      ]
     },
     "execution_count": 13,
     "metadata": {},
     "output_type": "execute_result"
    }
   ],
   "source": [
    "val s5:String=null"
   ]
  },
  {
   "cell_type": "code",
   "execution_count": 14,
   "metadata": {},
   "outputs": [
    {
     "data": {
      "text/plain": [
       "\u001b[36mres13\u001b[39m: \u001b[32mBoolean\u001b[39m = \u001b[32mtrue\u001b[39m"
      ]
     },
     "execution_count": 14,
     "metadata": {},
     "output_type": "execute_result"
    }
   ],
   "source": [
    "s4==s5"
   ]
  },
  {
   "cell_type": "markdown",
   "metadata": {},
   "source": [
    "#### 1.2. Creating Multiline String\n",
    "1. 使用\"\"\"实现\n",
    "2. stripMargin去除边框空白\n",
    "3. 默认换行分割符|，可自定义"
   ]
  },
  {
   "cell_type": "code",
   "execution_count": 1,
   "metadata": {},
   "outputs": [
    {
     "data": {
      "text/plain": [
       "\u001b[36mspeech\u001b[39m: \u001b[32mString\u001b[39m = \u001b[32m\"\"\"\n",
       "\n",
       "Four score and\n",
       "seven years ago\n",
       "\n",
       "\"\"\"\u001b[39m"
      ]
     },
     "execution_count": 1,
     "metadata": {},
     "output_type": "execute_result"
    }
   ],
   "source": [
    "val speech=\"\"\"\n",
    "Four score and\n",
    "|seven years ago\n",
    "\"\"\".stripMargin"
   ]
  },
  {
   "cell_type": "code",
   "execution_count": 2,
   "metadata": {},
   "outputs": [
    {
     "data": {
      "text/plain": [
       "\u001b[36mspeech\u001b[39m: \u001b[32mString\u001b[39m = \u001b[32m\"\"\"\n",
       "\n",
       "Four score and\n",
       "seven years ago\n",
       "\n",
       "\"\"\"\u001b[39m"
      ]
     },
     "execution_count": 2,
     "metadata": {},
     "output_type": "execute_result"
    }
   ],
   "source": [
    "val speech=\"\"\"\n",
    "Four score and\n",
    "#seven years ago\n",
    "\"\"\".stripMargin('#')"
   ]
  },
  {
   "cell_type": "code",
   "execution_count": 3,
   "metadata": {},
   "outputs": [
    {
     "data": {
      "text/plain": [
       "\u001b[36ms\u001b[39m: \u001b[32mString\u001b[39m = \u001b[32m\"\"\"\n",
       "This is known as a |\"multiline\" string or 'heredoc' syntax.\n",
       "\"\"\"\u001b[39m"
      ]
     },
     "execution_count": 3,
     "metadata": {},
     "output_type": "execute_result"
    }
   ],
   "source": [
    "val s = \"\"\"This is known as a |\"multiline\" string\n",
    "|or 'heredoc' syntax.\"\"\". stripMargin.replaceAll(\"\\n\", \" \")"
   ]
  },
  {
   "cell_type": "code",
   "execution_count": 5,
   "metadata": {},
   "outputs": [
    {
     "data": {
      "text/plain": [
       "\u001b[36mres4\u001b[39m: \u001b[32mArray\u001b[39m[\u001b[32mString\u001b[39m] = \u001b[33mArray\u001b[39m(\n",
       "  \u001b[32m\"Four\"\u001b[39m,\n",
       "  \u001b[32m\"score\"\u001b[39m,\n",
       "  \u001b[32m\"\"\"\n",
       "and  \n",
       "seven\n",
       "  \"\"\"\u001b[39m,\n",
       "  \u001b[32m\"years\"\u001b[39m,\n",
       "  \u001b[32m\"ago\"\u001b[39m\n",
       ")"
      ]
     },
     "execution_count": 5,
     "metadata": {},
     "output_type": "execute_result"
    }
   ],
   "source": [
    "speech.trim().split(' ')"
   ]
  },
  {
   "cell_type": "markdown",
   "metadata": {},
   "source": [
    "#### 1.3. Splitting Strings\n",
    "1. split 方法分割\n",
    "2. 分割支持正则表达式，同其他语言\n",
    "3. 分割采用字符串或者符号，调用的库不一样，但是这并不影响\n",
    "    - \"=>java.lang.String\n",
    "    - '=>String"
   ]
  },
  {
   "cell_type": "code",
   "execution_count": 6,
   "metadata": {},
   "outputs": [
    {
     "name": "stdout",
     "output_type": "stream",
     "text": [
      "hello\n",
      "world\n"
     ]
    }
   ],
   "source": [
    "\"hello world\".split(' ').foreach(println)"
   ]
  },
  {
   "cell_type": "code",
   "execution_count": 7,
   "metadata": {},
   "outputs": [
    {
     "data": {
      "text/plain": [
       "\u001b[36ms\u001b[39m: \u001b[32mString\u001b[39m = \u001b[32m\"eggs, milk, butter, Coco Puffs\"\u001b[39m\n",
       "\u001b[36mres6_1\u001b[39m: \u001b[32mArray\u001b[39m[\u001b[32mString\u001b[39m] = \u001b[33mArray\u001b[39m(\u001b[32m\"eggs\"\u001b[39m, \u001b[32m\" milk\"\u001b[39m, \u001b[32m\" butter\"\u001b[39m, \u001b[32m\" Coco Puffs\"\u001b[39m)"
      ]
     },
     "execution_count": 7,
     "metadata": {},
     "output_type": "execute_result"
    }
   ],
   "source": [
    "val s = \"eggs, milk, butter, Coco Puffs\"\n",
    " s.split(\",\")"
   ]
  },
  {
   "cell_type": "code",
   "execution_count": 8,
   "metadata": {},
   "outputs": [
    {
     "data": {
      "text/plain": [
       "\u001b[36mres7\u001b[39m: \u001b[32mArray\u001b[39m[\u001b[32mString\u001b[39m] = \u001b[33mArray\u001b[39m(\u001b[32m\"eggs\"\u001b[39m, \u001b[32m\"milk\"\u001b[39m, \u001b[32m\"butter\"\u001b[39m, \u001b[32m\"Coco Puffs\"\u001b[39m)"
      ]
     },
     "execution_count": 8,
     "metadata": {},
     "output_type": "execute_result"
    }
   ],
   "source": [
    "s.split(',').map(_.trim) "
   ]
  },
  {
   "cell_type": "code",
   "execution_count": 9,
   "metadata": {},
   "outputs": [
    {
     "data": {
      "text/plain": [
       "\u001b[36mres8\u001b[39m: \u001b[32mArray\u001b[39m[\u001b[32mString\u001b[39m] = \u001b[33mArray\u001b[39m(\u001b[32m\"hello\"\u001b[39m, \u001b[32m\"world,\"\u001b[39m, \u001b[32m\"this\"\u001b[39m, \u001b[32m\"is\"\u001b[39m, \u001b[32m\"Al\"\u001b[39m)"
      ]
     },
     "execution_count": 9,
     "metadata": {},
     "output_type": "execute_result"
    }
   ],
   "source": [
    " \"hello world, this is Al\".split(\"\\\\s+\")"
   ]
  },
  {
   "cell_type": "markdown",
   "metadata": {},
   "source": [
    "1.4. Substituting Variables into Strings\n",
    "1. s方法格式化字符串\n",
    "2. f方法可以格式化输出，类似printf方法，同C"
   ]
  },
  {
   "cell_type": "code",
   "execution_count": 12,
   "metadata": {},
   "outputs": [
    {
     "name": "stdout",
     "output_type": "stream",
     "text": [
      "I am leal, I am 22 years old\n"
     ]
    },
    {
     "data": {
      "text/plain": [
       "\u001b[36mname\u001b[39m: \u001b[32mString\u001b[39m = \u001b[32m\"leal\"\u001b[39m\n",
       "\u001b[36mage\u001b[39m: \u001b[32mInt\u001b[39m = \u001b[32m22\u001b[39m"
      ]
     },
     "execution_count": 12,
     "metadata": {},
     "output_type": "execute_result"
    }
   ],
   "source": [
    "val name=\"leal\"\n",
    "val age=22\n",
    "println(s\"I am $name, I am $age years old\")"
   ]
  },
  {
   "cell_type": "code",
   "execution_count": 17,
   "metadata": {},
   "outputs": [
    {
     "name": "stdout",
     "output_type": "stream",
     "text": [
      "This apple is 23.35 dollars\n"
     ]
    },
    {
     "data": {
      "text/plain": [
       "\u001b[36mfruit\u001b[39m: \u001b[32mString\u001b[39m = \u001b[32m\"apple\"\u001b[39m\n",
       "\u001b[36mprice\u001b[39m: \u001b[32mDouble\u001b[39m = \u001b[32m23.345\u001b[39m"
      ]
     },
     "execution_count": 17,
     "metadata": {},
     "output_type": "execute_result"
    }
   ],
   "source": [
    "val fruit=\"apple\"\n",
    "val price=23.345\n",
    "println(f\"This $fruit is $price%.2f dollars\")"
   ]
  },
  {
   "cell_type": "code",
   "execution_count": 18,
   "metadata": {},
   "outputs": [
    {
     "name": "stdout",
     "output_type": "stream",
     "text": [
      "This apple is 23.35 dollars"
     ]
    }
   ],
   "source": [
    "printf(\"This %s is %.2f dollars\",fruit,price)"
   ]
  },
  {
   "cell_type": "code",
   "execution_count": 19,
   "metadata": {},
   "outputs": [
    {
     "data": {
      "text/plain": [
       "\u001b[36mres18\u001b[39m: \u001b[32mString\u001b[39m = \u001b[32m\"This apple is 23.35 dollars\"\u001b[39m"
      ]
     },
     "execution_count": 19,
     "metadata": {},
     "output_type": "execute_result"
    }
   ],
   "source": [
    "\"This %s is %.2f dollars\".format(fruit,price)"
   ]
  },
  {
   "cell_type": "markdown",
   "metadata": {},
   "source": [
    "#### 1.5. Processing a String One Character at a Time\n",
    "1. 链式结构，filter\\map等可以直接操作\n",
    "2. yield用于缓存循环中的数据，同python 生成器"
   ]
  },
  {
   "cell_type": "code",
   "execution_count": 21,
   "metadata": {},
   "outputs": [
    {
     "data": {
      "text/plain": [
       "\u001b[36mres20\u001b[39m: \u001b[32mArray\u001b[39m[\u001b[32mString\u001b[39m] = \u001b[33mArray\u001b[39m(\u001b[32m\"HEO\"\u001b[39m, \u001b[32m\"WORD\"\u001b[39m)"
      ]
     },
     "execution_count": 21,
     "metadata": {},
     "output_type": "execute_result"
    }
   ],
   "source": [
    "\"hello world\".filter(_ !='l').map(_.toUpper).split(' ')"
   ]
  },
  {
   "cell_type": "code",
   "execution_count": 22,
   "metadata": {},
   "outputs": [
    {
     "data": {
      "text/plain": [
       "defined \u001b[32mfunction\u001b[39m \u001b[36mtoLower\u001b[39m"
      ]
     },
     "execution_count": 22,
     "metadata": {},
     "output_type": "execute_result"
    }
   ],
   "source": [
    "def toLower(c:Char):Char=(c.toByte+32).toChar"
   ]
  },
  {
   "cell_type": "code",
   "execution_count": 24,
   "metadata": {},
   "outputs": [
    {
     "data": {
      "text/plain": [
       "\u001b[36mres23_0\u001b[39m: \u001b[32mString\u001b[39m = \u001b[32m\"hello\"\u001b[39m\n",
       "\u001b[36mres23_1\u001b[39m: \u001b[32mString\u001b[39m = \u001b[32m\"world\"\u001b[39m"
      ]
     },
     "execution_count": 24,
     "metadata": {},
     "output_type": "execute_result"
    }
   ],
   "source": [
    "\"HELLO\".map(toLower)\n",
    "for(c<-\"WORLD\") yield toLower(c)"
   ]
  },
  {
   "cell_type": "markdown",
   "metadata": {},
   "source": [
    "#### 1.6. Finding Patterns in String\n",
    "1. 使用正则匹配字符串，findFirstIn 和findAllIn\n",
    "    - .r 方法\n",
    "    - new scala.util.matching.Regx()\n",
    "2. 不需要判断是否匹配为空，如果必要，通过getOrElse"
   ]
  },
  {
   "cell_type": "code",
   "execution_count": 26,
   "metadata": {},
   "outputs": [
    {
     "data": {
      "text/plain": [
       "\u001b[36mnumPattern\u001b[39m: \u001b[32mutil\u001b[39m.\u001b[32mmatching\u001b[39m.\u001b[32mRegex\u001b[39m = [0-9]+\n",
       "\u001b[36maddress\u001b[39m: \u001b[32mString\u001b[39m = \u001b[32m\"123 Main Street Suite 101\"\u001b[39m\n",
       "\u001b[36mres25_2\u001b[39m: \u001b[32mOption\u001b[39m[\u001b[32mString\u001b[39m] = \u001b[33mSome\u001b[39m(\u001b[32m\"123\"\u001b[39m)"
      ]
     },
     "execution_count": 26,
     "metadata": {},
     "output_type": "execute_result"
    }
   ],
   "source": [
    "val numPattern=\"[0-9]+\".r\n",
    "val address=\"123 Main Street Suite 101\"\n",
    "numPattern.findFirstIn(address)"
   ]
  },
  {
   "cell_type": "code",
   "execution_count": 28,
   "metadata": {},
   "outputs": [
    {
     "name": "stdout",
     "output_type": "stream",
     "text": [
      "123\n",
      "101\n"
     ]
    },
    {
     "data": {
      "text/plain": [
       "\u001b[36mres27_0\u001b[39m: \u001b[32mArray\u001b[39m[\u001b[32mString\u001b[39m] = \u001b[33mArray\u001b[39m(\u001b[32m\"123\"\u001b[39m, \u001b[32m\"101\"\u001b[39m)"
      ]
     },
     "execution_count": 28,
     "metadata": {},
     "output_type": "execute_result"
    }
   ],
   "source": [
    "numPattern.findAllIn(address).toArray //toList, toSeq, and toVector are also available\n",
    "numPattern.findAllIn(address).foreach(println)"
   ]
  },
  {
   "cell_type": "code",
   "execution_count": 31,
   "metadata": {},
   "outputs": [
    {
     "data": {
      "text/plain": [
       "\u001b[36mnumPattern2\u001b[39m: \u001b[32mutil\u001b[39m.\u001b[32mmatching\u001b[39m.\u001b[32mRegex\u001b[39m = [0-9]+\n",
       "\u001b[36mres30_1\u001b[39m: \u001b[32mArray\u001b[39m[\u001b[32mString\u001b[39m] = \u001b[33mArray\u001b[39m(\u001b[32m\"123\"\u001b[39m, \u001b[32m\"101\"\u001b[39m)"
      ]
     },
     "execution_count": 31,
     "metadata": {},
     "output_type": "execute_result"
    }
   ],
   "source": [
    "val numPattern2=new scala.util.matching.Regex(\"[0-9]+\")\n",
    "numPattern2.findAllIn(address).toArray"
   ]
  },
  {
   "cell_type": "code",
   "execution_count": 34,
   "metadata": {},
   "outputs": [
    {
     "data": {
      "text/plain": [
       "\u001b[36mstr\u001b[39m: \u001b[32mString\u001b[39m = \u001b[32m\"hello world\"\u001b[39m\n",
       "\u001b[36mres33_1\u001b[39m: \u001b[32mString\u001b[39m = \u001b[32m\"no match\"\u001b[39m\n",
       "\u001b[36mres33_2\u001b[39m: \u001b[32mString\u001b[39m = \u001b[32m\"no match\"\u001b[39m"
      ]
     },
     "execution_count": 34,
     "metadata": {},
     "output_type": "execute_result"
    }
   ],
   "source": [
    "val str=\"hello world\"\n",
    "numPattern.findFirstIn(str).getOrElse(\"no match\")\n",
    "numPattern2.findFirstIn(str).getOrElse(\"no match\")"
   ]
  },
  {
   "cell_type": "code",
   "execution_count": 34,
   "metadata": {},
   "outputs": [
    {
     "name": "stderr",
     "output_type": "stream",
     "text": [
      "cmd34.sc:2: constructor cannot be instantiated to expected type;\n",
      " found   : Some[A]\n",
      " required: String\n",
      "    case Some(s)=>println(s\"Find:$s\")\n",
      "         ^"
     ]
    },
    {
     "ename": "",
     "evalue": "",
     "output_type": "error",
     "traceback": [
      "Compilation Failed"
     ]
    }
   ],
   "source": [
    "//Test find 语法有问题？\n",
    "numPattern.findFirstIn(address).foreach{\n",
    "    case Some(s)=>println(s\"Find:$s\")\n",
    "    case \"None\"=>println(\"no match\")\n",
    "}\n",
    "//Test None\n",
    "// numPattern.findFirstIn(str).foreach{\n",
    "//     case Some(s)=>println(s\"Find:$s\")\n",
    "//     case None=>println(\"no match\")\n",
    "// }"
   ]
  },
  {
   "cell_type": "markdown",
   "metadata": {},
   "source": [
    "#### 1.7. Replacing Patterns in Strings\n",
    "1. 直接调用正则，使用replaceFirst、replaceAll \n",
    "2. .r创建正则，使用replaceFirstIn、replaceAllIn \n",
    "引申：\n",
    "   - Some 接受一个自定义替换方法"
   ]
  },
  {
   "cell_type": "code",
   "execution_count": 36,
   "metadata": {},
   "outputs": [
    {
     "data": {
      "text/plain": [
       "\u001b[36mres35_0\u001b[39m: \u001b[32mString\u001b[39m = \u001b[32m\"xxx Main Street\"\u001b[39m\n",
       "\u001b[36mres35_1\u001b[39m: \u001b[32mString\u001b[39m = \u001b[32m\"x23 Main Street\"\u001b[39m"
      ]
     },
     "execution_count": 36,
     "metadata": {},
     "output_type": "execute_result"
    }
   ],
   "source": [
    "\"123 Main Street\".replaceAll(\"[0-9]\",\"x\")\n",
    "\"123 Main Street\".replaceFirst(\"[0-9]\",\"x\")"
   ]
  },
  {
   "cell_type": "code",
   "execution_count": 38,
   "metadata": {},
   "outputs": [
    {
     "data": {
      "text/plain": [
       "\u001b[36mreplace_regx\u001b[39m: \u001b[32mutil\u001b[39m.\u001b[32mmatching\u001b[39m.\u001b[32mRegex\u001b[39m = [0-9]\n",
       "\u001b[36mres37_1\u001b[39m: \u001b[32mString\u001b[39m = \u001b[32m\"X23 I LOVE YOU 456, 789 I AM SORRY\"\u001b[39m\n",
       "\u001b[36mres37_2\u001b[39m: \u001b[32mString\u001b[39m = \u001b[32m\"XXX I LOVE YOU XXX, XXX I AM SORRY\"\u001b[39m"
      ]
     },
     "execution_count": 38,
     "metadata": {},
     "output_type": "execute_result"
    }
   ],
   "source": [
    "val replace_regx=\"[0-9]\".r\n",
    "replace_regx.replaceFirstIn(\"123 I LOVE YOU 456, 789 I AM SORRY\",\"X\")\n",
    "replace_regx.replaceAllIn(\"123 I LOVE YOU 456, 789 I AM SORRY\",\"X\")"
   ]
  },
  {
   "cell_type": "code",
   "execution_count": 39,
   "metadata": {},
   "outputs": [
    {
     "data": {
      "text/plain": [
       "\u001b[36mquote\u001b[39m: \u001b[32mString\u001b[39m = \u001b[32m\"I don't like to commit myself about heaven and hell - you see, I have friends in both places. Mark Twain\"\u001b[39m\n",
       "\u001b[36mres38_1\u001b[39m: \u001b[32mString\u001b[39m = \u001b[32m\"I don't lik- to commit mys-lf about h-av-n and h-ll - you see, I have friends in both places. Mark Twain\"\u001b[39m"
      ]
     },
     "execution_count": 39,
     "metadata": {},
     "output_type": "execute_result"
    }
   ],
   "source": [
    "// 自定义一个方法，当字符数目大于50不做处理\n",
    "val quote = \"\"\"I don't like to commit myself about heaven and hell - you see, I have friends in both places. Mark Twain\"\"\"\n",
    "\"e\".r.replaceSomeIn(quote, m => if(m.start > 50) None else Some(\"-\"))"
   ]
  },
  {
   "cell_type": "markdown",
   "metadata": {},
   "source": [
    "#### 1.8. Extracting Parts of a String That Match Pattern\n",
    "1. 类似python实现正则group的方法，但是scala使用元祖更方便"
   ]
  },
  {
   "cell_type": "code",
   "execution_count": 42,
   "metadata": {},
   "outputs": [
    {
     "data": {
      "text/plain": [
       "\u001b[36mpattern\u001b[39m: \u001b[32mutil\u001b[39m.\u001b[32mmatching\u001b[39m.\u001b[32mRegex\u001b[39m = ([0-9]+) ([(A-Za-z]+)\n",
       "\u001b[36mcount\u001b[39m: \u001b[32mString\u001b[39m = \u001b[32m\"32423\"\u001b[39m\n",
       "\u001b[36mfruit\u001b[39m: \u001b[32mString\u001b[39m = \u001b[32m\"Bananas\"\u001b[39m"
      ]
     },
     "execution_count": 42,
     "metadata": {},
     "output_type": "execute_result"
    }
   ],
   "source": [
    "val pattern=\"([0-9]+) ([(A-Za-z]+)\".r\n",
    "val pattern(count,fruit)=\"32423 Bananas\""
   ]
  },
  {
   "cell_type": "markdown",
   "metadata": {},
   "source": [
    "#### 1.9. Accessing a Character in a String\n",
    "1. 使用map、foreach方法\n",
    "2. 当作字符串charAt方法遍历，也可直接读取"
   ]
  },
  {
   "cell_type": "code",
   "execution_count": 43,
   "metadata": {},
   "outputs": [
    {
     "data": {
      "text/plain": [
       "\u001b[36mres42\u001b[39m: \u001b[32mChar\u001b[39m = \u001b[32m'e'\u001b[39m"
      ]
     },
     "execution_count": 43,
     "metadata": {},
     "output_type": "execute_result"
    }
   ],
   "source": [
    "\"hello\".charAt(1)"
   ]
  },
  {
   "cell_type": "code",
   "execution_count": 44,
   "metadata": {},
   "outputs": [
    {
     "data": {
      "text/plain": [
       "\u001b[36mres43\u001b[39m: \u001b[32mChar\u001b[39m = \u001b[32m'h'\u001b[39m"
      ]
     },
     "execution_count": 44,
     "metadata": {},
     "output_type": "execute_result"
    }
   ],
   "source": [
    "\"hello\"(0)"
   ]
  },
  {
   "cell_type": "code",
   "execution_count": 46,
   "metadata": {},
   "outputs": [
    {
     "data": {
      "text/plain": [
       "\u001b[36mres45\u001b[39m: \u001b[32mChar\u001b[39m = \u001b[32m'e'\u001b[39m"
      ]
     },
     "execution_count": 46,
     "metadata": {},
     "output_type": "execute_result"
    }
   ],
   "source": [
    "\"hello\".apply(1)"
   ]
  },
  {
   "cell_type": "markdown",
   "metadata": {},
   "source": [
    "#### 1.10. Add Your Own Methods to the String Class\n",
    "1. 自定义隐式类操作字符串"
   ]
  },
  {
   "cell_type": "code",
   "execution_count": 47,
   "metadata": {},
   "outputs": [
    {
     "data": {
      "text/plain": [
       "defined \u001b[32mclass\u001b[39m \u001b[36mStringImprovements\u001b[39m"
      ]
     },
     "execution_count": 47,
     "metadata": {},
     "output_type": "execute_result"
    }
   ],
   "source": [
    "implicit class StringImprovements(val s: String) {\n",
    "    def increment: String = s.map(c => (c+1).toChar)\n",
    "    //不能识别？\n",
    "    //def decrement: String = s.map(c => (c−1).toChar)\n",
    "    def hideAll: String\n",
    "    = {\n",
    "      s.replaceAll(\".\", \"*\")\n",
    "    }\n",
    "    def plusOne: Int = s.toInt + 1\n",
    "    def asBoolean: Boolean = s match {\n",
    "      case \"0\" | \"zero\" | \"\" | \" \" => false\n",
    "      case _ => true\n",
    "    }\n",
    "  }"
   ]
  },
  {
   "cell_type": "code",
   "execution_count": 48,
   "metadata": {},
   "outputs": [
    {
     "data": {
      "text/plain": [
       "\u001b[36mtest_str\u001b[39m: \u001b[32mString\u001b[39m = \u001b[32m\"hello\"\u001b[39m"
      ]
     },
     "execution_count": 48,
     "metadata": {},
     "output_type": "execute_result"
    }
   ],
   "source": [
    "var test_str=\"hello\""
   ]
  },
  {
   "cell_type": "code",
   "execution_count": 49,
   "metadata": {},
   "outputs": [
    {
     "data": {
      "text/plain": [
       "\u001b[36mres48\u001b[39m: \u001b[32mString\u001b[39m = \u001b[32m\"ifmmp\"\u001b[39m"
      ]
     },
     "execution_count": 49,
     "metadata": {},
     "output_type": "execute_result"
    }
   ],
   "source": [
    "test_str.increment"
   ]
  },
  {
   "cell_type": "code",
   "execution_count": 50,
   "metadata": {},
   "outputs": [
    {
     "data": {
      "text/plain": [
       "\u001b[36mres49\u001b[39m: \u001b[32mString\u001b[39m = \u001b[32m\"*****\"\u001b[39m"
      ]
     },
     "execution_count": 50,
     "metadata": {},
     "output_type": "execute_result"
    }
   ],
   "source": [
    "test_str.hideAll"
   ]
  },
  {
   "cell_type": "code",
   "execution_count": 51,
   "metadata": {},
   "outputs": [
    {
     "data": {
      "text/plain": [
       "\u001b[36mres50\u001b[39m: \u001b[32mInt\u001b[39m = \u001b[32m2\u001b[39m"
      ]
     },
     "execution_count": 51,
     "metadata": {},
     "output_type": "execute_result"
    }
   ],
   "source": [
    "\"1\".plusOne"
   ]
  },
  {
   "cell_type": "code",
   "execution_count": 52,
   "metadata": {},
   "outputs": [
    {
     "data": {
      "text/plain": [
       "\u001b[36mres51\u001b[39m: \u001b[32mBoolean\u001b[39m = \u001b[32mfalse\u001b[39m"
      ]
     },
     "execution_count": 52,
     "metadata": {},
     "output_type": "execute_result"
    }
   ],
   "source": [
    "\"0\".asBoolean"
   ]
  },
  {
   "cell_type": "markdown",
   "metadata": {},
   "source": [
    "### Summary\n",
    "1. 主要介绍了关于String常用的方法属性\n",
    "2. 需要根据API加深了解其他方法"
   ]
  },
  {
   "cell_type": "code",
   "execution_count": null,
   "metadata": {},
   "outputs": [],
   "source": []
  }
 ],
 "metadata": {
  "kernelspec": {
   "display_name": "Scala",
   "language": "scala",
   "name": "scala"
  },
  "language_info": {
   "codemirror_mode": "text/x-scala",
   "file_extension": ".scala",
   "mimetype": "text/x-scala",
   "name": "scala211",
   "nbconvert_exporter": "script",
   "pygments_lexer": "scala",
   "version": "2.11.11"
  }
 },
 "nbformat": 4,
 "nbformat_minor": 2
}
