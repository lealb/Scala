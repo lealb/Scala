{
 "cells": [
  {
   "cell_type": "markdown",
   "metadata": {},
   "source": [
    "### 9.1. Using Function Literals (Anonymous Functions)"
   ]
  },
  {
   "cell_type": "code",
   "execution_count": 2,
   "metadata": {},
   "outputs": [
    {
     "data": {
      "text/plain": [
       "\u001b[36mx\u001b[0m: \u001b[32mList\u001b[0m[\u001b[32mInt\u001b[0m] = \u001b[33mList\u001b[0m(\n",
       "  \u001b[32m1\u001b[0m,\n",
       "  \u001b[32m2\u001b[0m,\n",
       "  \u001b[32m3\u001b[0m,\n",
       "  \u001b[32m4\u001b[0m,\n",
       "  \u001b[32m5\u001b[0m,\n",
       "  \u001b[32m6\u001b[0m,\n",
       "  \u001b[32m7\u001b[0m,\n",
       "  \u001b[32m8\u001b[0m,\n",
       "  \u001b[32m9\u001b[0m\n",
       ")"
      ]
     },
     "metadata": {},
     "output_type": "display_data"
    }
   ],
   "source": [
    "val x=List.range(1,10)"
   ]
  },
  {
   "cell_type": "code",
   "execution_count": 4,
   "metadata": {},
   "outputs": [
    {
     "data": {
      "text/plain": [
       "\u001b[36mevens\u001b[0m: \u001b[32mList\u001b[0m[\u001b[32mInt\u001b[0m] = \u001b[33mList\u001b[0m(\u001b[32m2\u001b[0m, \u001b[32m4\u001b[0m, \u001b[32m6\u001b[0m, \u001b[32m8\u001b[0m)"
      ]
     },
     "metadata": {},
     "output_type": "display_data"
    }
   ],
   "source": [
    "val evens=x.filter((i:Int)=>i%2==0)"
   ]
  },
  {
   "cell_type": "code",
   "execution_count": 5,
   "metadata": {},
   "outputs": [
    {
     "data": {
      "text/plain": [
       "\u001b[36mres4\u001b[0m: \u001b[32mList\u001b[0m[\u001b[32mInt\u001b[0m] = \u001b[33mList\u001b[0m(\u001b[32m1\u001b[0m, \u001b[32m3\u001b[0m, \u001b[32m5\u001b[0m, \u001b[32m7\u001b[0m, \u001b[32m9\u001b[0m)"
      ]
     },
     "metadata": {},
     "output_type": "display_data"
    }
   ],
   "source": [
    "x.filter(_%2==1)"
   ]
  },
  {
   "cell_type": "code",
   "execution_count": 6,
   "metadata": {},
   "outputs": [
    {
     "name": "stdout",
     "output_type": "stream",
     "text": [
      "3\n",
      "6\n",
      "9\n"
     ]
    },
    {
     "data": {
      "text/plain": []
     },
     "metadata": {},
     "output_type": "display_data"
    }
   ],
   "source": [
    "x.filter(_%3==0).foreach(println)"
   ]
  },
  {
   "cell_type": "markdown",
   "metadata": {},
   "source": [
    "### 9.2. Using Functions as Variables\n",
    "\n",
    "- Think of the => symbol as a transformer. It transforms the input data on its left side to some new output data, using the algorithm on its right side.\n",
    "- Use def to define a method, val, to create a function.\n",
    "- When assigning a function to a variable, a function literal is the code on the right side of the expression.\n",
    "- A function value is an object, and extends the FunctionN traits in the main scala\n",
    "package, such as Function0 for a function that takes no parameters."
   ]
  },
  {
   "cell_type": "code",
   "execution_count": 7,
   "metadata": {},
   "outputs": [
    {
     "data": {
      "text/plain": [
       "\u001b[36mdouble\u001b[0m: \u001b[32mInt\u001b[0m => \u001b[32mInt\u001b[0m = <function1>"
      ]
     },
     "metadata": {},
     "output_type": "display_data"
    }
   ],
   "source": [
    "val double=(i:Int)=>{i * 2}"
   ]
  },
  {
   "cell_type": "code",
   "execution_count": 8,
   "metadata": {},
   "outputs": [
    {
     "data": {
      "text/plain": [
       "\u001b[36mres7\u001b[0m: \u001b[32mInt\u001b[0m = \u001b[32m6\u001b[0m"
      ]
     },
     "metadata": {},
     "output_type": "display_data"
    }
   ],
   "source": [
    "double(3)"
   ]
  },
  {
   "cell_type": "code",
   "execution_count": 18,
   "metadata": {},
   "outputs": [
    {
     "data": {
      "text/plain": [
       "\u001b[36mres16\u001b[0m: \u001b[32mList\u001b[0m[\u001b[32mInt\u001b[0m] = \u001b[33mList\u001b[0m(\u001b[32m6\u001b[0m, \u001b[32m12\u001b[0m, \u001b[32m18\u001b[0m)"
      ]
     },
     "metadata": {},
     "output_type": "display_data"
    }
   ],
   "source": [
    "x.filter(_%3==0).map(double)"
   ]
  },
  {
   "cell_type": "code",
   "execution_count": 19,
   "metadata": {},
   "outputs": [
    {
     "data": {
      "text/plain": [
       "\u001b[36mres17\u001b[0m: \u001b[32mList\u001b[0m[\u001b[32mInt\u001b[0m] = \u001b[33mList\u001b[0m(\u001b[32m6\u001b[0m, \u001b[32m12\u001b[0m, \u001b[32m18\u001b[0m)"
      ]
     },
     "metadata": {},
     "output_type": "display_data"
    }
   ],
   "source": [
    "x.filter(_%3==0).map(_*2)"
   ]
  },
  {
   "cell_type": "code",
   "execution_count": 20,
   "metadata": {},
   "outputs": [
    {
     "data": {
      "text/plain": [
       "\u001b[36mc\u001b[0m: \u001b[32mDouble\u001b[0m => \u001b[32mDouble\u001b[0m = <function1>"
      ]
     },
     "metadata": {},
     "output_type": "display_data"
    }
   ],
   "source": [
    " val c = scala.math.cos _"
   ]
  },
  {
   "cell_type": "code",
   "execution_count": 21,
   "metadata": {},
   "outputs": [
    {
     "data": {
      "text/plain": [
       "\u001b[36mc1\u001b[0m: \u001b[32mDouble\u001b[0m => \u001b[32mDouble\u001b[0m = <function1>"
      ]
     },
     "metadata": {},
     "output_type": "display_data"
    }
   ],
   "source": [
    "val c1=scala.math.cos(_)"
   ]
  },
  {
   "cell_type": "code",
   "execution_count": 22,
   "metadata": {},
   "outputs": [
    {
     "data": {
      "text/plain": [
       "\u001b[36mres20\u001b[0m: \u001b[32mDouble\u001b[0m = \u001b[32m0.5403023058681398\u001b[0m"
      ]
     },
     "metadata": {},
     "output_type": "display_data"
    }
   ],
   "source": [
    "c(1.0)"
   ]
  },
  {
   "cell_type": "code",
   "execution_count": 23,
   "metadata": {},
   "outputs": [
    {
     "data": {
      "text/plain": [
       "\u001b[36mres21\u001b[0m: \u001b[32mDouble\u001b[0m = \u001b[32m0.5403023058681398\u001b[0m"
      ]
     },
     "metadata": {},
     "output_type": "display_data"
    }
   ],
   "source": [
    "c1(1.0)"
   ]
  },
  {
   "cell_type": "code",
   "execution_count": 24,
   "metadata": {},
   "outputs": [
    {
     "data": {
      "text/plain": [
       "\u001b[36mp\u001b[0m: (\u001b[32mDouble\u001b[0m, \u001b[32mDouble\u001b[0m) => \u001b[32mDouble\u001b[0m = <function2>\n",
       "\u001b[36mres22_1\u001b[0m: \u001b[32mDouble\u001b[0m = \u001b[32m7.3890560989306495\u001b[0m"
      ]
     },
     "metadata": {},
     "output_type": "display_data"
    }
   ],
   "source": [
    " val p = scala.math.pow(_, _)\n",
    " p(scala.math.E, 2)"
   ]
  },
  {
   "cell_type": "markdown",
   "metadata": {},
   "source": [
    "### 9.3. Defining a Method That Accepts a Simple Function Parameter"
   ]
  },
  {
   "cell_type": "code",
   "execution_count": 25,
   "metadata": {},
   "outputs": [
    {
     "data": {
      "text/plain": [
       "defined \u001b[32mfunction \u001b[36mexecuteFunction\u001b[0m\n",
       "\u001b[36msayHello\u001b[0m: () => \u001b[32mUnit\u001b[0m = <function0>"
      ]
     },
     "metadata": {},
     "output_type": "display_data"
    }
   ],
   "source": [
    " def executeFunction(callback:() => Unit) { callback() }\n",
    " val sayHello = () => { println(\"Hello\") }"
   ]
  },
  {
   "cell_type": "code",
   "execution_count": 26,
   "metadata": {},
   "outputs": [
    {
     "name": "stdout",
     "output_type": "stream",
     "text": [
      "Hello\r\n"
     ]
    },
    {
     "data": {
      "text/plain": []
     },
     "metadata": {},
     "output_type": "display_data"
    }
   ],
   "source": [
    "executeFunction(sayHello)"
   ]
  },
  {
   "cell_type": "markdown",
   "metadata": {},
   "source": [
    "### 9.4. More Complex Functions"
   ]
  },
  {
   "cell_type": "code",
   "execution_count": 30,
   "metadata": {},
   "outputs": [
    {
     "data": {
      "text/plain": [
       "defined \u001b[32mfunction \u001b[36mexec\u001b[0m\n",
       "\u001b[36mplusOne\u001b[0m: \u001b[32mInt\u001b[0m => \u001b[32mUnit\u001b[0m = <function1>"
      ]
     },
     "metadata": {},
     "output_type": "display_data"
    }
   ],
   "source": [
    "def exec(callback:Int=>Unit){\n",
    "    callback(1)\n",
    "}\n",
    "val plusOne=(i:Int)=>{println(i+1)}"
   ]
  },
  {
   "cell_type": "code",
   "execution_count": 31,
   "metadata": {},
   "outputs": [
    {
     "name": "stdout",
     "output_type": "stream",
     "text": [
      "2\n"
     ]
    },
    {
     "data": {
      "text/plain": []
     },
     "metadata": {},
     "output_type": "display_data"
    }
   ],
   "source": [
    "exec(plusOne)"
   ]
  },
  {
   "cell_type": "code",
   "execution_count": 32,
   "metadata": {},
   "outputs": [
    {
     "name": "stdout",
     "output_type": "stream",
     "text": [
      "11\n"
     ]
    },
    {
     "data": {
      "text/plain": [
       "\u001b[36mplusTen\u001b[0m: \u001b[32mInt\u001b[0m => \u001b[32mUnit\u001b[0m = <function1>"
      ]
     },
     "metadata": {},
     "output_type": "display_data"
    }
   ],
   "source": [
    "val plusTen=(i:Int)=>{println(i+10)}\n",
    "exec(plusTen)"
   ]
  },
  {
   "cell_type": "code",
   "execution_count": 33,
   "metadata": {},
   "outputs": [
    {
     "data": {
      "text/plain": [
       "defined \u001b[32mfunction \u001b[36mexecuteAndPrint\u001b[0m"
      ]
     },
     "metadata": {},
     "output_type": "display_data"
    }
   ],
   "source": [
    "def  executeAndPrint(f:(Int,Int)=>Int,x:Int,y:Int){\n",
    "    println(f(x,y))\n",
    "}"
   ]
  },
  {
   "cell_type": "code",
   "execution_count": 35,
   "metadata": {},
   "outputs": [
    {
     "data": {
      "text/plain": [
       "\u001b[36msum\u001b[0m: (\u001b[32mInt\u001b[0m, \u001b[32mInt\u001b[0m) => \u001b[32mInt\u001b[0m = <function2>\n",
       "\u001b[36mmultiply\u001b[0m: (\u001b[32mInt\u001b[0m, \u001b[32mInt\u001b[0m) => \u001b[32mInt\u001b[0m = <function2>\n",
       "\u001b[36msub\u001b[0m: (\u001b[32mInt\u001b[0m, \u001b[32mInt\u001b[0m) => \u001b[32mInt\u001b[0m = <function2>"
      ]
     },
     "metadata": {},
     "output_type": "display_data"
    }
   ],
   "source": [
    "val sum = (x: Int, y: Int) => x + y\n",
    "val multiply = (x: Int, y: Int) => x * y\n",
    "val sub=(x: Int, y: Int)=>x-y"
   ]
  },
  {
   "cell_type": "code",
   "execution_count": 36,
   "metadata": {},
   "outputs": [
    {
     "name": "stdout",
     "output_type": "stream",
     "text": [
      "4\n",
      "8\n",
      "-2\n"
     ]
    },
    {
     "data": {
      "text/plain": []
     },
     "metadata": {},
     "output_type": "display_data"
    }
   ],
   "source": [
    "executeAndPrint(sum,1,3)\n",
    "executeAndPrint(multiply ,2,4)\n",
    "executeAndPrint(sub ,2,4)"
   ]
  },
  {
   "cell_type": "code",
   "execution_count": 38,
   "metadata": {},
   "outputs": [
    {
     "name": "stdout",
     "output_type": "stream",
     "text": [
      "Hello\n",
      "Person(Dave)\n"
     ]
    },
    {
     "data": {
      "text/plain": [
       "defined \u001b[32mfunction \u001b[36mexec\u001b[0m\n",
       "\u001b[36mprintTwoThings\u001b[0m: (\u001b[32mAny\u001b[0m, \u001b[32mAny\u001b[0m) => \u001b[32mUnit\u001b[0m = <function2>\n",
       "defined \u001b[32mclass \u001b[36mPerson\u001b[0m"
      ]
     },
     "metadata": {},
     "output_type": "display_data"
    }
   ],
   "source": [
    "// 1 - define the method \n",
    "def exec(callback: (Any, Any) => Unit, x: Any, y: Any) { callback(x, y)\n",
    "}\n",
    "// 2 - define a function to pass in \n",
    "val printTwoThings =(a: Any, b: Any) => { \n",
    "    println(a) \n",
    "    println(b)\n",
    "}\n",
    "// 3 - pass the function and some parameters to the method \n",
    "case class Person(name: String)\n",
    "exec(printTwoThings, \"Hello\", Person(\"Dave\"))"
   ]
  },
  {
   "cell_type": "markdown",
   "metadata": {},
   "source": [
    "### 9.5. Using Closures"
   ]
  },
  {
   "cell_type": "code",
   "execution_count": 38,
   "metadata": {},
   "outputs": [
    {
     "ename": "",
     "evalue": "",
     "output_type": "error",
     "traceback": [
      "SyntaxError: found \"package otherscope {\", expected End in",
      "package otherscope {",
      "^"
     ]
    }
   ],
   "source": [
    "package otherscope {\n",
    "    class Foo {\n",
    "    // a method that takes a function and a string, and passes the string into \n",
    "    // the function, and then executes the function \n",
    "    def exec(f:(String) => Unit, name: String) { \n",
    "        f(name)\n",
    "        }\n",
    "    }\n",
    "}"
   ]
  },
  {
   "cell_type": "code",
   "execution_count": 39,
   "metadata": {},
   "outputs": [
    {
     "data": {
      "text/plain": [
       "\u001b[36mvotingAge\u001b[0m: \u001b[32mInt\u001b[0m = \u001b[32m18\u001b[0m\n",
       "\u001b[36misOfVotingAge\u001b[0m: \u001b[32mInt\u001b[0m => \u001b[32mBoolean\u001b[0m = <function1>"
      ]
     },
     "metadata": {},
     "output_type": "display_data"
    }
   ],
   "source": [
    "var votingAge = 18 \n",
    "val isOfVotingAge = (age: Int) => age >= votingAge"
   ]
  },
  {
   "cell_type": "code",
   "execution_count": 40,
   "metadata": {},
   "outputs": [
    {
     "data": {
      "text/plain": [
       "\u001b[36mres34\u001b[0m: \u001b[32mBoolean\u001b[0m = false"
      ]
     },
     "metadata": {},
     "output_type": "display_data"
    }
   ],
   "source": [
    "isOfVotingAge (12)"
   ]
  },
  {
   "cell_type": "code",
   "execution_count": 41,
   "metadata": {},
   "outputs": [
    {
     "data": {
      "text/plain": [
       "\u001b[36mres35_1\u001b[0m: \u001b[32mBoolean\u001b[0m = true"
      ]
     },
     "metadata": {},
     "output_type": "display_data"
    }
   ],
   "source": [
    "votingAge =11\n",
    "isOfVotingAge (12)"
   ]
  },
  {
   "cell_type": "code",
   "execution_count": 43,
   "metadata": {},
   "outputs": [
    {
     "data": {
      "text/plain": [
       "\u001b[32mimport \u001b[36mscala.collection.mutable.ArrayBuffer\u001b[0m\n",
       "\u001b[36mfruits\u001b[0m: \u001b[32mcollection\u001b[0m.\u001b[32mmutable\u001b[0m.\u001b[32mArrayBuffer\u001b[0m[\u001b[32mString\u001b[0m] = \u001b[33mArrayBuffer\u001b[0m(\u001b[32m\"apple\"\u001b[0m)\n",
       "\u001b[36maddToBasket\u001b[0m: \u001b[32mString\u001b[0m => \u001b[32mUnit\u001b[0m = <function1>"
      ]
     },
     "metadata": {},
     "output_type": "display_data"
    }
   ],
   "source": [
    "import scala.collection.mutable.ArrayBuffer \n",
    "val fruits = ArrayBuffer(\"apple\")\n",
    "// the function addToBasket has a reference to fruits \n",
    "val addToBasket = (s: String) => { \n",
    "    fruits += s \n",
    "    println(fruits.mkString(\", \"))\n",
    "}"
   ]
  },
  {
   "cell_type": "code",
   "execution_count": 44,
   "metadata": {},
   "outputs": [
    {
     "data": {
      "text/plain": [
       "defined \u001b[32mfunction \u001b[36mbuyStuff\u001b[0m"
      ]
     },
     "metadata": {},
     "output_type": "display_data"
    }
   ],
   "source": [
    "def buyStuff(f: String => Unit, s: String) {\n",
    "    f(s)\n",
    "}"
   ]
  },
  {
   "cell_type": "code",
   "execution_count": 45,
   "metadata": {},
   "outputs": [
    {
     "name": "stdout",
     "output_type": "stream",
     "text": [
      "apple, cherries\n",
      "apple, cherries, grapes\n"
     ]
    },
    {
     "data": {
      "text/plain": []
     },
     "metadata": {},
     "output_type": "display_data"
    }
   ],
   "source": [
    "buyStuff(addToBasket, \"cherries\")\n",
    "buyStuff(addToBasket, \"grapes\")"
   ]
  },
  {
   "cell_type": "markdown",
   "metadata": {},
   "source": [
    "### 9.6. Using Partially Applied Functions"
   ]
  },
  {
   "cell_type": "code",
   "execution_count": 46,
   "metadata": {},
   "outputs": [
    {
     "data": {
      "text/plain": [
       "\u001b[36msum\u001b[0m: (\u001b[32mInt\u001b[0m, \u001b[32mInt\u001b[0m, \u001b[32mInt\u001b[0m) => \u001b[32mInt\u001b[0m = <function3>\n",
       "\u001b[36mf\u001b[0m: \u001b[32mInt\u001b[0m => \u001b[32mInt\u001b[0m = <function1>"
      ]
     },
     "metadata": {},
     "output_type": "display_data"
    }
   ],
   "source": [
    "val sum = (a: Int, b: Int, c: Int) => a + b + c\n",
    "val f=sum(1,2,_:Int)"
   ]
  },
  {
   "cell_type": "code",
   "execution_count": 49,
   "metadata": {},
   "outputs": [
    {
     "data": {
      "text/plain": [
       "\u001b[36mres41_0\u001b[0m: \u001b[32mInt\u001b[0m = \u001b[32m6\u001b[0m\n",
       "\u001b[36mres41_1\u001b[0m: \u001b[32mInt\u001b[0m = \u001b[32m47\u001b[0m"
      ]
     },
     "metadata": {},
     "output_type": "display_data"
    }
   ],
   "source": [
    "sum(1,2,3)\n",
    "f(44)"
   ]
  },
  {
   "cell_type": "markdown",
   "metadata": {},
   "source": [
    "### 9.7. Creating a Function That Returns a Function"
   ]
  },
  {
   "cell_type": "code",
   "execution_count": 50,
   "metadata": {},
   "outputs": [
    {
     "data": {
      "text/plain": [
       "defined \u001b[32mfunction \u001b[36mgreeting\u001b[0m"
      ]
     },
     "metadata": {},
     "output_type": "display_data"
    }
   ],
   "source": [
    "def greeting(language: String) = (name: String) => { \n",
    "    language match { \n",
    "        case \"english\" => \"Hello, \" + name \n",
    "        case \"spanish\" => \"Buenos dias, \" + name\n",
    "    }\n",
    "}"
   ]
  },
  {
   "cell_type": "code",
   "execution_count": 52,
   "metadata": {},
   "outputs": [
    {
     "data": {
      "text/plain": [
       "\u001b[36menHello\u001b[0m: \u001b[32mString\u001b[0m => \u001b[32mString\u001b[0m = <function1>\n",
       "\u001b[36mres43_1\u001b[0m: \u001b[32mString\u001b[0m = \u001b[32m\"Hello, Leal\"\u001b[0m"
      ]
     },
     "metadata": {},
     "output_type": "display_data"
    }
   ],
   "source": [
    "val enHello=greeting(\"english\")\n",
    "enHello(\"Leal\")"
   ]
  },
  {
   "cell_type": "code",
   "execution_count": 55,
   "metadata": {},
   "outputs": [
    {
     "data": {
      "text/plain": [
       "\u001b[36mspamHello\u001b[0m: \u001b[32mString\u001b[0m => \u001b[32mString\u001b[0m = <function1>\n",
       "\u001b[36mres46_1\u001b[0m: \u001b[32mString\u001b[0m = \u001b[32m\"Buenos dias, djfhj\"\u001b[0m"
      ]
     },
     "metadata": {},
     "output_type": "display_data"
    }
   ],
   "source": [
    "val spamHello=greeting(\"spanish\")\n",
    "spamHello (\"djfhj\")"
   ]
  },
  {
   "cell_type": "markdown",
   "metadata": {},
   "source": [
    "### 9.8. Creating Partial Functions"
   ]
  },
  {
   "cell_type": "code",
   "execution_count": 56,
   "metadata": {},
   "outputs": [
    {
     "data": {
      "text/plain": [
       "\u001b[36mdivide\u001b[0m: \u001b[32mAnyRef\u001b[0m with \u001b[32mPartialFunction\u001b[0m[\u001b[32mInt\u001b[0m, \u001b[32mInt\u001b[0m] = <function1>"
      ]
     },
     "metadata": {},
     "output_type": "display_data"
    }
   ],
   "source": [
    "val divide = new PartialFunction[Int, Int] { \n",
    "    def apply(x: Int) = 42 / x \n",
    "    def isDefinedAt(x: Int) = x != 0\n",
    "}"
   ]
  },
  {
   "cell_type": "code",
   "execution_count": 57,
   "metadata": {},
   "outputs": [
    {
     "data": {
      "text/plain": [
       "\u001b[36mres48_0\u001b[0m: \u001b[32mBoolean\u001b[0m = true\n",
       "\u001b[36mres48_1\u001b[0m: \u001b[32mBoolean\u001b[0m = false"
      ]
     },
     "metadata": {},
     "output_type": "display_data"
    }
   ],
   "source": [
    " divide.isDefinedAt(1)\n",
    " divide.isDefinedAt(0)"
   ]
  },
  {
   "cell_type": "code",
   "execution_count": 58,
   "metadata": {},
   "outputs": [
    {
     "data": {
      "text/plain": [
       "\u001b[36mres49\u001b[0m: \u001b[32mAnyVal\u001b[0m = 21"
      ]
     },
     "metadata": {},
     "output_type": "display_data"
    }
   ],
   "source": [
    "if(divide isDefinedAt(1))divide (2)"
   ]
  },
  {
   "cell_type": "code",
   "execution_count": 59,
   "metadata": {},
   "outputs": [
    {
     "data": {
      "text/plain": [
       "\u001b[36mdivide2\u001b[0m: \u001b[32mPartialFunction\u001b[0m[\u001b[32mInt\u001b[0m, \u001b[32mInt\u001b[0m] = <function1>"
      ]
     },
     "metadata": {},
     "output_type": "display_data"
    }
   ],
   "source": [
    "val divide2: PartialFunction[Int, Int] = { \n",
    "    case d: Int if d != 0 => 42 / d\n",
    "}"
   ]
  },
  {
   "cell_type": "code",
   "execution_count": 60,
   "metadata": {},
   "outputs": [
    {
     "data": {
      "text/plain": [
       "\u001b[36mconvert1to5\u001b[0m: \u001b[32mAnyRef\u001b[0m with \u001b[32mPartialFunction\u001b[0m[\u001b[32mInt\u001b[0m, \u001b[32mString\u001b[0m]{val nums: Array[String]} = <function1>\n",
       "\u001b[36mconvert6to10\u001b[0m: \u001b[32mAnyRef\u001b[0m with \u001b[32mPartialFunction\u001b[0m[\u001b[32mInt\u001b[0m, \u001b[32mString\u001b[0m]{val nums: Array[String]} = <function1>"
      ]
     },
     "metadata": {},
     "output_type": "display_data"
    }
   ],
   "source": [
    "// converts 1 to \"one\", etc., up to 5\n",
    "val convert1to5 = new PartialFunction[Int, String] { \n",
    "    val nums = Array(\"one\", \"two\", \"three\", \"four\", \"five\") \n",
    "    def apply(i: Int) = nums(i-1) \n",
    "    def isDefinedAt(i: Int) = i > 0 && i < 6\n",
    "}\n",
    "// converts 6 to \"six\", etc., up to 10 \n",
    "val convert6to10 = new PartialFunction[Int, String] { \n",
    "    val nums = Array(\"six\", \"seven\", \"eight\", \"nine\", \"ten\") \n",
    "    def apply(i: Int) = nums(i-6) \n",
    "    def isDefinedAt(i: Int) = i > 5 && i < 11\n",
    "}"
   ]
  },
  {
   "cell_type": "code",
   "execution_count": 61,
   "metadata": {},
   "outputs": [
    {
     "data": {
      "text/plain": [
       "\u001b[36mconvert1to10\u001b[0m: \u001b[32mPartialFunction\u001b[0m[\u001b[32mInt\u001b[0m, \u001b[32mString\u001b[0m] = <function1>"
      ]
     },
     "metadata": {},
     "output_type": "display_data"
    }
   ],
   "source": [
    "val convert1to10=convert1to5 orElse convert6to10 "
   ]
  },
  {
   "cell_type": "code",
   "execution_count": 62,
   "metadata": {},
   "outputs": [
    {
     "data": {
      "text/plain": [
       "\u001b[36mres53_0\u001b[0m: \u001b[32mString\u001b[0m = \u001b[32m\"two\"\u001b[0m\n",
       "\u001b[36mres53_1\u001b[0m: \u001b[32mString\u001b[0m = \u001b[32m\"six\"\u001b[0m"
      ]
     },
     "metadata": {},
     "output_type": "display_data"
    }
   ],
   "source": [
    "convert1to10 (2)\n",
    "convert1to10 (6)"
   ]
  },
  {
   "cell_type": "code",
   "execution_count": 63,
   "metadata": {},
   "outputs": [
    {
     "ename": "",
     "evalue": "",
     "output_type": "error",
     "traceback": [
      "java.lang.ArithmeticException: / by zero",
      "\tcmd47$$user$$anonfun$1$$anon$1.apply$mcII$sp(Main.scala:198)",
      "\tcmd47$$user$$anonfun$1$$anon$1.apply(Main.scala:198)",
      "\tcmd47$$user$$anonfun$1$$anon$1.apply(Main.scala:197)",
      "\tscala.collection.immutable.List.map(List.scala:273)",
      "\tcmd54$$user$$anonfun$1.apply(Main.scala:220)",
      "\tcmd54$$user$$anonfun$1.apply(Main.scala:219)"
     ]
    }
   ],
   "source": [
    " List(0,1,2) map { divide }"
   ]
  },
  {
   "cell_type": "code",
   "execution_count": 65,
   "metadata": {},
   "outputs": [
    {
     "data": {
      "text/plain": [
       "\u001b[36mres55\u001b[0m: \u001b[32mList\u001b[0m[\u001b[32mInt\u001b[0m] = \u001b[33mList\u001b[0m(\u001b[32m42\u001b[0m, \u001b[32m21\u001b[0m)"
      ]
     },
     "metadata": {},
     "output_type": "display_data"
    }
   ],
   "source": [
    " List(0,1,2) collect { divide }"
   ]
  },
  {
   "cell_type": "markdown",
   "metadata": {},
   "source": [
    "- This is because the collect method is written to test the isDefinedAt method for each element it’s given."
   ]
  },
  {
   "cell_type": "code",
   "execution_count": 67,
   "metadata": {},
   "outputs": [
    {
     "data": {
      "text/plain": [
       "\u001b[36mres57\u001b[0m: \u001b[32mList\u001b[0m[\u001b[32mAny\u001b[0m] = \u001b[33mList\u001b[0m(43, Hello cat)"
      ]
     },
     "metadata": {},
     "output_type": "display_data"
    }
   ],
   "source": [
    " List(42, \"cat\") collect { case i: Int => i + 1\n",
    "                           case s:String=>\"Hello \"+s\n",
    "                        }"
   ]
  },
  {
   "cell_type": "markdown",
   "metadata": {},
   "source": [
    "#### 9.9. A Real-World Example"
   ]
  },
  {
   "cell_type": "code",
   "execution_count": 68,
   "metadata": {},
   "outputs": [
    {
     "data": {
      "text/plain": [
       "defined \u001b[32mfunction \u001b[36mnewtonsMethodHelper\u001b[0m"
      ]
     },
     "metadata": {},
     "output_type": "display_data"
    }
   ],
   "source": [
    "/** * This is the \"x2 = x1 - f(x1)/f'(x1)\" calculation */\n",
    "def newtonsMethodHelper(fx: Double => Double, fxPrime: Double => Double, x: Double): Double = {\n",
    "x - fx(x) / fxPrime(x)\n",
    "}"
   ]
  },
  {
   "cell_type": "code",
   "execution_count": 70,
   "metadata": {},
   "outputs": [
    {
     "data": {
      "text/plain": [
       "defined \u001b[32mfunction \u001b[36mnewtonsMethod\u001b[0m"
      ]
     },
     "metadata": {},
     "output_type": "display_data"
    }
   ],
   "source": [
    "/** * Newton's Method for solving equations.\n",
    "* @todo check that |f(xNext)| is greater than a second tolerance value \n",
    "* @todo check that f'(x) != 0 */\n",
    "def newtonsMethod(fx: Double => Double, fxPrime: Double => Double, x: Double, tolerance: Double): Double = {\n",
    "    var x1 = x\n",
    "    var xNext = newtonsMethodHelper(fx, fxPrime, x1) \n",
    "    while (math.abs(xNext - x1) > tolerance) { \n",
    "        x1 = xNext \n",
    "        println(xNext) // debugging (intermediate values) \n",
    "        xNext = newtonsMethodHelper(fx, fxPrime, x1)\n",
    "    } \n",
    "    xNext\n",
    "}"
   ]
  },
  {
   "cell_type": "code",
   "execution_count": 71,
   "metadata": {},
   "outputs": [
    {
     "name": "stdout",
     "output_type": "stream",
     "text": [
      "0.3333333333333333\n",
      "0.3601707135776337\n",
      "0.36042168047601975\n",
      "0.3604217029603242\n"
     ]
    },
    {
     "data": {
      "text/plain": [
       "defined \u001b[32mfunction \u001b[36mdriver\u001b[0m"
      ]
     },
     "metadata": {},
     "output_type": "display_data"
    }
   ],
   "source": [
    "/** A \"driver\" function to test Newton's method. \n",
    "* Start with (a) the desired f(x) and f'(x) equations, \n",
    "* (b) an initial guess and (c) tolerance values. \n",
    "*/\n",
    "def driver {\n",
    "// the f(x) and f'(x) functions \n",
    "    val fx = (x: Double) => 3*x + math.sin(x) - math.pow(math.E, x) \n",
    "    val fxPrime = (x: Double) => 3 + math.cos(x) - math.pow(Math.E, x)\n",
    "    val initialGuess = 0.0 \n",
    "    val tolerance = 0.00005\n",
    "    // pass f(x) and f'(x) to the Newton's Method function, along with \n",
    "    // the initial guess and tolerance \n",
    "    val answer = newtonsMethod(fx, fxPrime, initialGuess, tolerance)\n",
    "    println(answer)\n",
    "}\n",
    "driver"
   ]
  },
  {
   "cell_type": "code",
   "execution_count": null,
   "metadata": {},
   "outputs": [],
   "source": []
  }
 ],
 "metadata": {
  "kernelspec": {
   "display_name": "Scala 2.11",
   "language": "scala211",
   "name": "scala211"
  },
  "language_info": {
   "codemirror_mode": "text/x-scala",
   "file_extension": ".scala",
   "mimetype": "text/x-scala",
   "name": "scala211",
   "pygments_lexer": "scala",
   "version": "2.11.6"
  }
 },
 "nbformat": 4,
 "nbformat_minor": 2
}
