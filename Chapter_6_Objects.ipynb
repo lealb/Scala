{
 "cells": [
  {
   "cell_type": "markdown",
   "metadata": {},
   "source": [
    "### Objects"
   ]
  },
  {
   "cell_type": "markdown",
   "metadata": {},
   "source": [
    "#### 6.1. Object Casting\n",
    "1. asInstanceOf method"
   ]
  },
  {
   "cell_type": "code",
   "execution_count": 0,
   "metadata": {},
   "outputs": [
    {
     "ename": "",
     "evalue": "",
     "output_type": "error",
     "traceback": [
      "SyntaxError: found \".lookup(\\\"recognizer\\\"\", expected Semis | End | CharsWhile(scalaparse.syntax.Identifiers$$$Lambda$1776/1154393738@779d9ee2) | MultilineComment | LineComment | XmlExpr | New | BlockExpr | ExprLiteral | StableId | `_` | Parened at index 124",
      "zer = (Recognizer)cm.lookup(\"recognizer\"",
      "                    ^"
     ]
    }
   ],
   "source": [
    "val recognizer = cm.lookup(\"recognizer\").asInstanceOf[Recognizer]\n",
    "// is equivalent to\n",
    "Recognizer recognizer = (Recognizer)cm.lookup(\"recognizer\");"
   ]
  },
  {
   "cell_type": "code",
   "execution_count": 1,
   "metadata": {},
   "outputs": [
    {
     "data": {
      "text/plain": [
       "\u001b[36ma\u001b[39m: \u001b[32mInt\u001b[39m = \u001b[32m10\u001b[39m\n",
       "\u001b[36mres0_1\u001b[39m: \u001b[32mLong\u001b[39m = \u001b[32m10L\u001b[39m"
      ]
     },
     "execution_count": 1,
     "metadata": {},
     "output_type": "execute_result"
    }
   ],
   "source": [
    "val a=10\n",
    "a.asInstanceOf[Long]"
   ]
  },
  {
   "cell_type": "code",
   "execution_count": 2,
   "metadata": {},
   "outputs": [
    {
     "data": {
      "text/plain": [
       "\u001b[36mres1\u001b[39m: \u001b[32mLong\u001b[39m = \u001b[32m10L\u001b[39m"
      ]
     },
     "execution_count": 2,
     "metadata": {},
     "output_type": "execute_result"
    }
   ],
   "source": [
    "a.toLong"
   ]
  },
  {
   "cell_type": "code",
   "execution_count": 3,
   "metadata": {},
   "outputs": [
    {
     "ename": "",
     "evalue": "",
     "output_type": "error",
     "traceback": [
      "\u001b[31mjava.lang.ClassCastException: java.lang.Integer cannot be cast to java.lang.String\u001b[39m",
      "  $sess.cmd2Wrapper$Helper.<init>(\u001b[32mcmd2.sc\u001b[39m:\u001b[32m2\u001b[39m)",
      "  $sess.cmd2Wrapper.<init>(\u001b[32mcmd2.sc\u001b[39m:\u001b[32m95\u001b[39m)",
      "  $sess.cmd2$.<init>(\u001b[32mcmd2.sc\u001b[39m:\u001b[32m68\u001b[39m)",
      "  $sess.cmd2$.<clinit>(\u001b[32mcmd2.sc\u001b[39m:\u001b[32m-1\u001b[39m)"
     ]
    }
   ],
   "source": [
    "val i=1\n",
    "i.asInstanceOf[String]\n",
    "//As usual, use a try/catch expression to handle this situation."
   ]
  },
  {
   "cell_type": "markdown",
   "metadata": {},
   "source": [
    "#### 6.2. The Scala Equivalent of Java’s .class"
   ]
  },
  {
   "cell_type": "code",
   "execution_count": null,
   "metadata": {},
   "outputs": [],
   "source": [
    "val info = new DataLine.Info(classOf[TargetDataLine], null)\n",
    "//as java\n",
    "info = new DataLine.Info(TargetDataLine.class, null);"
   ]
  },
  {
   "cell_type": "code",
   "execution_count": 4,
   "metadata": {},
   "outputs": [
    {
     "data": {
      "text/plain": [
       "\u001b[36mstringClass\u001b[39m: \u001b[32mClass\u001b[39m[\u001b[32mString\u001b[39m] = class java.lang.String\n",
       "\u001b[36mres3_1\u001b[39m: \u001b[32mArray\u001b[39m[\u001b[32mjava\u001b[39m.\u001b[32mlang\u001b[39m.\u001b[32mreflect\u001b[39m.\u001b[32mMethod\u001b[39m] = \u001b[33mArray\u001b[39m(\n",
       "  public boolean java.lang.String.equals(java.lang.Object),\n",
       "  public java.lang.String java.lang.String.toString(),\n",
       "  public int java.lang.String.hashCode(),\n",
       "  public int java.lang.String.compareTo(java.lang.String),\n",
       "  public int java.lang.String.compareTo(java.lang.Object),\n",
       "  public int java.lang.String.indexOf(java.lang.String,int),\n",
       "  public int java.lang.String.indexOf(java.lang.String),\n",
       "  public int java.lang.String.indexOf(int,int),\n",
       "  public int java.lang.String.indexOf(int),\n",
       "  public static java.lang.String java.lang.String.valueOf(int),\n",
       "  public static java.lang.String java.lang.String.valueOf(long),\n",
       "\u001b[33m...\u001b[39m"
      ]
     },
     "execution_count": 4,
     "metadata": {},
     "output_type": "execute_result"
    }
   ],
   "source": [
    "val stringClass=classOf[String]\n",
    "stringClass.getMethods"
   ]
  },
  {
   "cell_type": "markdown",
   "metadata": {},
   "source": [
    "#### 6.3. Determining the Class of an Object"
   ]
  },
  {
   "cell_type": "code",
   "execution_count": 5,
   "metadata": {},
   "outputs": [
    {
     "data": {
      "text/plain": [
       "defined \u001b[32mfunction\u001b[39m \u001b[36mprintAll\u001b[39m"
      ]
     },
     "execution_count": 5,
     "metadata": {},
     "output_type": "execute_result"
    }
   ],
   "source": [
    "def printAll(numbers: Int*) { \n",
    "    println(\"class: \" + numbers.getClass)\n",
    "}"
   ]
  },
  {
   "cell_type": "code",
   "execution_count": 6,
   "metadata": {},
   "outputs": [
    {
     "name": "stdout",
     "output_type": "stream",
     "text": [
      "class: class scala.collection.mutable.WrappedArray$ofInt\n",
      "class: class scala.collection.immutable.Nil$\n"
     ]
    }
   ],
   "source": [
    "printAll(1,2)\n",
    "printAll()"
   ]
  },
  {
   "cell_type": "code",
   "execution_count": 7,
   "metadata": {},
   "outputs": [
    {
     "data": {
      "text/plain": [
       "\u001b[36mhello\u001b[39m: \u001b[32mxml\u001b[39m.\u001b[32mElem\u001b[39m = \u001b[33mElem\u001b[39m(<p>Hello,World</p>)"
      ]
     },
     "execution_count": 7,
     "metadata": {},
     "output_type": "execute_result"
    }
   ],
   "source": [
    "val hello= <p>Hello,World</p>"
   ]
  },
  {
   "cell_type": "code",
   "execution_count": 9,
   "metadata": {},
   "outputs": [
    {
     "name": "stdout",
     "output_type": "stream",
     "text": [
      "class scala.xml.Text\n"
     ]
    }
   ],
   "source": [
    "hello.child.foreach(e => println(e.getClass))"
   ]
  },
  {
   "cell_type": "code",
   "execution_count": 10,
   "metadata": {},
   "outputs": [
    {
     "data": {
      "text/plain": [
       "defined \u001b[32mfunction\u001b[39m \u001b[36mprintAllNumber\u001b[39m"
      ]
     },
     "execution_count": 10,
     "metadata": {},
     "output_type": "execute_result"
    }
   ],
   "source": [
    "def printAllNumber(numbers:Int*){\n",
    "    numbers.foreach(println)\n",
    "}"
   ]
  },
  {
   "cell_type": "code",
   "execution_count": 12,
   "metadata": {},
   "outputs": [
    {
     "name": "stdout",
     "output_type": "stream",
     "text": [
      "1\n",
      "2\n",
      "3\n",
      "*********\n"
     ]
    }
   ],
   "source": [
    "printAllNumber(1,2,3)\n",
    "println(\"*********\")\n",
    "printAllNumber()"
   ]
  },
  {
   "cell_type": "markdown",
   "metadata": {},
   "source": [
    "#### 6.4. Launching an Application with an Object\n",
    "1. define an object that extends the App trait, \n",
    "2. define an object with a properly defined main method."
   ]
  },
  {
   "cell_type": "code",
   "execution_count": 13,
   "metadata": {},
   "outputs": [
    {
     "data": {
      "text/plain": [
       "defined \u001b[32mobject\u001b[39m \u001b[36mHello\u001b[39m"
      ]
     },
     "execution_count": 13,
     "metadata": {},
     "output_type": "execute_result"
    }
   ],
   "source": [
    "object Hello extends App { \n",
    "    if (args.length == 1) \n",
    "        println(s\"Hello, ${args(0)}\")\n",
    "    else \n",
    "        println(\"I didn't get your name.\")\n",
    "}"
   ]
  },
  {
   "cell_type": "markdown",
   "metadata": {},
   "source": [
    "The Scaladoc for the App trait currently includes two caveats: \n",
    "1. It should be noted that this trait is implemented using the DelayedInit function‐ ality, which means that fields of the object will not have been initialized before the main method has been executed.\n",
    "2. It should also be noted that the main method will not normally need to be overrid‐ den: the purpose is to turn the whole class body into the “main method.” You should only choose to override it if you know what you are doing."
   ]
  },
  {
   "cell_type": "markdown",
   "metadata": {},
   "source": [
    "#### 6.5. Creating Singletons with object\n",
    "1. Create Singleton objects in Scala with the object keyword"
   ]
  },
  {
   "cell_type": "code",
   "execution_count": 14,
   "metadata": {},
   "outputs": [
    {
     "data": {
      "text/plain": [
       "defined \u001b[32mobject\u001b[39m \u001b[36mCashRegister\u001b[39m"
      ]
     },
     "execution_count": 14,
     "metadata": {},
     "output_type": "execute_result"
    }
   ],
   "source": [
    "object CashRegister { \n",
    "    def open { println(\"opened\") } \n",
    "    def close { println(\"closed\") }\n",
    "}"
   ]
  },
  {
   "cell_type": "code",
   "execution_count": 15,
   "metadata": {},
   "outputs": [
    {
     "name": "stdout",
     "output_type": "stream",
     "text": [
      "opened\n",
      "closed\n"
     ]
    }
   ],
   "source": [
    "CashRegister.open\n",
    "CashRegister.close"
   ]
  },
  {
   "cell_type": "markdown",
   "metadata": {},
   "source": [
    "#### 6.6. Creating Static Members with Companion Objects\n",
    "1. 通过class和 companion object"
   ]
  },
  {
   "cell_type": "code",
   "execution_count": 16,
   "metadata": {},
   "outputs": [
    {
     "data": {
      "text/plain": [
       "defined \u001b[32mclass\u001b[39m \u001b[36mPizza\u001b[39m\n",
       "defined \u001b[32mobject\u001b[39m \u001b[36mPizza\u001b[39m"
      ]
     },
     "execution_count": 16,
     "metadata": {},
     "output_type": "execute_result"
    }
   ],
   "source": [
    "// Pizza class \n",
    "class Pizza (var crustType: String) { \n",
    "    override def toString = \"Crust type is \" + crustType\n",
    "}\n",
    "// companion object \n",
    "object Pizza { \n",
    "    val CRUST_TYPE_THIN = \"thin\" \n",
    "    val CRUST_TYPE_THICK = \"thick\" \n",
    "    def getFoo = \"Foo\"\n",
    "}"
   ]
  },
  {
   "cell_type": "code",
   "execution_count": 17,
   "metadata": {},
   "outputs": [
    {
     "data": {
      "text/plain": [
       "\u001b[36mres16_0\u001b[39m: \u001b[32mString\u001b[39m = \u001b[32m\"thin\"\u001b[39m\n",
       "\u001b[36mres16_1\u001b[39m: \u001b[32mString\u001b[39m = \u001b[32m\"Foo\"\u001b[39m"
      ]
     },
     "execution_count": 17,
     "metadata": {},
     "output_type": "execute_result"
    }
   ],
   "source": [
    "Pizza.CRUST_TYPE_THIN\n",
    "Pizza.getFoo"
   ]
  },
  {
   "cell_type": "code",
   "execution_count": 18,
   "metadata": {},
   "outputs": [
    {
     "data": {
      "text/plain": [
       "\u001b[36mres17\u001b[39m: \u001b[32mPizza\u001b[39m = Crust type is thick"
      ]
     },
     "execution_count": 18,
     "metadata": {},
     "output_type": "execute_result"
    }
   ],
   "source": [
    "new Pizza(Pizza.CRUST_TYPE_THICK)"
   ]
  },
  {
   "cell_type": "markdown",
   "metadata": {},
   "source": [
    "- Define your class and object in the same file, giving them the same name. \n",
    "- Define members that should appear to be “static” in the object.\n",
    "- Define nonstatic (instance) members in the class"
   ]
  },
  {
   "cell_type": "markdown",
   "metadata": {},
   "source": [
    "#### 6.7. Putting Common Code in Package Objects\n",
    "1. 在同级目录创建一个package.scala\n",
    "\n",
    "- package com.alvinalexander.myapp \n",
    "- \n",
    "- package object model {"
   ]
  },
  {
   "cell_type": "code",
   "execution_count": 18,
   "metadata": {},
   "outputs": [
    {
     "ename": "",
     "evalue": "",
     "output_type": "error",
     "traceback": [
      "SyntaxError: found \"package object model\", expected TopPkgSeq | Import | Prelude ~ BlockDef | Expr | End at index 35",
      "package object model",
      "^"
     ]
    }
   ],
   "source": [
    "package com.alvinalexander.myapp \n",
    "\n",
    "package object model {\n",
    "    // field\n",
    "    val MAGIC_NUM = 42\n",
    "    // method \n",
    "    def echo(a: Any) { println(a) }\n",
    "    // enumeration \n",
    "    object Margin extends Enumeration { \n",
    "        type Margin = Value \n",
    "        val TOP, BOTTOM, LEFT, RIGHT = Value\n",
    "    }\n",
    "// type definition \n",
    "    type MutableMap[K, V] = scala.collection.mutable.Map[K, V] \n",
    "    val MutableMap = scala.collection.mutable.Map\n",
    "}"
   ]
  },
  {
   "cell_type": "code",
   "execution_count": null,
   "metadata": {},
   "outputs": [],
   "source": [
    "package com.alvinalexander.myapp.model \n",
    "\n",
    "object MainDriver extends App {\n",
    "    // access our method, constant, and enumeration \n",
    "    echo(\"Hello, world\") \n",
    "    echo(MAGIC_NUM) \n",
    "    echo(Margin.LEFT)\n",
    "    // use our MutableMap type (scala.collection.mutable.Map)\n",
    "    val mm = MutableMap(\"name\" -> \"Al\") \n",
    "    mm += (\"password\" -> \"123\") \n",
    "    for ((k,v) <- mm) \n",
    "        printf(\"key: %s, value: %s\\n\", k, v)\n",
    "}"
   ]
  },
  {
   "cell_type": "markdown",
   "metadata": {},
   "source": [
    "#### 6.8. Creating Object Instances Without Using the new Keyword\n",
    "There are two ways to do this: \n",
    "- Create a companion object for your class, and define an apply method in the com‐ panion object with the desired constructor signature.\n",
    "- Define your class as a case class"
   ]
  },
  {
   "cell_type": "code",
   "execution_count": 19,
   "metadata": {},
   "outputs": [
    {
     "data": {
      "text/plain": [
       "defined \u001b[32mclass\u001b[39m \u001b[36mPerson\u001b[39m\n",
       "defined \u001b[32mobject\u001b[39m \u001b[36mPerson\u001b[39m"
      ]
     },
     "execution_count": 19,
     "metadata": {},
     "output_type": "execute_result"
    }
   ],
   "source": [
    "class Person {\n",
    "    var name: String = _\n",
    "}\n",
    "object Person { \n",
    "    def apply(name: String): Person = { \n",
    "        var p = new Person \n",
    "        p.name = name \n",
    "        p\n",
    "    }\n",
    "}"
   ]
  },
  {
   "cell_type": "code",
   "execution_count": 20,
   "metadata": {},
   "outputs": [
    {
     "data": {
      "text/plain": [
       "\u001b[36mdawn\u001b[39m: \u001b[32mPerson\u001b[39m = $sess.cmd18Wrapper$Helper$Person@5ab206d1\n",
       "\u001b[36ma\u001b[39m: \u001b[32mArray\u001b[39m[\u001b[32mPerson\u001b[39m] = \u001b[33mArray\u001b[39m(\n",
       "  $sess.cmd18Wrapper$Helper$Person@3dc35714,\n",
       "  $sess.cmd18Wrapper$Helper$Person@3141e14c\n",
       ")"
      ]
     },
     "execution_count": 20,
     "metadata": {},
     "output_type": "execute_result"
    }
   ],
   "source": [
    "val dawn = Person(\"Dawn\") \n",
    "val a = Array(Person(\"Dan\"), Person(\"Elijah\"))"
   ]
  },
  {
   "cell_type": "code",
   "execution_count": 21,
   "metadata": {},
   "outputs": [
    {
     "data": {
      "text/plain": [
       "\u001b[36mdawm1\u001b[39m: \u001b[32mPerson\u001b[39m = $sess.cmd18Wrapper$Helper$Person@50658729"
      ]
     },
     "execution_count": 21,
     "metadata": {},
     "output_type": "execute_result"
    }
   ],
   "source": [
    "val dawm1=Person(\"Dawn\")"
   ]
  },
  {
   "cell_type": "code",
   "execution_count": 22,
   "metadata": {},
   "outputs": [
    {
     "data": {
      "text/plain": [
       "defined \u001b[32mclass\u001b[39m \u001b[36mPerson1\u001b[39m\n",
       "\u001b[36mp\u001b[39m: \u001b[32mPerson1\u001b[39m = \u001b[33mPerson1\u001b[39m(\u001b[32m\"Fred Flinstone\"\u001b[39m)"
      ]
     },
     "execution_count": 22,
     "metadata": {},
     "output_type": "execute_result"
    }
   ],
   "source": [
    "case class Person1 (var name: String)\n",
    "val p = Person1(\"Fred Flinstone\")"
   ]
  },
  {
   "cell_type": "markdown",
   "metadata": {},
   "source": [
    "- Providing multiple constructors with additional apply methods\n",
    "- Providing multiple constructors for case classes"
   ]
  },
  {
   "cell_type": "code",
   "execution_count": null,
   "metadata": {},
   "outputs": [],
   "source": [
    "class Person {\n",
    "    var name = \"\" \n",
    "    var age = 0\n",
    "} \n",
    "object Person {\n",
    "    // a one-arg constructor \n",
    "    def apply(name: String): Person = { \n",
    "        var p = new Person \n",
    "        p.name = name \n",
    "        p\n",
    "    }\n",
    "    // a two-arg constructor \n",
    "    def apply(name: String, age: Int): Person = { \n",
    "        var p = new Person \n",
    "        p.name = name \n",
    "        p.age = age \n",
    "        p\n",
    "    }\n",
    "}"
   ]
  },
  {
   "cell_type": "code",
   "execution_count": null,
   "metadata": {},
   "outputs": [],
   "source": [
    "// want accessor and mutator methods for the name and age fields \n",
    "case class Person (var name: String, var age: Int)\n",
    "// define two auxiliary constructors \n",
    "object Person {\n",
    "    def apply() = new Person(\"<no name>\", 0) \n",
    "    def apply(name: String) = new Person(name, 0)\n",
    "}"
   ]
  },
  {
   "cell_type": "markdown",
   "metadata": {},
   "source": [
    "#### 6.9. Implement the Factory Method in Scala with apply"
   ]
  },
  {
   "cell_type": "code",
   "execution_count": 23,
   "metadata": {},
   "outputs": [
    {
     "data": {
      "text/plain": [
       "defined \u001b[32mtrait\u001b[39m \u001b[36mAnimal\u001b[39m\n",
       "defined \u001b[32mobject\u001b[39m \u001b[36mAnimal\u001b[39m"
      ]
     },
     "execution_count": 23,
     "metadata": {},
     "output_type": "execute_result"
    }
   ],
   "source": [
    "trait Animal { \n",
    "    def speak\n",
    "}\n",
    "\n",
    "object Animal { \n",
    "    private class Dog extends Animal { \n",
    "        override def speak { \n",
    "            println(\"woof\") \n",
    "        }\n",
    "    }\n",
    "    \n",
    "    private class Cat extends Animal { \n",
    "        override def speak { \n",
    "            println(\"meow\") \n",
    "        }\n",
    "    }\n",
    "// the factory method \n",
    "    def apply(s: String): Animal = { \n",
    "        if (s == \"dog\") \n",
    "            new Dog \n",
    "        else \n",
    "            new Cat\n",
    "    }\n",
    "}"
   ]
  },
  {
   "cell_type": "code",
   "execution_count": 24,
   "metadata": {},
   "outputs": [
    {
     "name": "stdout",
     "output_type": "stream",
     "text": [
      "meow\n"
     ]
    },
    {
     "data": {
      "text/plain": [
       "\u001b[36mcat\u001b[39m: \u001b[32mAnimal\u001b[39m = $sess.cmd22Wrapper$Helper$Animal$Cat@6d5e4f07"
      ]
     },
     "execution_count": 24,
     "metadata": {},
     "output_type": "execute_result"
    }
   ],
   "source": [
    "val cat = Animal(\"cat\")\n",
    "cat.speak"
   ]
  },
  {
   "cell_type": "code",
   "execution_count": 25,
   "metadata": {},
   "outputs": [
    {
     "name": "stdout",
     "output_type": "stream",
     "text": [
      "woof\n"
     ]
    },
    {
     "data": {
      "text/plain": [
       "\u001b[36mdog\u001b[39m: \u001b[32mAnimal\u001b[39m = $sess.cmd22Wrapper$Helper$Animal$Dog@38015b1e"
      ]
     },
     "execution_count": 25,
     "metadata": {},
     "output_type": "execute_result"
    }
   ],
   "source": [
    "val dog=Animal(\"dog\")\n",
    "dog.speak"
   ]
  },
  {
   "cell_type": "code",
   "execution_count": null,
   "metadata": {},
   "outputs": [],
   "source": []
  }
 ],
 "metadata": {
  "kernelspec": {
   "display_name": "Scala",
   "language": "scala",
   "name": "scala"
  },
  "language_info": {
   "codemirror_mode": "text/x-scala",
   "file_extension": ".scala",
   "mimetype": "text/x-scala",
   "name": "scala212",
   "nbconvert_exporter": "script",
   "pygments_lexer": "scala",
   "version": "2.12.2"
  }
 },
 "nbformat": 4,
 "nbformat_minor": 2
}
