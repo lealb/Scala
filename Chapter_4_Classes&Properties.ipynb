{
 "cells": [
  {
   "cell_type": "markdown",
   "metadata": {},
   "source": [
    "### Classes and Properties"
   ]
  },
  {
   "cell_type": "markdown",
   "metadata": {},
   "source": [
    "#### 4.1. Creating a Primary Constructor"
   ]
  },
  {
   "cell_type": "code",
   "execution_count": 1,
   "metadata": {},
   "outputs": [
    {
     "data": {
      "text/plain": [
       "defined \u001b[32mclass\u001b[39m \u001b[36mPerson\u001b[39m"
      ]
     },
     "execution_count": 1,
     "metadata": {},
     "output_type": "execute_result"
    }
   ],
   "source": [
    "class Person(var firstName: String, var lastName: String) { \n",
    "    \n",
    "    println(\"the constructor begins\")\n",
    "    // some class fields \n",
    "    private val HOME = System.getProperty(\"user.home\") \n",
    "    var age = 0\n",
    "    // some methods \n",
    "    override def toString = s\"$firstName $lastName is $age years old\" \n",
    "    def printHome { println(s\"HOME = $HOME\") } \n",
    "    def printFullName { println(this) } // uses toString\n",
    "    printHome\n",
    "    printFullName \n",
    "    println(\"still in the constructor\")\n",
    "}"
   ]
  },
  {
   "cell_type": "code",
   "execution_count": 2,
   "metadata": {},
   "outputs": [
    {
     "name": "stdout",
     "output_type": "stream",
     "text": [
      "the constructor begins\n",
      "HOME = /root\n",
      "Adam Meyer is 0 years old\n",
      "still in the constructor\n"
     ]
    },
    {
     "data": {
      "text/plain": [
       "\u001b[36mp\u001b[39m: \u001b[32mPerson\u001b[39m = Adam Meyer is 0 years old"
      ]
     },
     "execution_count": 2,
     "metadata": {},
     "output_type": "execute_result"
    }
   ],
   "source": [
    " val p = new Person(\"Adam\", \"Meyer\")"
   ]
  },
  {
   "cell_type": "markdown",
   "metadata": {},
   "source": [
    "#### 4.2. Controlling the Visibility of Constructor Fields\n",
    "1. If a field is declared as a var, Scala generates both getter and setter methods for that field.\n",
    "2. If the field is a val, Scala generates only a getter method for it. \n",
    "3. If a field doesn’t have a var or val modifier, Scala gets conservative, and doesn’t generate a getter or setter method for the field.\n",
    "4. Additionally, var and val fields can be modified with the private keyword, which prevents getters and setters from being generated."
   ]
  },
  {
   "cell_type": "code",
   "execution_count": 3,
   "metadata": {},
   "outputs": [
    {
     "data": {
      "text/plain": [
       "defined \u001b[32mclass\u001b[39m \u001b[36mPerson\u001b[39m"
      ]
     },
     "execution_count": 3,
     "metadata": {},
     "output_type": "execute_result"
    }
   ],
   "source": [
    "class Person(var name:String)"
   ]
  },
  {
   "cell_type": "code",
   "execution_count": 4,
   "metadata": {},
   "outputs": [
    {
     "data": {
      "text/plain": [
       "\u001b[36mp\u001b[39m: \u001b[32mPerson\u001b[39m = $sess.cmd2Wrapper$Helper$Person@58277e76\n",
       "\u001b[36mres3_1\u001b[39m: \u001b[32mString\u001b[39m = \u001b[32m\"Leal\"\u001b[39m"
      ]
     },
     "execution_count": 4,
     "metadata": {},
     "output_type": "execute_result"
    }
   ],
   "source": [
    "var p=new Person(\"Leal\")\n",
    "//getter\n",
    "p.name"
   ]
  },
  {
   "cell_type": "code",
   "execution_count": 5,
   "metadata": {},
   "outputs": [
    {
     "data": {
      "text/plain": [
       "\u001b[36mres4_1\u001b[39m: \u001b[32mString\u001b[39m = \u001b[32m\"Jane\"\u001b[39m"
      ]
     },
     "execution_count": 5,
     "metadata": {},
     "output_type": "execute_result"
    }
   ],
   "source": [
    "//setter\n",
    "p.name=\"Jane\"\n",
    "p.name"
   ]
  },
  {
   "cell_type": "code",
   "execution_count": 6,
   "metadata": {},
   "outputs": [
    {
     "data": {
      "text/plain": [
       "defined \u001b[32mclass\u001b[39m \u001b[36mPerson1\u001b[39m\n",
       "defined \u001b[32mclass\u001b[39m \u001b[36mPerson2\u001b[39m"
      ]
     },
     "execution_count": 6,
     "metadata": {},
     "output_type": "execute_result"
    }
   ],
   "source": [
    "class Person1(val name:String)\n",
    "class Person2(name:String)"
   ]
  },
  {
   "cell_type": "code",
   "execution_count": 7,
   "metadata": {},
   "outputs": [
    {
     "data": {
      "text/plain": [
       "\u001b[36mp1\u001b[39m: \u001b[32mPerson1\u001b[39m = $sess.cmd5Wrapper$Helper$Person1@3d24c17\n",
       "\u001b[36mp2\u001b[39m: \u001b[32mPerson2\u001b[39m = $sess.cmd5Wrapper$Helper$Person2@5281c078"
      ]
     },
     "execution_count": 7,
     "metadata": {},
     "output_type": "execute_result"
    }
   ],
   "source": [
    "val p1=new Person1(\"p1\")\n",
    "val p2=new Person2(\"p2\")"
   ]
  },
  {
   "cell_type": "code",
   "execution_count": 8,
   "metadata": {},
   "outputs": [
    {
     "data": {
      "text/plain": [
       "\u001b[36mres7\u001b[39m: \u001b[32mString\u001b[39m = \u001b[32m\"p1\"\u001b[39m"
      ]
     },
     "execution_count": 8,
     "metadata": {},
     "output_type": "execute_result"
    }
   ],
   "source": [
    "p1.name"
   ]
  },
  {
   "cell_type": "code",
   "execution_count": 8,
   "metadata": {},
   "outputs": [
    {
     "name": "stderr",
     "output_type": "stream",
     "text": [
      "cmd8.sc:1: value name is not a member of cmd8Wrapper.this.cmd6.cmd5.wrapper.Person2\n",
      "val res8 = p2.name\n",
      "              ^"
     ]
    },
    {
     "ename": "",
     "evalue": "",
     "output_type": "error",
     "traceback": [
      "Compilation Failed"
     ]
    }
   ],
   "source": [
    "// the visibility of the field becomes very restricted\n",
    "p2.name"
   ]
  },
  {
   "cell_type": "code",
   "execution_count": 8,
   "metadata": {},
   "outputs": [
    {
     "name": "stderr",
     "output_type": "stream",
     "text": [
      "cmd8.sc:1: reassignment to val\n",
      "val res8 = p1.name=\"hf\"\n",
      "                  ^"
     ]
    },
    {
     "ename": "",
     "evalue": "",
     "output_type": "error",
     "traceback": [
      "Compilation Failed"
     ]
    }
   ],
   "source": [
    "p1.name=\"hf\""
   ]
  },
  {
   "cell_type": "code",
   "execution_count": 9,
   "metadata": {},
   "outputs": [
    {
     "data": {
      "text/plain": [
       "defined \u001b[32mclass\u001b[39m \u001b[36mPerson3\u001b[39m"
      ]
     },
     "execution_count": 9,
     "metadata": {},
     "output_type": "execute_result"
    }
   ],
   "source": [
    "class Person3(private var name:String){\n",
    "    def getName{\n",
    "        println(name)\n",
    "    }\n",
    "}"
   ]
  },
  {
   "cell_type": "code",
   "execution_count": 10,
   "metadata": {},
   "outputs": [
    {
     "data": {
      "text/plain": [
       "\u001b[36mp3\u001b[39m: \u001b[32mPerson3\u001b[39m = $sess.cmd8Wrapper$Helper$Person3@464942c8"
      ]
     },
     "execution_count": 10,
     "metadata": {},
     "output_type": "execute_result"
    }
   ],
   "source": [
    "val p3=new Person3(\"leal\")"
   ]
  },
  {
   "cell_type": "code",
   "execution_count": 10,
   "metadata": {},
   "outputs": [
    {
     "name": "stderr",
     "output_type": "stream",
     "text": [
      "cmd10.sc:1: variable name in class Person3 cannot be accessed in cmd10Wrapper.this.cmd9.cmd8.wrapper.Person3\n",
      "val res10 = p3.name\n",
      "               ^"
     ]
    },
    {
     "ename": "",
     "evalue": "",
     "output_type": "error",
     "traceback": [
      "Compilation Failed"
     ]
    }
   ],
   "source": [
    "//as java, private is can't access\n",
    "p3.name"
   ]
  },
  {
   "cell_type": "code",
   "execution_count": 11,
   "metadata": {},
   "outputs": [
    {
     "name": "stdout",
     "output_type": "stream",
     "text": [
      "leal\n"
     ]
    }
   ],
   "source": [
    "p3.getName"
   ]
  },
  {
   "cell_type": "code",
   "execution_count": 12,
   "metadata": {},
   "outputs": [
    {
     "data": {
      "text/plain": [
       "defined \u001b[32mclass\u001b[39m \u001b[36mPerson4\u001b[39m"
      ]
     },
     "execution_count": 12,
     "metadata": {},
     "output_type": "execute_result"
    }
   ],
   "source": [
    "// Case class constructor parameters are val by default. So if you define a case class field without adding val or var\n",
    "case class Person4(name:String)"
   ]
  },
  {
   "cell_type": "code",
   "execution_count": 13,
   "metadata": {},
   "outputs": [
    {
     "data": {
      "text/plain": [
       "\u001b[36mp4\u001b[39m: \u001b[32mPerson4\u001b[39m = \u001b[33mPerson4\u001b[39m(\u001b[32m\"leal\"\u001b[39m)\n",
       "\u001b[36mres12_1\u001b[39m: \u001b[32mString\u001b[39m = \u001b[32m\"leal\"\u001b[39m"
      ]
     },
     "execution_count": 13,
     "metadata": {},
     "output_type": "execute_result"
    }
   ],
   "source": [
    "val p4=new Person4(\"leal\")\n",
    "p4.name"
   ]
  },
  {
   "cell_type": "code",
   "execution_count": 13,
   "metadata": {},
   "outputs": [
    {
     "name": "stderr",
     "output_type": "stream",
     "text": [
      "cmd13.sc:1: reassignment to val\n",
      "val res13 = p4.name=\"sd\"\n",
      "                   ^"
     ]
    },
    {
     "ename": "",
     "evalue": "",
     "output_type": "error",
     "traceback": [
      "Compilation Failed"
     ]
    }
   ],
   "source": [
    "p4.name=\"sd\""
   ]
  },
  {
   "cell_type": "markdown",
   "metadata": {},
   "source": [
    "#### 4.3. Defining Auxiliary Constructors\n",
    "1. Define the auxiliary constructors as methods in the class with the name this"
   ]
  },
  {
   "cell_type": "code",
   "execution_count": 14,
   "metadata": {},
   "outputs": [
    {
     "data": {
      "text/plain": [
       "defined \u001b[32mclass\u001b[39m \u001b[36mPizza\u001b[39m\n",
       "defined \u001b[32mobject\u001b[39m \u001b[36mPizza\u001b[39m"
      ]
     },
     "execution_count": 14,
     "metadata": {},
     "output_type": "execute_result"
    }
   ],
   "source": [
    "class Pizza(var crustSize:Int,var crustType:String){\n",
    "    // one-arg auxiliary constructor\n",
    "    def this(crustSize:Int){\n",
    "        this(crustSize, Pizza.DEFAULT_CRUST_TYPE)\n",
    "    }\n",
    "    \n",
    "    // one-arg auxiliary constructor\n",
    "    def this(crustType:String){\n",
    "        this(Pizza.DEFAULT_CRUST_SIZE, crustType)\n",
    "    }\n",
    "     // zero-arg auxiliary constructor\n",
    "    def this(){\n",
    "        this(Pizza.DEFAULT_CRUST_SIZE, Pizza.DEFAULT_CRUST_TYPE)\n",
    "    }\n",
    "    override def toString = s\"A $crustSize inch pizza with a $crustType crust\"\n",
    "}\n",
    "object Pizza { \n",
    "        val DEFAULT_CRUST_SIZE = 12 \n",
    "        val DEFAULT_CRUST_TYPE = \"THIN\"\n",
    "    }"
   ]
  },
  {
   "cell_type": "code",
   "execution_count": 15,
   "metadata": {},
   "outputs": [
    {
     "data": {
      "text/plain": [
       "\u001b[36mp1\u001b[39m: \u001b[32mPizza\u001b[39m = A 12 inch pizza with a THIN crust\n",
       "\u001b[36mp2\u001b[39m: \u001b[32mPizza\u001b[39m = A 12 inch pizza with a THIN crust\n",
       "\u001b[36mp3\u001b[39m: \u001b[32mPizza\u001b[39m = A 12 inch pizza with a THIN crust\n",
       "\u001b[36mp4\u001b[39m: \u001b[32mPizza\u001b[39m = A 12 inch pizza with a THIN crust"
      ]
     },
     "execution_count": 15,
     "metadata": {},
     "output_type": "execute_result"
    }
   ],
   "source": [
    "val p1 = new Pizza(Pizza.DEFAULT_CRUST_SIZE, Pizza.DEFAULT_CRUST_TYPE)\n",
    "val p2 = new Pizza(Pizza.DEFAULT_CRUST_SIZE) \n",
    "val p3 = new Pizza(Pizza.DEFAULT_CRUST_TYPE)\n",
    "val p4 = new Pizza"
   ]
  },
  {
   "cell_type": "markdown",
   "metadata": {},
   "source": [
    "#### 4.4. Defining a Private Primary Constructor\n",
    "1. To make the primary constructor private, insert the private keyword in between the class name and any parameters the constructor accepts"
   ]
  },
  {
   "cell_type": "code",
   "execution_count": 16,
   "metadata": {},
   "outputs": [
    {
     "data": {
      "text/plain": [
       "defined \u001b[32mclass\u001b[39m \u001b[36mPriPerson\u001b[39m"
      ]
     },
     "execution_count": 16,
     "metadata": {},
     "output_type": "execute_result"
    }
   ],
   "source": [
    "class PriPerson private (var name:String)"
   ]
  },
  {
   "cell_type": "code",
   "execution_count": 16,
   "metadata": {},
   "outputs": [
    {
     "name": "stderr",
     "output_type": "stream",
     "text": [
      "cmd16.sc:1: constructor PriPerson in class PriPerson cannot be accessed in class Helper\n",
      "val p=new PriPerson(\"Leal\")\n",
      "      ^"
     ]
    },
    {
     "ename": "",
     "evalue": "",
     "output_type": "error",
     "traceback": [
      "Compilation Failed"
     ]
    }
   ],
   "source": [
    "val p=new PriPerson(\"Leal\")"
   ]
  },
  {
   "cell_type": "code",
   "execution_count": 20,
   "metadata": {},
   "outputs": [
    {
     "data": {
      "text/plain": [
       "defined \u001b[32mclass\u001b[39m \u001b[36mBrain\u001b[39m\n",
       "defined \u001b[32mobject\u001b[39m \u001b[36mBrain\u001b[39m"
      ]
     },
     "execution_count": 20,
     "metadata": {},
     "output_type": "execute_result"
    }
   ],
   "source": [
    "class Brain private(var name:String) { \n",
    "    override def toString = \"This is the brain.\"\n",
    "    def getName{\n",
    "        print(name)\n",
    "    }\n",
    "}\n",
    "object Brain { \n",
    "    val brain = new Brain(\"Leal\") \n",
    "    def getInstance = brain\n",
    "}"
   ]
  },
  {
   "cell_type": "code",
   "execution_count": 21,
   "metadata": {},
   "outputs": [
    {
     "data": {
      "text/plain": [
       "\u001b[36mres20\u001b[39m: \u001b[32mBrain\u001b[39m = This is the brain."
      ]
     },
     "execution_count": 21,
     "metadata": {},
     "output_type": "execute_result"
    }
   ],
   "source": [
    " Brain.getInstance "
   ]
  },
  {
   "cell_type": "code",
   "execution_count": 22,
   "metadata": {},
   "outputs": [
    {
     "name": "stdout",
     "output_type": "stream",
     "text": [
      "Leal"
     ]
    }
   ],
   "source": [
    "Brain.getInstance.getName"
   ]
  },
  {
   "cell_type": "markdown",
   "metadata": {},
   "source": [
    "#### 4.5. Providing Default Values for Constructor Parameters"
   ]
  },
  {
   "cell_type": "code",
   "execution_count": 23,
   "metadata": {},
   "outputs": [
    {
     "data": {
      "text/plain": [
       "defined \u001b[32mclass\u001b[39m \u001b[36mSocket\u001b[39m"
      ]
     },
     "execution_count": 23,
     "metadata": {},
     "output_type": "execute_result"
    }
   ],
   "source": [
    "class Socket(var timeOut:Int=10000)"
   ]
  },
  {
   "cell_type": "code",
   "execution_count": 24,
   "metadata": {},
   "outputs": [
    {
     "data": {
      "text/plain": [
       "\u001b[36ms\u001b[39m: \u001b[32mSocket\u001b[39m = $sess.cmd22Wrapper$Helper$Socket@55e77479\n",
       "\u001b[36mres23_1\u001b[39m: \u001b[32mInt\u001b[39m = \u001b[32m10000\u001b[39m"
      ]
     },
     "execution_count": 24,
     "metadata": {},
     "output_type": "execute_result"
    }
   ],
   "source": [
    "var s=new Socket\n",
    "s.timeOut"
   ]
  },
  {
   "cell_type": "code",
   "execution_count": 26,
   "metadata": {},
   "outputs": [
    {
     "data": {
      "text/plain": [
       "\u001b[36mres25_1\u001b[39m: \u001b[32mInt\u001b[39m = \u001b[32m5000\u001b[39m"
      ]
     },
     "execution_count": 26,
     "metadata": {},
     "output_type": "execute_result"
    }
   ],
   "source": [
    "s=new Socket(5000)\n",
    "s.timeOut"
   ]
  },
  {
   "cell_type": "code",
   "execution_count": 27,
   "metadata": {},
   "outputs": [
    {
     "data": {
      "text/plain": [
       "defined \u001b[32mclass\u001b[39m \u001b[36mSocket\u001b[39m"
      ]
     },
     "execution_count": 27,
     "metadata": {},
     "output_type": "execute_result"
    }
   ],
   "source": [
    "//nultiple parameters\n",
    "class Socket(val timeout: Int = 1000, val linger: Int = 2000) { \n",
    "    override def toString = s\"timeout: $timeout, linger: $linger\"\n",
    "}"
   ]
  },
  {
   "cell_type": "code",
   "execution_count": 29,
   "metadata": {},
   "outputs": [
    {
     "data": {
      "text/plain": [
       "\u001b[36mres28_0\u001b[39m: \u001b[32mSocket\u001b[39m = timeout: 1000, linger: 2000\n",
       "\u001b[36mres28_1\u001b[39m: \u001b[32mSocket\u001b[39m = timeout: 1, linger: 2000\n",
       "\u001b[36mres28_2\u001b[39m: \u001b[32mSocket\u001b[39m = timeout: 1, linger: 2"
      ]
     },
     "execution_count": 29,
     "metadata": {},
     "output_type": "execute_result"
    }
   ],
   "source": [
    "new Socket\n",
    "new Socket(1)\n",
    "new Socket(1,2)"
   ]
  },
  {
   "cell_type": "markdown",
   "metadata": {},
   "source": [
    "#### 4.6. Overriding Default Accessors and Mutators"
   ]
  },
  {
   "cell_type": "code",
   "execution_count": 31,
   "metadata": {},
   "outputs": [
    {
     "data": {
      "text/plain": [
       "defined \u001b[32mclass\u001b[39m \u001b[36mPerson\u001b[39m"
      ]
     },
     "execution_count": 31,
     "metadata": {},
     "output_type": "execute_result"
    }
   ],
   "source": [
    "class Person (private var _name:String){\n",
    "    //accessor\n",
    "    def name=_name\n",
    "    //mutator\n",
    "    def name_=(aName:String){\n",
    "        _name=name\n",
    "    }\n",
    "}"
   ]
  },
  {
   "cell_type": "code",
   "execution_count": 32,
   "metadata": {},
   "outputs": [
    {
     "data": {
      "text/plain": [
       "\u001b[36mp\u001b[39m: \u001b[32mPerson\u001b[39m = $sess.cmd30Wrapper$Helper$Person@15743237\n",
       "\u001b[36mres31_1\u001b[39m: \u001b[32mString\u001b[39m = \u001b[32m\"Leal\"\u001b[39m"
      ]
     },
     "execution_count": 32,
     "metadata": {},
     "output_type": "execute_result"
    }
   ],
   "source": [
    "val p=new Person(\"Leal\")\n",
    "p.name"
   ]
  },
  {
   "cell_type": "code",
   "execution_count": 33,
   "metadata": {},
   "outputs": [
    {
     "data": {
      "text/plain": [
       "\u001b[36mres32_1\u001b[39m: \u001b[32mString\u001b[39m = \u001b[32m\"Leal\"\u001b[39m"
      ]
     },
     "execution_count": 33,
     "metadata": {},
     "output_type": "execute_result"
    }
   ],
   "source": [
    "p.name=\"Jane\"\n",
    "p.name"
   ]
  },
  {
   "cell_type": "code",
   "execution_count": 5,
   "metadata": {},
   "outputs": [
    {
     "data": {
      "text/plain": [
       "defined \u001b[32mclass\u001b[39m \u001b[36mStock\u001b[39m"
      ]
     },
     "execution_count": 5,
     "metadata": {},
     "output_type": "execute_result"
    }
   ],
   "source": [
    "// intentionally left the 'private' modifier off _symbol \n",
    "class Stock (var _symbol: String) {\n",
    "    // getter \n",
    "    def symbol = _symbol\n",
    "    // setter \n",
    "    def symbol_= (s: String) { \n",
    "        this._symbol = s \n",
    "        println(s\"symbol was updated, new value is $symbol\")\n",
    "    }\n",
    "}"
   ]
  },
  {
   "cell_type": "code",
   "execution_count": 6,
   "metadata": {},
   "outputs": [
    {
     "data": {
      "text/plain": [
       "\u001b[36ms1\u001b[39m: \u001b[32mStock\u001b[39m = $sess.cmd4Wrapper$Helper$Stock@1975501a\n",
       "\u001b[36mres5_1\u001b[39m: \u001b[32mString\u001b[39m = \u001b[32m\"hs\"\u001b[39m"
      ]
     },
     "execution_count": 6,
     "metadata": {},
     "output_type": "execute_result"
    }
   ],
   "source": [
    "val s1=new Stock(\"hs\")\n",
    "s1.symbol"
   ]
  },
  {
   "cell_type": "code",
   "execution_count": 7,
   "metadata": {},
   "outputs": [
    {
     "name": "stdout",
     "output_type": "stream",
     "text": [
      "symbol was updated, new value is we\n"
     ]
    },
    {
     "data": {
      "text/plain": [
       "\u001b[36mres6_1\u001b[39m: \u001b[32mString\u001b[39m = \u001b[32m\"we\"\u001b[39m"
      ]
     },
     "execution_count": 7,
     "metadata": {},
     "output_type": "execute_result"
    }
   ],
   "source": [
    "s1.symbol=\"we\"\n",
    "s1.symbol"
   ]
  },
  {
   "cell_type": "markdown",
   "metadata": {},
   "source": [
    "#### 4.7. Preventing Getter and Setter Methods from Being Generated\n",
    "1. Define the field with the private or private[this] access modifiers"
   ]
  },
  {
   "cell_type": "code",
   "execution_count": 8,
   "metadata": {},
   "outputs": [
    {
     "data": {
      "text/plain": [
       "defined \u001b[32mclass\u001b[39m \u001b[36mStock\u001b[39m"
      ]
     },
     "execution_count": 8,
     "metadata": {},
     "output_type": "execute_result"
    }
   ],
   "source": [
    "class Stock { \n",
    "    // getter and setter methods are generated\n",
    "    var delayedPrice: Double = _\n",
    "    // keep this field hidden from other classes \n",
    "    private var currentPrice: Double = _\n",
    "}"
   ]
  },
  {
   "cell_type": "code",
   "execution_count": 9,
   "metadata": {},
   "outputs": [
    {
     "data": {
      "text/plain": [
       "\u001b[36ms1\u001b[39m: \u001b[32mStock\u001b[39m = $sess.cmd7Wrapper$Helper$Stock@7ce068ef\n",
       "\u001b[36mres8_2\u001b[39m: \u001b[32mDouble\u001b[39m = \u001b[32m123.34\u001b[39m"
      ]
     },
     "execution_count": 9,
     "metadata": {},
     "output_type": "execute_result"
    }
   ],
   "source": [
    "val s1=new Stock()\n",
    "s1.delayedPrice=123.34\n",
    "s1.delayedPrice"
   ]
  },
  {
   "cell_type": "code",
   "execution_count": 9,
   "metadata": {},
   "outputs": [
    {
     "name": "stderr",
     "output_type": "stream",
     "text": [
      "cmd9.sc:1: variable currentPrice in class Stock cannot be accessed in cmd9Wrapper.this.cmd8.cmd7.wrapper.Stock\n",
      "val res9_0 = s1.currentPrice=123.34\n",
      "                ^cmd9.sc:2: variable currentPrice in class Stock cannot be accessed in cmd9Wrapper.this.cmd8.cmd7.wrapper.Stock\n",
      "val res9_1 = s1.currentPrice\n",
      "                ^"
     ]
    },
    {
     "ename": "",
     "evalue": "",
     "output_type": "error",
     "traceback": [
      "Compilation Failed"
     ]
    }
   ],
   "source": [
    "s1.currentPrice=123.34\n",
    "s1.currentPrice"
   ]
  },
  {
   "cell_type": "code",
   "execution_count": 10,
   "metadata": {},
   "outputs": [
    {
     "data": {
      "text/plain": [
       "defined \u001b[32mclass\u001b[39m \u001b[36mStock1\u001b[39m"
      ]
     },
     "execution_count": 10,
     "metadata": {},
     "output_type": "execute_result"
    }
   ],
   "source": [
    "class Stock1{\n",
    "    private var _price:Double=_\n",
    "    def setPrice(p:Double){\n",
    "        _price=p\n",
    "    }\n",
    "    def isHigher(that: Stock1): Boolean = this._price > that._price\n",
    "}"
   ]
  },
  {
   "cell_type": "code",
   "execution_count": 11,
   "metadata": {},
   "outputs": [
    {
     "data": {
      "text/plain": [
       "\u001b[36ms1\u001b[39m: \u001b[32mStock1\u001b[39m = $sess.cmd9Wrapper$Helper$Stock1@1036c793"
      ]
     },
     "execution_count": 11,
     "metadata": {},
     "output_type": "execute_result"
    }
   ],
   "source": [
    "var s1=new Stock1\n",
    "s1.setPrice(12.32)\n",
    "// s._price"
   ]
  },
  {
   "cell_type": "code",
   "execution_count": 12,
   "metadata": {},
   "outputs": [
    {
     "data": {
      "text/plain": [
       "\u001b[36ms2\u001b[39m: \u001b[32mStock1\u001b[39m = $sess.cmd9Wrapper$Helper$Stock1@7ebbcb84\n",
       "\u001b[36mres11_2\u001b[39m: \u001b[32mBoolean\u001b[39m = \u001b[32mfalse\u001b[39m"
      ]
     },
     "execution_count": 12,
     "metadata": {},
     "output_type": "execute_result"
    }
   ],
   "source": [
    "var s2=new Stock1()\n",
    "s2.setPrice(23.23)\n",
    "s1.isHigher(s2)"
   ]
  },
  {
   "cell_type": "code",
   "execution_count": 12,
   "metadata": {},
   "outputs": [
    {
     "name": "stderr",
     "output_type": "stream",
     "text": [
      "cmd12.sc:6: variable _price in class Stock1 cannot be accessed in cmd12Wrapper.this.cmd9.wrapper.Stock1\n",
      "    def isHigher(that: Stock1): Boolean = this._price > that._price\n",
      "                                                             ^"
     ]
    },
    {
     "ename": "",
     "evalue": "",
     "output_type": "error",
     "traceback": [
      "Compilation Failed"
     ]
    }
   ],
   "source": [
    "class Stock2{\n",
    "    private[this] var _price:Double=_\n",
    "    def setPrice(p:Double){\n",
    "        _price=p\n",
    "    }\n",
    "    def isHigher(that: Stock1): Boolean = this._price > that._price\n",
    "}"
   ]
  },
  {
   "cell_type": "markdown",
   "metadata": {},
   "source": [
    "#### 4.8. Assigning a Field to a Block or Function"
   ]
  },
  {
   "cell_type": "code",
   "execution_count": 28,
   "metadata": {},
   "outputs": [
    {
     "data": {
      "text/plain": [
       "defined \u001b[32mclass\u001b[39m \u001b[36mFoo\u001b[39m"
      ]
     },
     "execution_count": 28,
     "metadata": {},
     "output_type": "execute_result"
    }
   ],
   "source": [
    "class Foo { \n",
    "    // set 'text' equal to the result of the block of code \n",
    "    val text = { \n",
    "        var lines = \"\" \n",
    "        try {\n",
    "        lines = io.Source.fromFile(\"/etc/passwd\").getLines.mkString\n",
    "        } catch { \n",
    "            case e: Exception => lines = \"Error happened\"\n",
    "        } \n",
    "        lines.take(10)\n",
    "    } \n",
    "    lazy val lazytext = io.Source.fromFile(\"/etc/passwd\").getLines.take(1).foreach(println)\n",
    "}"
   ]
  },
  {
   "cell_type": "code",
   "execution_count": 29,
   "metadata": {},
   "outputs": [
    {
     "name": "stdout",
     "output_type": "stream",
     "text": [
      "root:x:0:0:root:/root:/bin/bash\n"
     ]
    },
    {
     "data": {
      "text/plain": [
       "\u001b[36mf\u001b[39m: \u001b[32mFoo\u001b[39m = $sess.cmd27Wrapper$Helper$Foo@66953478\n",
       "\u001b[36mres28_1\u001b[39m: \u001b[32mString\u001b[39m = \u001b[32m\"root:x:0:0\"\u001b[39m"
      ]
     },
     "execution_count": 29,
     "metadata": {},
     "output_type": "execute_result"
    }
   ],
   "source": [
    "val f=new Foo()\n",
    "f.text\n",
    "f.lazytext"
   ]
  },
  {
   "cell_type": "markdown",
   "metadata": {},
   "source": [
    "#### 4.9. Setting Uninitialized var Field Types"
   ]
  },
  {
   "cell_type": "code",
   "execution_count": 30,
   "metadata": {},
   "outputs": [
    {
     "data": {
      "text/plain": [
       "defined \u001b[32mclass\u001b[39m \u001b[36mPerson\u001b[39m\n",
       "defined \u001b[32mclass\u001b[39m \u001b[36mAddress\u001b[39m"
      ]
     },
     "execution_count": 30,
     "metadata": {},
     "output_type": "execute_result"
    }
   ],
   "source": [
    "case class Person(var username: String, var password: String) {\n",
    "    var age = 0 \n",
    "    var firstName = \"\" \n",
    "    var lastName = \"\" \n",
    "    var address = None: Option[Address]\n",
    "}\n",
    "case class Address(city: String, state: String, zip: String)"
   ]
  },
  {
   "cell_type": "code",
   "execution_count": 31,
   "metadata": {},
   "outputs": [
    {
     "data": {
      "text/plain": [
       "\u001b[36mp\u001b[39m: \u001b[32mPerson\u001b[39m = \u001b[33mPerson\u001b[39m(\u001b[32m\"alvinalexander\"\u001b[39m, \u001b[32m\"secret\"\u001b[39m)"
      ]
     },
     "execution_count": 31,
     "metadata": {},
     "output_type": "execute_result"
    }
   ],
   "source": [
    "val p = Person(\"alvinalexander\", \"secret\") \n",
    "p.address = Some(Address(\"Talkeetna\", \"AK\", \"99676\"))"
   ]
  },
  {
   "cell_type": "code",
   "execution_count": 33,
   "metadata": {},
   "outputs": [
    {
     "name": "stdout",
     "output_type": "stream",
     "text": [
      "Address(Talkeetna,AK,99676)\n"
     ]
    }
   ],
   "source": [
    "p.address.foreach(println)"
   ]
  },
  {
   "cell_type": "markdown",
   "metadata": {},
   "source": [
    "#### 4.10. Handling Constructor Parameters When Extending a Class"
   ]
  },
  {
   "cell_type": "code",
   "execution_count": 34,
   "metadata": {},
   "outputs": [
    {
     "data": {
      "text/plain": [
       "defined \u001b[32mclass\u001b[39m \u001b[36mPerson\u001b[39m\n",
       "defined \u001b[32mclass\u001b[39m \u001b[36mEmployee\u001b[39m\n",
       "defined \u001b[32mclass\u001b[39m \u001b[36mAddress\u001b[39m"
      ]
     },
     "execution_count": 34,
     "metadata": {},
     "output_type": "execute_result"
    }
   ],
   "source": [
    "class Person (var name: String, var address: Address) { \n",
    "    override def toString = if (address == null) name else s\"$name @ $address\"\n",
    "}\n",
    "class Employee (name: String, address: Address, var age: Int) extends Person (name, address) { \n",
    "    // rest of the class\n",
    "}\n",
    "case class Address (city: String, state: String)"
   ]
  },
  {
   "cell_type": "code",
   "execution_count": 35,
   "metadata": {},
   "outputs": [
    {
     "data": {
      "text/plain": [
       "\u001b[36mteresa\u001b[39m: \u001b[32mEmployee\u001b[39m = Teresa @ Address(Louisville,KY)"
      ]
     },
     "execution_count": 35,
     "metadata": {},
     "output_type": "execute_result"
    }
   ],
   "source": [
    "val teresa = new Employee(\"Teresa\", Address(\"Louisville\", \"KY\"), 25)"
   ]
  },
  {
   "cell_type": "code",
   "execution_count": 36,
   "metadata": {},
   "outputs": [
    {
     "data": {
      "text/plain": [
       "\u001b[36mres35_0\u001b[39m: \u001b[32mString\u001b[39m = \u001b[32m\"Teresa\"\u001b[39m\n",
       "\u001b[36mres35_1\u001b[39m: \u001b[32mAddress\u001b[39m = \u001b[33mAddress\u001b[39m(\u001b[32m\"Louisville\"\u001b[39m, \u001b[32m\"KY\"\u001b[39m)\n",
       "\u001b[36mres35_2\u001b[39m: \u001b[32mInt\u001b[39m = \u001b[32m25\u001b[39m"
      ]
     },
     "execution_count": 36,
     "metadata": {},
     "output_type": "execute_result"
    }
   ],
   "source": [
    "teresa.name\n",
    "teresa.address\n",
    "teresa.age"
   ]
  },
  {
   "cell_type": "markdown",
   "metadata": {},
   "source": [
    "#### 4.11. Calling a Superclass Constructor"
   ]
  },
  {
   "cell_type": "code",
   "execution_count": 52,
   "metadata": {},
   "outputs": [
    {
     "data": {
      "text/plain": [
       "defined \u001b[32mclass\u001b[39m \u001b[36mAddress\u001b[39m\n",
       "defined \u001b[32mclass\u001b[39m \u001b[36mRole\u001b[39m\n",
       "defined \u001b[32mclass\u001b[39m \u001b[36mPerson\u001b[39m\n",
       "defined \u001b[32mclass\u001b[39m \u001b[36mEmployee\u001b[39m"
      ]
     },
     "execution_count": 52,
     "metadata": {},
     "output_type": "execute_result"
    }
   ],
   "source": [
    "//case Address\n",
    "case class Address (city: String, state: String) \n",
    "// case class Role\n",
    "case class Role (role: String)\n",
    "\n",
    "class Person (var name: String, var address: Address) {\n",
    "    // no way for Employee auxiliary constructors to call this constructor \n",
    "    def this (name: String) { \n",
    "        this(name, null) \n",
    "        address = null\n",
    "        println(\"call fa address\")\n",
    "    } \n",
    "    override def toString = if (address == null) name else s\"$name @ $address\" \n",
    "}\n",
    "\n",
    "class Employee (name: String, role: Role, address: Address) extends Person (name, address) {\n",
    "    def this (name: String) { \n",
    "        this(name, null, null)\n",
    "        println(\"call sub name\")\n",
    "    }\n",
    "    def this (name: String, role: Role) { \n",
    "        this(name, role, null)\n",
    "        println(\"call sub name&Role\")\n",
    "    }\n",
    "    def this (name: String, address: Address) { \n",
    "        this(name, null, address)\n",
    "        println(\"call sub name&Address\")\n",
    "    }\n",
    "}"
   ]
  },
  {
   "cell_type": "code",
   "execution_count": 49,
   "metadata": {},
   "outputs": [
    {
     "data": {
      "text/plain": [
       "\u001b[36me1\u001b[39m: \u001b[32mEmployee\u001b[39m = leal @ Address(Shenzhen,Guangdong)"
      ]
     },
     "execution_count": 49,
     "metadata": {},
     "output_type": "execute_result"
    }
   ],
   "source": [
    "var e1=new Employee(\"leal\",new Role(\"Software engineer\"),new Address(\"Shenzhen\",\"Guangdong\"))"
   ]
  },
  {
   "cell_type": "code",
   "execution_count": 53,
   "metadata": {},
   "outputs": [
    {
     "name": "stdout",
     "output_type": "stream",
     "text": [
      "call sub name&Role\n"
     ]
    },
    {
     "data": {
      "text/plain": [
       "\u001b[36me2\u001b[39m: \u001b[32mEmployee\u001b[39m = leal"
      ]
     },
     "execution_count": 53,
     "metadata": {},
     "output_type": "execute_result"
    }
   ],
   "source": [
    "var e2=new Employee(\"leal\",new Role(\"Software engineer\"))"
   ]
  },
  {
   "cell_type": "code",
   "execution_count": 54,
   "metadata": {},
   "outputs": [
    {
     "name": "stdout",
     "output_type": "stream",
     "text": [
      "call sub name\n"
     ]
    },
    {
     "data": {
      "text/plain": [
       "\u001b[36me3\u001b[39m: \u001b[32mEmployee\u001b[39m = leal"
      ]
     },
     "execution_count": 54,
     "metadata": {},
     "output_type": "execute_result"
    }
   ],
   "source": [
    "var e3=new Employee(\"leal\")"
   ]
  },
  {
   "cell_type": "code",
   "execution_count": 56,
   "metadata": {},
   "outputs": [
    {
     "name": "stdout",
     "output_type": "stream",
     "text": [
      "call sub name&Address\n"
     ]
    },
    {
     "data": {
      "text/plain": [
       "\u001b[36me4\u001b[39m: \u001b[32mEmployee\u001b[39m = leal @ Address(Shenzhen,Guangdong)"
      ]
     },
     "execution_count": 56,
     "metadata": {},
     "output_type": "execute_result"
    }
   ],
   "source": [
    "var e4=new Employee(\"leal\",new Address(\"Shenzhen\",\"Guangdong\"))"
   ]
  },
  {
   "cell_type": "code",
   "execution_count": 44,
   "metadata": {},
   "outputs": [
    {
     "data": {
      "text/plain": [
       "\u001b[36mres43_0\u001b[39m: \u001b[32mAddress\u001b[39m = \u001b[33mAddress\u001b[39m(\u001b[32m\"Shenzhen\"\u001b[39m, \u001b[32m\"Guangdong\"\u001b[39m)\n",
       "\u001b[36mres43_1\u001b[39m: \u001b[32mAddress\u001b[39m = null"
      ]
     },
     "execution_count": 44,
     "metadata": {},
     "output_type": "execute_result"
    }
   ],
   "source": [
    "e1.address\n",
    "e2.address"
   ]
  },
  {
   "cell_type": "markdown",
   "metadata": {},
   "source": [
    "#### 4.12. When to Use an Abstract Class\n",
    "1. You want to create a base class that requires constructor arguments. \n",
    "2. The code will be called from Java code.\n",
    "\n",
    "3. 优先使用特质。一个类扩展多个特质是很方便的，但却只能扩展一个抽象类。\n",
    "4. 如果你需要构造函数参数，使用抽象类。因为抽象类可以定义带参数的构造函数，而特质不行"
   ]
  },
  {
   "cell_type": "code",
   "execution_count": 56,
   "metadata": {},
   "outputs": [
    {
     "ename": "",
     "evalue": "",
     "output_type": "error",
     "traceback": [
      "SyntaxError: found \"(name:String)\", expected Semis | End | CharsWhile(scalaparse.syntax.Identifiers$$$Lambda$1768/824420552@31056538) at index 57",
      "trait Animal(name:String)",
      "            ^"
     ]
    }
   ],
   "source": [
    "// traits don’t allow constructor parameters\n",
    "trait Animal(name:String)"
   ]
  },
  {
   "cell_type": "code",
   "execution_count": 60,
   "metadata": {},
   "outputs": [
    {
     "data": {
      "text/plain": [
       "defined \u001b[32mclass\u001b[39m \u001b[36mAnimal\u001b[39m"
      ]
     },
     "execution_count": 60,
     "metadata": {},
     "output_type": "execute_result"
    }
   ],
   "source": [
    "abstract class Animal(var name:String,var age:Int)"
   ]
  },
  {
   "cell_type": "code",
   "execution_count": 64,
   "metadata": {},
   "outputs": [
    {
     "data": {
      "text/plain": [
       "defined \u001b[32mclass\u001b[39m \u001b[36mDog\u001b[39m"
      ]
     },
     "execution_count": 64,
     "metadata": {},
     "output_type": "execute_result"
    }
   ],
   "source": [
    "class Dog(name:String,age:Int,var action:String)extends Animal(name:String,age:Int){\n",
    "    def getAction(){\n",
    "        println(s\"$name Dog $age years olds, it's action is $action\")\n",
    "    }\n",
    "}"
   ]
  },
  {
   "cell_type": "code",
   "execution_count": 67,
   "metadata": {},
   "outputs": [
    {
     "name": "stdout",
     "output_type": "stream",
     "text": [
      "jason Dog 30 years olds, it's action is wangwang\n",
      "jason Dog 30 years olds, it's action is wangwang\n"
     ]
    },
    {
     "data": {
      "text/plain": [
       "\u001b[36md1\u001b[39m: \u001b[32mDog\u001b[39m = $sess.cmd63Wrapper$Helper$Dog@19da83e1\n",
       "\u001b[36mres66_2\u001b[39m: \u001b[32mString\u001b[39m = \u001b[32m\"jason\"\u001b[39m"
      ]
     },
     "execution_count": 67,
     "metadata": {},
     "output_type": "execute_result"
    }
   ],
   "source": [
    "val d1=new Dog(\"jason\",30,\"wangwang\")\n",
    "d1.getAction\n",
    "d1.name\n",
    "d1.name=\"lijing\"\n",
    "d1.getAction"
   ]
  },
  {
   "cell_type": "code",
   "execution_count": 57,
   "metadata": {},
   "outputs": [
    {
     "name": "stderr",
     "output_type": "stream",
     "text": [
      "cmd57.sc:1: not found: type Database\n",
      "abstract class BaseController(db: Database) { \n",
      "                                  ^"
     ]
    },
    {
     "ename": "",
     "evalue": "",
     "output_type": "error",
     "traceback": [
      "Compilation Failed"
     ]
    }
   ],
   "source": [
    "abstract class BaseController(db: Database) { \n",
    "    def save { db.save } \n",
    "    def update { db.update } \n",
    "    def delete { db.delete }\n",
    "    // abstract def connect\n",
    "    // an abstract method that returns a String \n",
    "    def getStatus: String\n",
    "    // an abstract method that takes a parameter \n",
    "    def setServerName(serverName: String)\n",
    "}"
   ]
  },
  {
   "cell_type": "markdown",
   "metadata": {},
   "source": [
    "#### 4.13. Defining Properties in an Abstract Base Class (or Trait)"
   ]
  },
  {
   "cell_type": "code",
   "execution_count": 68,
   "metadata": {},
   "outputs": [
    {
     "data": {
      "text/plain": [
       "defined \u001b[32mclass\u001b[39m \u001b[36mPet\u001b[39m"
      ]
     },
     "execution_count": 68,
     "metadata": {},
     "output_type": "execute_result"
    }
   ],
   "source": [
    "abstract class Pet (name: String) { \n",
    "    val greeting: String \n",
    "    var age: Int \n",
    "    def sayHello { \n",
    "        println(greeting) \n",
    "    } \n",
    "    override def toString = s\"I say $greeting, and I'm $age\"\n",
    "}"
   ]
  },
  {
   "cell_type": "code",
   "execution_count": 69,
   "metadata": {},
   "outputs": [
    {
     "data": {
      "text/plain": [
       "defined \u001b[32mclass\u001b[39m \u001b[36mDog\u001b[39m\n",
       "defined \u001b[32mclass\u001b[39m \u001b[36mCat\u001b[39m"
      ]
     },
     "execution_count": 69,
     "metadata": {},
     "output_type": "execute_result"
    }
   ],
   "source": [
    "class Dog(name:String) extends Pet(name){\n",
    "    val greeting=\"Woof\"\n",
    "    var age=2\n",
    "}\n",
    "class Cat(name:String) extends Pet(name){\n",
    "    val greeting=\"Neow\"\n",
    "    var age=5\n",
    "}"
   ]
  },
  {
   "cell_type": "code",
   "execution_count": 74,
   "metadata": {},
   "outputs": [
    {
     "name": "stdout",
     "output_type": "stream",
     "text": [
      "Woof\n"
     ]
    },
    {
     "data": {
      "text/plain": [
       "\u001b[36md1\u001b[39m: \u001b[32mDog\u001b[39m = I say Woof, and I'm 2\n",
       "\u001b[36mres73_2\u001b[39m: \u001b[32mDog\u001b[39m = I say Woof, and I'm 2"
      ]
     },
     "execution_count": 74,
     "metadata": {},
     "output_type": "execute_result"
    }
   ],
   "source": [
    "val d1=new Dog(\"jason\")\n",
    "d1.sayHello\n",
    "d1"
   ]
  },
  {
   "cell_type": "code",
   "execution_count": 77,
   "metadata": {},
   "outputs": [
    {
     "name": "stdout",
     "output_type": "stream",
     "text": [
      "Neow\n"
     ]
    },
    {
     "data": {
      "text/plain": [
       "\u001b[36md2\u001b[39m: \u001b[32mCat\u001b[39m = I say Neow, and I'm 5\n",
       "\u001b[36mres76_2\u001b[39m: \u001b[32mCat\u001b[39m = I say Neow, and I'm 5"
      ]
     },
     "execution_count": 77,
     "metadata": {},
     "output_type": "execute_result"
    }
   ],
   "source": [
    "val d2=new Cat(\"lijing\")\n",
    "d2.sayHello\n",
    "d2"
   ]
  },
  {
   "cell_type": "code",
   "execution_count": 78,
   "metadata": {},
   "outputs": [
    {
     "data": {
      "text/plain": [
       "\u001b[36mres77_1\u001b[39m: \u001b[32mCat\u001b[39m = I say Neow, and I'm 10"
      ]
     },
     "execution_count": 78,
     "metadata": {},
     "output_type": "execute_result"
    }
   ],
   "source": [
    "d2.age=10\n",
    "d2"
   ]
  },
  {
   "cell_type": "code",
   "execution_count": 83,
   "metadata": {},
   "outputs": [
    {
     "data": {
      "text/plain": [
       "defined \u001b[32mclass\u001b[39m \u001b[36mAnimal\u001b[39m\n",
       "defined \u001b[32mclass\u001b[39m \u001b[36mPig\u001b[39m"
      ]
     },
     "execution_count": 83,
     "metadata": {},
     "output_type": "execute_result"
    }
   ],
   "source": [
    "abstract class Animal { \n",
    "    val greeting = { \n",
    "        println(\"Animal\")\n",
    "        \"Hello Animal\" \n",
    "    }\n",
    "}\n",
    "class Pig extends Animal{\n",
    "    override val greeting={\n",
    "        println(\"Pig\")\n",
    "        \"Hello Pig\"\n",
    "    }\n",
    "}"
   ]
  },
  {
   "cell_type": "code",
   "execution_count": 80,
   "metadata": {},
   "outputs": [
    {
     "name": "stdout",
     "output_type": "stream",
     "text": [
      "Animal\n",
      "Pig\n"
     ]
    },
    {
     "data": {
      "text/plain": [
       "\u001b[36mres79\u001b[39m: \u001b[32mPig\u001b[39m = $sess.cmd78Wrapper$Helper$Pig@6238cad2"
      ]
     },
     "execution_count": 80,
     "metadata": {},
     "output_type": "execute_result"
    }
   ],
   "source": [
    "new Pig"
   ]
  },
  {
   "cell_type": "code",
   "execution_count": 84,
   "metadata": {},
   "outputs": [
    {
     "name": "stdout",
     "output_type": "stream",
     "text": [
      "Animal\n",
      "Pig\n"
     ]
    },
    {
     "data": {
      "text/plain": [
       "\u001b[36mp\u001b[39m: \u001b[32mPig\u001b[39m = $sess.cmd82Wrapper$Helper$Pig@2add8a02\n",
       "\u001b[36mres83_1\u001b[39m: \u001b[32mString\u001b[39m = \u001b[32m\"Hello Pig\"\u001b[39m"
      ]
     },
     "execution_count": 84,
     "metadata": {},
     "output_type": "execute_result"
    }
   ],
   "source": [
    "val p=new Pig\n",
    "p.greeting"
   ]
  },
  {
   "cell_type": "code",
   "execution_count": 85,
   "metadata": {},
   "outputs": [
    {
     "data": {
      "text/plain": [
       "defined \u001b[32mtrait\u001b[39m \u001b[36mAnimal\u001b[39m\n",
       "defined \u001b[32mclass\u001b[39m \u001b[36mDog\u001b[39m"
      ]
     },
     "execution_count": 85,
     "metadata": {},
     "output_type": "execute_result"
    }
   ],
   "source": [
    "trait Animal {\n",
    "    val greeting: Option[String] \n",
    "    var age: Option[Int] = None \n",
    "    override def toString = s\"I say $greeting, and I'm $age years old.\"\n",
    "}\n",
    "class Dog extends Animal { \n",
    "    val greeting = Some(\"Woof\") \n",
    "    age = Some(2)\n",
    "}"
   ]
  },
  {
   "cell_type": "code",
   "execution_count": 87,
   "metadata": {},
   "outputs": [
    {
     "data": {
      "text/plain": [
       "\u001b[36md\u001b[39m: \u001b[32mDog\u001b[39m = I say Some(Woof), and I'm Some(2) years old.\n",
       "\u001b[36mres86_1\u001b[39m: \u001b[32mOption\u001b[39m[\u001b[32mInt\u001b[39m] = \u001b[33mSome\u001b[39m(\u001b[32m2\u001b[39m)"
      ]
     },
     "execution_count": 87,
     "metadata": {},
     "output_type": "execute_result"
    }
   ],
   "source": [
    "val d=new Dog\n",
    "d.age"
   ]
  },
  {
   "cell_type": "code",
   "execution_count": 88,
   "metadata": {},
   "outputs": [
    {
     "data": {
      "text/plain": [
       "\u001b[36mres87\u001b[39m: \u001b[32mAny\u001b[39m = 2"
      ]
     },
     "execution_count": 88,
     "metadata": {},
     "output_type": "execute_result"
    }
   ],
   "source": [
    "d.age.getOrElse(\"null\")"
   ]
  },
  {
   "cell_type": "markdown",
   "metadata": {},
   "source": [
    "#### 4.14. Generating Boilerplate Code with Case Classes\n",
    "- An apply method is generated, so you don’t need to use the new keyword to create a new instance of the class.\n",
    "- Accessor methods are generated for the constructor parameters because case class constructor parameters are val by default. Mutator methods are also generated for parameters declared as var.\n",
    "- A good, default toString method is generated. • An unapply method is generated, making it easy to use case classes in match ex‐ pressions.\n",
    "- equals and hashCode methods are generated.\n",
    "- A copy method is generated"
   ]
  },
  {
   "cell_type": "code",
   "execution_count": 93,
   "metadata": {},
   "outputs": [
    {
     "data": {
      "text/plain": [
       "defined \u001b[32mclass\u001b[39m \u001b[36mPerson\u001b[39m"
      ]
     },
     "execution_count": 93,
     "metadata": {},
     "output_type": "execute_result"
    }
   ],
   "source": [
    " case class Person(name: String, relation: String)"
   ]
  },
  {
   "cell_type": "code",
   "execution_count": 94,
   "metadata": {},
   "outputs": [
    {
     "data": {
      "text/plain": [
       "\u001b[36memily\u001b[39m: \u001b[32mPerson\u001b[39m = \u001b[33mPerson\u001b[39m(\u001b[32m\"Emily\"\u001b[39m, \u001b[32m\"niece\"\u001b[39m)\n",
       "\u001b[36mres93_1\u001b[39m: \u001b[32mString\u001b[39m = \u001b[32m\"Emily\"\u001b[39m"
      ]
     },
     "execution_count": 94,
     "metadata": {},
     "output_type": "execute_result"
    }
   ],
   "source": [
    "//\"new\" don't need before Person\n",
    "val emily = Person(\"Emily\", \"niece\")\n",
    "emily.name"
   ]
  },
  {
   "cell_type": "code",
   "execution_count": 94,
   "metadata": {},
   "outputs": [
    {
     "name": "stderr",
     "output_type": "stream",
     "text": [
      "cmd94.sc:1: reassignment to val\n",
      "val res94 = emily.name=\"leal\"\n",
      "                      ^"
     ]
    },
    {
     "ename": "",
     "evalue": "",
     "output_type": "error",
     "traceback": [
      "Compilation Failed"
     ]
    }
   ],
   "source": [
    "//默认是val\n",
    "emily.name=\"leal\""
   ]
  },
  {
   "cell_type": "code",
   "execution_count": 95,
   "metadata": {},
   "outputs": [
    {
     "name": "stdout",
     "output_type": "stream",
     "text": [
      "(Emily,niece)\n"
     ]
    }
   ],
   "source": [
    "emily match { case Person(n, r) => println(n, r) }"
   ]
  },
  {
   "cell_type": "code",
   "execution_count": 96,
   "metadata": {},
   "outputs": [
    {
     "data": {
      "text/plain": [
       "\u001b[36mhannah\u001b[39m: \u001b[32mPerson\u001b[39m = \u001b[33mPerson\u001b[39m(\u001b[32m\"Hannah\"\u001b[39m, \u001b[32m\"niece\"\u001b[39m)\n",
       "\u001b[36mres95_1\u001b[39m: \u001b[32mBoolean\u001b[39m = \u001b[32mfalse\u001b[39m"
      ]
     },
     "execution_count": 96,
     "metadata": {},
     "output_type": "execute_result"
    }
   ],
   "source": [
    "val hannah = Person(\"Hannah\", \"niece\")\n",
    "emily == hannah"
   ]
  },
  {
   "cell_type": "code",
   "execution_count": 97,
   "metadata": {},
   "outputs": [
    {
     "data": {
      "text/plain": [
       "\u001b[36mtcole\u001b[39m: \u001b[32mPerson\u001b[39m = \u001b[33mPerson\u001b[39m(\u001b[32m\"leal\"\u001b[39m, \u001b[32m\"niece\"\u001b[39m)"
      ]
     },
     "execution_count": 97,
     "metadata": {},
     "output_type": "execute_result"
    }
   ],
   "source": [
    "//case can create copy method\n",
    "val tcole=hannah.copy(name=\"leal\")"
   ]
  },
  {
   "cell_type": "markdown",
   "metadata": {},
   "source": [
    "#### 4.15. Defining an equals Method (Object Equality)"
   ]
  },
  {
   "cell_type": "code",
   "execution_count": 98,
   "metadata": {},
   "outputs": [
    {
     "data": {
      "text/plain": [
       "defined \u001b[32mclass\u001b[39m \u001b[36mPerson\u001b[39m"
      ]
     },
     "execution_count": 98,
     "metadata": {},
     "output_type": "execute_result"
    }
   ],
   "source": [
    "class Person (name: String, age: Int) { \n",
    "    def canEqual(a: Any) = a.isInstanceOf[Person]\n",
    "    \n",
    "    override def equals(that: Any): Boolean = that match { \n",
    "        case that: Person => that.canEqual(this) && this.hashCode == that.hashCode case _ => false\n",
    "    }\n",
    "    override def hashCode:Int = { \n",
    "        val prime = 31 \n",
    "        var result = 1 \n",
    "        result = prime * result + age\n",
    "        result = prime * result + (if (name == null) 0 else name.hashCode) \n",
    "        return result\n",
    "    }\n",
    "}"
   ]
  },
  {
   "cell_type": "code",
   "execution_count": 99,
   "metadata": {},
   "outputs": [
    {
     "data": {
      "text/plain": [
       "\u001b[36mnimoy\u001b[39m: \u001b[32mPerson\u001b[39m = $sess.cmd97Wrapper$Helper$Person@b3ef26c6\n",
       "\u001b[36mnimoy2\u001b[39m: \u001b[32mPerson\u001b[39m = $sess.cmd97Wrapper$Helper$Person@b3ef26c6\n",
       "\u001b[36mshatner\u001b[39m: \u001b[32mPerson\u001b[39m = $sess.cmd97Wrapper$Helper$Person@a855eee5\n",
       "\u001b[36med\u001b[39m: \u001b[32mPerson\u001b[39m = $sess.cmd97Wrapper$Helper$Person@7d6411b8"
      ]
     },
     "execution_count": 99,
     "metadata": {},
     "output_type": "execute_result"
    }
   ],
   "source": [
    "// these first two instances should be equal \n",
    "val nimoy = new Person(\"Leonard Nimoy\", 82) \n",
    "val nimoy2 = new Person(\"Leonard Nimoy\", 82) \n",
    "val shatner = new Person(\"William Shatner\", 82) \n",
    "val ed = new Person(\"Ed Chigliak\", 20)"
   ]
  },
  {
   "cell_type": "code",
   "execution_count": 99,
   "metadata": {},
   "outputs": [
    {
     "name": "stderr",
     "output_type": "stream",
     "text": [
      "cmd99.sc:1: object scalatest is not a member of package org\n",
      "import org.scalatest.FunSuite\n",
      "           ^"
     ]
    },
    {
     "ename": "",
     "evalue": "",
     "output_type": "error",
     "traceback": [
      "Compilation Failed"
     ]
    }
   ],
   "source": [
    "import org.scalatest.FunSuite\n",
    "    // all tests pass \n",
    "assert(nimoy == nimoy)\n",
    "assert(nimoy == nimoy2)\n",
    "assert(nimoy2 == nimoy)\n",
    "assert(nimoy != shatner)\n",
    "assert(shatner != nimoy)\n",
    "assert(nimoy != null)\n",
    "assert(nimoy != \"Leonard Nimoy\")\n",
    "assert(nimoy != ed)"
   ]
  },
  {
   "cell_type": "markdown",
   "metadata": {},
   "source": [
    "#### 4.16. Creating Inner Classes"
   ]
  },
  {
   "cell_type": "code",
   "execution_count": 102,
   "metadata": {},
   "outputs": [
    {
     "data": {
      "text/plain": [
       "defined \u001b[32mclass\u001b[39m \u001b[36mPandorasBox\u001b[39m"
      ]
     },
     "execution_count": 102,
     "metadata": {},
     "output_type": "execute_result"
    }
   ],
   "source": [
    "class PandorasBox {\n",
    "    case class Thing (name: String)\n",
    "    var things = new collection.mutable.ArrayBuffer[Thing]() \n",
    "    things += Thing(\"Evil Thing #1\") \n",
    "    things += Thing(\"Evil Thing #2\")\n",
    "//     def addThing(name: String) { \n",
    "//         things += new Thing(name) \n",
    "//     }\n",
    "}"
   ]
  },
  {
   "cell_type": "code",
   "execution_count": 103,
   "metadata": {},
   "outputs": [
    {
     "name": "stdout",
     "output_type": "stream",
     "text": [
      "Thing(Evil Thing #1)\n",
      "Thing(Evil Thing #2)\n"
     ]
    },
    {
     "data": {
      "text/plain": [
       "\u001b[36mp\u001b[39m: \u001b[32mPandorasBox\u001b[39m = $sess.cmd101Wrapper$Helper$PandorasBox@7450bb70"
      ]
     },
     "execution_count": 103,
     "metadata": {},
     "output_type": "execute_result"
    }
   ],
   "source": [
    "val p = new PandorasBox \n",
    "p.things.foreach(println)"
   ]
  },
  {
   "cell_type": "code",
   "execution_count": 104,
   "metadata": {},
   "outputs": [
    {
     "data": {
      "text/plain": [
       "defined \u001b[32mclass\u001b[39m \u001b[36mOuterClass\u001b[39m"
      ]
     },
     "execution_count": 104,
     "metadata": {},
     "output_type": "execute_result"
    }
   ],
   "source": [
    "class OuterClass { \n",
    "    class InnerClass {\n",
    "        var x = 1\n",
    "    }\n",
    "}"
   ]
  },
  {
   "cell_type": "code",
   "execution_count": 105,
   "metadata": {},
   "outputs": [
    {
     "data": {
      "text/plain": [
       "\u001b[36moc1\u001b[39m: \u001b[32mOuterClass\u001b[39m = $sess.cmd103Wrapper$Helper$OuterClass@5ec6113f\n",
       "\u001b[36moc2\u001b[39m: \u001b[32mOuterClass\u001b[39m = $sess.cmd103Wrapper$Helper$OuterClass@77649d86\n",
       "\u001b[36mic1\u001b[39m: \u001b[32moc1\u001b[39m.\u001b[32mInnerClass\u001b[39m = $sess.cmd103Wrapper$Helper$OuterClass$InnerClass@66f5fb4d\n",
       "\u001b[36mic2\u001b[39m: \u001b[32moc2\u001b[39m.\u001b[32mInnerClass\u001b[39m = $sess.cmd103Wrapper$Helper$OuterClass$InnerClass@2cc368eb"
      ]
     },
     "execution_count": 105,
     "metadata": {},
     "output_type": "execute_result"
    }
   ],
   "source": [
    "val oc1 = new OuterClass \n",
    "val oc2 = new OuterClass \n",
    "val ic1 = new oc1.InnerClass \n",
    "val ic2 = new oc2.InnerClass \n",
    "ic1.x = 10 \n",
    "ic2.x = 20 "
   ]
  },
  {
   "cell_type": "code",
   "execution_count": 106,
   "metadata": {},
   "outputs": [
    {
     "data": {
      "text/plain": [
       "\u001b[36mres105\u001b[39m: \u001b[32mInt\u001b[39m = \u001b[32m10\u001b[39m"
      ]
     },
     "execution_count": 106,
     "metadata": {},
     "output_type": "execute_result"
    }
   ],
   "source": [
    "ic1.x"
   ]
  },
  {
   "cell_type": "code",
   "execution_count": 107,
   "metadata": {},
   "outputs": [
    {
     "data": {
      "text/plain": [
       "\u001b[36mres106\u001b[39m: \u001b[32mInt\u001b[39m = \u001b[32m20\u001b[39m"
      ]
     },
     "execution_count": 107,
     "metadata": {},
     "output_type": "execute_result"
    }
   ],
   "source": [
    "ic2.x"
   ]
  },
  {
   "cell_type": "code",
   "execution_count": 107,
   "metadata": {},
   "outputs": [
    {
     "name": "stderr",
     "output_type": "stream",
     "text": [
      "cmd107.sc:1: value InnerClass is not a member of cmd107Wrapper.this.cmd103.wrapper.OuterClass\n",
      "val res107 = new OuterClass().InnerClass.x\n",
      "                              ^"
     ]
    },
    {
     "ename": "",
     "evalue": "",
     "output_type": "error",
     "traceback": [
      "Compilation Failed"
     ]
    }
   ],
   "source": [
    "new OuterClass().InnerClass.x"
   ]
  },
  {
   "cell_type": "code",
   "execution_count": null,
   "metadata": {},
   "outputs": [],
   "source": []
  }
 ],
 "metadata": {
  "kernelspec": {
   "display_name": "Scala",
   "language": "scala",
   "name": "scala"
  },
  "language_info": {
   "codemirror_mode": "text/x-scala",
   "file_extension": ".scala",
   "mimetype": "text/x-scala",
   "name": "scala212",
   "nbconvert_exporter": "script",
   "pygments_lexer": "scala",
   "version": "2.12.2"
  }
 },
 "nbformat": 4,
 "nbformat_minor": 2
}
